{
 "cells": [
  {
   "cell_type": "code",
   "execution_count": null,
   "source": [
    "import pandas as pd\r\n",
    "import plotly.express as px\r\n",
    "import os\r\n",
    "from vaderSentiment.vaderSentiment import SentimentIntensityAnalyzer\r\n",
    "from sentimentr.sentimentr import Sentiment as sentimentr\r\n",
    "from datetime import datetime as dt\r\n",
    "from nltk import tokenize\r\n",
    "from fuzzywuzzy import fuzz\r\n",
    "from fuzzywuzzy import process\r\n",
    "\r\n",
    "\r\n",
    "def leaderFuzzySearch(sentence, name):\r\n",
    "    top_set_match = process.extract(sentence, name, scorer=fuzz.token_set_ratio)\r\n",
    "\r\n",
    "    for alias in top_set_match:\r\n",
    "        print(alias)\r\n",
    "        if alias[1] >= 90:\r\n",
    "            return True\r\n",
    "        else:\r\n",
    "            continue\r\n",
    "    return False\r\n",
    "\r\n",
    "leader_of_interest = \"gillard\"\r\n",
    "date_format = '%d-%b-%y'\r\n",
    "custom_date_parser = lambda x: dt.strptime(x, date_format)\r\n",
    "\r\n",
    "print(os.getcwd())\r\n",
    "resolved_df = pd.read_csv('../02_Coreference_Resolution/leader_resolved/gillard_resolved_ccode-900_leadid-A30-218_temp.csv')\r\n",
    "\r\n",
    "\r\n",
    "resolved_df['article_id'] = resolved_df.reset_index().index\r\n",
    "print(len(resolved_df))\r\n",
    "\r\n",
    "\r\n",
    "\r\n",
    "sentences_df  = pd.DataFrame([], columns=['article_id', 'sentence'])\r\n",
    "for row in resolved_df.index.tolist():\r\n",
    "    id = resolved_df.loc[row, 'article_id']\r\n",
    "    resolved_text = resolved_df.loc[row, 'resolved_text']\r\n",
    "    sentence_list = tokenize.sent_tokenize(resolved_text)\r\n",
    "    sentence_df = pd.DataFrame({\"sentence\" : sentence_list})\r\n",
    "    sentence_df['article_id'] = id\r\n",
    "\r\n",
    "    sentences_df = pd.concat([sentences_df, sentence_df], ignore_index=True)\r\n",
    "\r\n",
    "resolved_df = pd.merge(resolved_df, sentences_df, how='left', on='article_id')\r\n",
    "resolved_df['leader_sentence_dummy'] = resolved_df.apply(lambda row: \"GILLARD\" if leader_of_interest in row.sentence.lower() else \"OTHER\", axis=1)\r\n",
    "\r\n",
    "\r\n",
    "analyzer = SentimentIntensityAnalyzer()\r\n",
    "\r\n",
    "print(resolved_df['leader_sentence_dummy'].unique())\r\n",
    "# print(resolved_df.tail(5))\r\n",
    "\r\n",
    "resolved_df['vader_comp_score'] = resolved_df['sentence'].apply(lambda row: analyzer.polarity_scores(row)['compound'])\r\n",
    "resolved_df['sentimentr_comp_score'] = resolved_df['sentence'].apply(lambda row: sentimentr.get_polarity_score(row))\r\n",
    "# DIFFERENCE = VADER - SENTIMENTR \r\n",
    "resolved_df['vader_sentimentr_diff'] = resolved_df.vader_comp_score - resolved_df.sentimentr_comp_score \r\n",
    "\r\n",
    "\r\n",
    "print(resolved_df.tail(5))\r\n"
   ],
   "outputs": [],
   "metadata": {}
  },
  {
   "cell_type": "code",
   "execution_count": 6,
   "source": [
    "resolved_df['date'] = pd.to_datetime(resolved_df['date'])"
   ],
   "outputs": [],
   "metadata": {}
  },
  {
   "cell_type": "code",
   "execution_count": null,
   "source": [
    "\r\n",
    "fig = px.scatter(resolved_df, x=\"date\", y=\"vader_sentimentr_diff\", color=\"leader_sentence_dummy\", trendline='lowess', trendline_options=dict(frac=1))\r\n",
    "\r\n",
    "fig.show()\r\n",
    "\r\n",
    "\r\n",
    "\r\n"
   ],
   "outputs": [],
   "metadata": {}
  },
  {
   "cell_type": "code",
   "execution_count": 29,
   "source": [
    "entity_level_df = resolved_df.groupby(by=['article_id', 'leader_sentence_dummy', 'date']).mean()\r\n",
    "entity_level_df.reset_index(inplace=True)\r\n",
    "entity_level_df"
   ],
   "outputs": [
    {
     "output_type": "execute_result",
     "data": {
      "text/html": [
       "<div>\n",
       "<style scoped>\n",
       "    .dataframe tbody tr th:only-of-type {\n",
       "        vertical-align: middle;\n",
       "    }\n",
       "\n",
       "    .dataframe tbody tr th {\n",
       "        vertical-align: top;\n",
       "    }\n",
       "\n",
       "    .dataframe thead th {\n",
       "        text-align: right;\n",
       "    }\n",
       "</style>\n",
       "<table border=\"1\" class=\"dataframe\">\n",
       "  <thead>\n",
       "    <tr style=\"text-align: right;\">\n",
       "      <th></th>\n",
       "      <th>article_id</th>\n",
       "      <th>leader_sentence_dummy</th>\n",
       "      <th>date</th>\n",
       "      <th>ccode</th>\n",
       "      <th>coreference_resolved_ind</th>\n",
       "      <th>number_spans_replaced</th>\n",
       "      <th>gillard</th>\n",
       "      <th>vader_comp_score</th>\n",
       "      <th>sentimentr_comp_score</th>\n",
       "      <th>vader_sentimentr_diff</th>\n",
       "    </tr>\n",
       "  </thead>\n",
       "  <tbody>\n",
       "    <tr>\n",
       "      <th>0</th>\n",
       "      <td>0</td>\n",
       "      <td>GILLARD</td>\n",
       "      <td>2010-06-19</td>\n",
       "      <td>900</td>\n",
       "      <td>True</td>\n",
       "      <td>2</td>\n",
       "      <td>True</td>\n",
       "      <td>0.263350</td>\n",
       "      <td>0.032450</td>\n",
       "      <td>0.230900</td>\n",
       "    </tr>\n",
       "    <tr>\n",
       "      <th>1</th>\n",
       "      <td>0</td>\n",
       "      <td>OTHER</td>\n",
       "      <td>2010-06-19</td>\n",
       "      <td>900</td>\n",
       "      <td>True</td>\n",
       "      <td>2</td>\n",
       "      <td>True</td>\n",
       "      <td>-0.089315</td>\n",
       "      <td>-0.032469</td>\n",
       "      <td>-0.056846</td>\n",
       "    </tr>\n",
       "    <tr>\n",
       "      <th>2</th>\n",
       "      <td>1</td>\n",
       "      <td>GILLARD</td>\n",
       "      <td>2010-06-19</td>\n",
       "      <td>900</td>\n",
       "      <td>True</td>\n",
       "      <td>26</td>\n",
       "      <td>True</td>\n",
       "      <td>0.054750</td>\n",
       "      <td>-0.024200</td>\n",
       "      <td>0.078950</td>\n",
       "    </tr>\n",
       "    <tr>\n",
       "      <th>3</th>\n",
       "      <td>1</td>\n",
       "      <td>OTHER</td>\n",
       "      <td>2010-06-19</td>\n",
       "      <td>900</td>\n",
       "      <td>True</td>\n",
       "      <td>26</td>\n",
       "      <td>True</td>\n",
       "      <td>0.010243</td>\n",
       "      <td>-0.023793</td>\n",
       "      <td>0.034037</td>\n",
       "    </tr>\n",
       "    <tr>\n",
       "      <th>4</th>\n",
       "      <td>2</td>\n",
       "      <td>GILLARD</td>\n",
       "      <td>2010-07-10</td>\n",
       "      <td>900</td>\n",
       "      <td>True</td>\n",
       "      <td>24</td>\n",
       "      <td>True</td>\n",
       "      <td>0.087387</td>\n",
       "      <td>-0.043153</td>\n",
       "      <td>0.130540</td>\n",
       "    </tr>\n",
       "    <tr>\n",
       "      <th>...</th>\n",
       "      <td>...</td>\n",
       "      <td>...</td>\n",
       "      <td>...</td>\n",
       "      <td>...</td>\n",
       "      <td>...</td>\n",
       "      <td>...</td>\n",
       "      <td>...</td>\n",
       "      <td>...</td>\n",
       "      <td>...</td>\n",
       "      <td>...</td>\n",
       "    </tr>\n",
       "    <tr>\n",
       "      <th>155</th>\n",
       "      <td>77</td>\n",
       "      <td>OTHER</td>\n",
       "      <td>2013-08-31</td>\n",
       "      <td>900</td>\n",
       "      <td>True</td>\n",
       "      <td>4</td>\n",
       "      <td>True</td>\n",
       "      <td>0.136919</td>\n",
       "      <td>0.014772</td>\n",
       "      <td>0.122147</td>\n",
       "    </tr>\n",
       "    <tr>\n",
       "      <th>156</th>\n",
       "      <td>78</td>\n",
       "      <td>GILLARD</td>\n",
       "      <td>2013-08-31</td>\n",
       "      <td>900</td>\n",
       "      <td>True</td>\n",
       "      <td>4</td>\n",
       "      <td>True</td>\n",
       "      <td>0.067425</td>\n",
       "      <td>-0.003225</td>\n",
       "      <td>0.070650</td>\n",
       "    </tr>\n",
       "    <tr>\n",
       "      <th>157</th>\n",
       "      <td>78</td>\n",
       "      <td>OTHER</td>\n",
       "      <td>2013-08-31</td>\n",
       "      <td>900</td>\n",
       "      <td>True</td>\n",
       "      <td>4</td>\n",
       "      <td>True</td>\n",
       "      <td>0.088657</td>\n",
       "      <td>0.001198</td>\n",
       "      <td>0.087460</td>\n",
       "    </tr>\n",
       "    <tr>\n",
       "      <th>158</th>\n",
       "      <td>79</td>\n",
       "      <td>GILLARD</td>\n",
       "      <td>2013-10-19</td>\n",
       "      <td>900</td>\n",
       "      <td>True</td>\n",
       "      <td>3</td>\n",
       "      <td>True</td>\n",
       "      <td>0.065325</td>\n",
       "      <td>0.065875</td>\n",
       "      <td>-0.000550</td>\n",
       "    </tr>\n",
       "    <tr>\n",
       "      <th>159</th>\n",
       "      <td>79</td>\n",
       "      <td>OTHER</td>\n",
       "      <td>2013-10-19</td>\n",
       "      <td>900</td>\n",
       "      <td>True</td>\n",
       "      <td>3</td>\n",
       "      <td>True</td>\n",
       "      <td>0.131893</td>\n",
       "      <td>0.027420</td>\n",
       "      <td>0.104473</td>\n",
       "    </tr>\n",
       "  </tbody>\n",
       "</table>\n",
       "<p>160 rows × 10 columns</p>\n",
       "</div>"
      ],
      "text/plain": [
       "     article_id leader_sentence_dummy       date  ccode  \\\n",
       "0             0               GILLARD 2010-06-19    900   \n",
       "1             0                 OTHER 2010-06-19    900   \n",
       "2             1               GILLARD 2010-06-19    900   \n",
       "3             1                 OTHER 2010-06-19    900   \n",
       "4             2               GILLARD 2010-07-10    900   \n",
       "..          ...                   ...        ...    ...   \n",
       "155          77                 OTHER 2013-08-31    900   \n",
       "156          78               GILLARD 2013-08-31    900   \n",
       "157          78                 OTHER 2013-08-31    900   \n",
       "158          79               GILLARD 2013-10-19    900   \n",
       "159          79                 OTHER 2013-10-19    900   \n",
       "\n",
       "     coreference_resolved_ind  number_spans_replaced  gillard  \\\n",
       "0                        True                      2     True   \n",
       "1                        True                      2     True   \n",
       "2                        True                     26     True   \n",
       "3                        True                     26     True   \n",
       "4                        True                     24     True   \n",
       "..                        ...                    ...      ...   \n",
       "155                      True                      4     True   \n",
       "156                      True                      4     True   \n",
       "157                      True                      4     True   \n",
       "158                      True                      3     True   \n",
       "159                      True                      3     True   \n",
       "\n",
       "     vader_comp_score  sentimentr_comp_score  vader_sentimentr_diff  \n",
       "0            0.263350               0.032450               0.230900  \n",
       "1           -0.089315              -0.032469              -0.056846  \n",
       "2            0.054750              -0.024200               0.078950  \n",
       "3            0.010243              -0.023793               0.034037  \n",
       "4            0.087387              -0.043153               0.130540  \n",
       "..                ...                    ...                    ...  \n",
       "155          0.136919               0.014772               0.122147  \n",
       "156          0.067425              -0.003225               0.070650  \n",
       "157          0.088657               0.001198               0.087460  \n",
       "158          0.065325               0.065875              -0.000550  \n",
       "159          0.131893               0.027420               0.104473  \n",
       "\n",
       "[160 rows x 10 columns]"
      ]
     },
     "metadata": {},
     "execution_count": 29
    }
   ],
   "metadata": {}
  },
  {
   "cell_type": "code",
   "execution_count": 33,
   "source": [
    "\r\n",
    "fig = px.scatter(entity_level_df[entity_level_df.leader_sentence_dummy=='GILLARD'], x=\"date\", y=\"vader_sentimentr_diff\", color=\"leader_sentence_dummy\")\r\n",
    "\r\n",
    "fig.show()\r\n",
    "\r\n",
    "\r\n",
    "\r\n"
   ],
   "outputs": [
    {
     "output_type": "display_data",
     "data": {
      "application/vnd.plotly.v1+json": {
       "config": {
        "plotlyServerURL": "https://plot.ly"
       },
       "data": [
        {
         "hovertemplate": "leader_sentence_dummy=GILLARD<br>date=%{x}<br>vader_sentimentr_diff=%{y}<extra></extra>",
         "legendgroup": "GILLARD",
         "marker": {
          "color": "#636efa",
          "symbol": "circle"
         },
         "mode": "markers",
         "name": "GILLARD",
         "orientation": "v",
         "showlegend": true,
         "type": "scatter",
         "x": [
          "2010-06-19T00:00:00",
          "2010-06-19T00:00:00",
          "2010-07-10T00:00:00",
          "2010-07-24T00:00:00",
          "2010-07-31T00:00:00",
          "2010-08-07T00:00:00",
          "2010-08-07T00:00:00",
          "2010-08-14T00:00:00",
          "2010-08-14T00:00:00",
          "2010-08-28T00:00:00",
          "2010-08-28T00:00:00",
          "2010-08-28T00:00:00",
          "2010-09-04T00:00:00",
          "2010-09-11T00:00:00",
          "2010-09-11T00:00:00",
          "2010-10-23T00:00:00",
          "2010-11-20T00:00:00",
          "2010-12-18T00:00:00",
          "2010-12-18T00:00:00",
          "2011-01-08T00:00:00",
          "2011-01-15T00:00:00",
          "2011-03-05T00:00:00",
          "2011-04-02T00:00:00",
          "2011-04-16T00:00:00",
          "2011-05-14T00:00:00",
          "2011-05-28T00:00:00",
          "2011-05-28T00:00:00",
          "2011-05-28T00:00:00",
          "2011-05-28T00:00:00",
          "2011-05-28T00:00:00",
          "2011-07-02T00:00:00",
          "2011-07-16T00:00:00",
          "2011-07-16T00:00:00",
          "2011-09-03T00:00:00",
          "2011-09-03T00:00:00",
          "2011-09-03T00:00:00",
          "2011-10-22T00:00:00",
          "2011-10-22T00:00:00",
          "2011-11-05T00:00:00",
          "2011-11-19T00:00:00",
          "2011-11-26T00:00:00",
          "2011-11-26T00:00:00",
          "2012-01-07T00:00:00",
          "2012-01-14T00:00:00",
          "2012-01-28T00:00:00",
          "2012-02-04T00:00:00",
          "2012-02-25T00:00:00",
          "2012-02-25T00:00:00",
          "2012-03-03T00:00:00",
          "2012-03-03T00:00:00",
          "2012-03-24T00:00:00",
          "2012-04-21T00:00:00",
          "2012-05-12T00:00:00",
          "2012-06-30T00:00:00",
          "2012-07-07T00:00:00",
          "2012-08-18T00:00:00",
          "2012-08-18T00:00:00",
          "2012-08-25T00:00:00",
          "2012-08-25T00:00:00",
          "2012-09-22T00:00:00",
          "2012-10-13T00:00:00",
          "2012-10-27T00:00:00",
          "2013-01-12T00:00:00",
          "2013-01-12T00:00:00",
          "2013-01-19T00:00:00",
          "2013-02-02T00:00:00",
          "2013-02-09T00:00:00",
          "2013-03-16T00:00:00",
          "2013-03-30T00:00:00",
          "2013-04-20T00:00:00",
          "2013-05-18T00:00:00",
          "2013-06-29T00:00:00",
          "2013-06-29T00:00:00",
          "2013-07-06T00:00:00",
          "2013-07-27T00:00:00",
          "2013-08-10T00:00:00",
          "2013-08-10T00:00:00",
          "2013-08-31T00:00:00",
          "2013-08-31T00:00:00",
          "2013-10-19T00:00:00"
         ],
         "xaxis": "x",
         "y": [
          0.23089999999999997,
          0.07894999999999999,
          0.13054,
          0.1735,
          0.12855000000000003,
          -0.2683,
          0.04828666666666667,
          0.19941666666666666,
          0.1547933333333333,
          0.14799999999999996,
          -0.23365999999999998,
          0.1397,
          0.09970000000000001,
          -0.06023333333333333,
          0.2105230769230769,
          0.09605555555555556,
          0.47050000000000003,
          0,
          -0.027466666666666622,
          0.01509130434782609,
          0.32345,
          0.31366666666666665,
          0.15769999999999998,
          -0.08728750000000002,
          0.17404999999999998,
          -0.030049999999999993,
          0.316,
          0.05295,
          -0.2436,
          -0.02,
          -0.03314400000000001,
          0.10706666666666668,
          0.03917272727272727,
          0.01,
          0.007822222222222227,
          0.1191,
          -0.48030000000000006,
          -0.039057575757575756,
          -0.6148,
          0,
          -0.1449,
          0.04,
          0.4467,
          0.2716,
          0.020405555555555573,
          0.27615,
          -0.049550000000000004,
          -0.034289999999999994,
          0.006499999999999992,
          0.11565333333333334,
          0.2925666666666667,
          -0.0516,
          0.20740000000000003,
          0.15972,
          -0.11992222222222221,
          0.0316,
          -0.18637692307692302,
          0.120045,
          0.01,
          0.01,
          -0.049127272727272756,
          -0.12954285714285715,
          -0.34965,
          -0.05744166666666667,
          0.11333333333333334,
          0.06135,
          0.07989285714285714,
          0.26976874999999995,
          0.12034285714285711,
          -0.13033333333333333,
          -0.1136375,
          0.05740000000000001,
          0.03575000000000001,
          0.04466666666666666,
          -0.142025,
          -0.005,
          0.27091666666666664,
          0.3521,
          0.07064999999999999,
          -0.0005500000000000088
         ],
         "yaxis": "y"
        },
        {
         "hovertemplate": "<b>LOWESS trendline</b><br><br>leader_sentence_dummy=GILLARD<br>date=%{x}<br>vader_sentimentr_diff=%{y} <b>(trend)</b><extra></extra>",
         "legendgroup": "GILLARD",
         "marker": {
          "color": "#636efa",
          "symbol": "circle"
         },
         "mode": "lines",
         "name": "GILLARD",
         "showlegend": false,
         "type": "scatter",
         "x": [
          "2010-06-19T00:00:00",
          "2010-06-19T00:00:00",
          "2010-07-10T00:00:00",
          "2010-07-24T00:00:00",
          "2010-07-31T00:00:00",
          "2010-08-07T00:00:00",
          "2010-08-07T00:00:00",
          "2010-08-14T00:00:00",
          "2010-08-14T00:00:00",
          "2010-08-28T00:00:00",
          "2010-08-28T00:00:00",
          "2010-08-28T00:00:00",
          "2010-09-04T00:00:00",
          "2010-09-11T00:00:00",
          "2010-09-11T00:00:00",
          "2010-10-23T00:00:00",
          "2010-11-20T00:00:00",
          "2010-12-18T00:00:00",
          "2010-12-18T00:00:00",
          "2011-01-08T00:00:00",
          "2011-01-15T00:00:00",
          "2011-03-05T00:00:00",
          "2011-04-02T00:00:00",
          "2011-04-16T00:00:00",
          "2011-05-14T00:00:00",
          "2011-05-28T00:00:00",
          "2011-05-28T00:00:00",
          "2011-05-28T00:00:00",
          "2011-05-28T00:00:00",
          "2011-05-28T00:00:00",
          "2011-07-02T00:00:00",
          "2011-07-16T00:00:00",
          "2011-07-16T00:00:00",
          "2011-09-03T00:00:00",
          "2011-09-03T00:00:00",
          "2011-09-03T00:00:00",
          "2011-10-22T00:00:00",
          "2011-10-22T00:00:00",
          "2011-11-05T00:00:00",
          "2011-11-19T00:00:00",
          "2011-11-26T00:00:00",
          "2011-11-26T00:00:00",
          "2012-01-07T00:00:00",
          "2012-01-14T00:00:00",
          "2012-01-28T00:00:00",
          "2012-02-04T00:00:00",
          "2012-02-25T00:00:00",
          "2012-02-25T00:00:00",
          "2012-03-03T00:00:00",
          "2012-03-03T00:00:00",
          "2012-03-24T00:00:00",
          "2012-04-21T00:00:00",
          "2012-05-12T00:00:00",
          "2012-06-30T00:00:00",
          "2012-07-07T00:00:00",
          "2012-08-18T00:00:00",
          "2012-08-18T00:00:00",
          "2012-08-25T00:00:00",
          "2012-08-25T00:00:00",
          "2012-09-22T00:00:00",
          "2012-10-13T00:00:00",
          "2012-10-27T00:00:00",
          "2013-01-12T00:00:00",
          "2013-01-12T00:00:00",
          "2013-01-19T00:00:00",
          "2013-02-02T00:00:00",
          "2013-02-09T00:00:00",
          "2013-03-16T00:00:00",
          "2013-03-30T00:00:00",
          "2013-04-20T00:00:00",
          "2013-05-18T00:00:00",
          "2013-06-29T00:00:00",
          "2013-06-29T00:00:00",
          "2013-07-06T00:00:00",
          "2013-07-27T00:00:00",
          "2013-08-10T00:00:00",
          "2013-08-10T00:00:00",
          "2013-08-31T00:00:00",
          "2013-08-31T00:00:00",
          "2013-10-19T00:00:00"
         ],
         "xaxis": "x",
         "y": [
          0.06743572505847975,
          0.06712112931868149,
          0.06712112931868149,
          0.06691284900916605,
          0.06691284900916605,
          0.06631778940720284,
          0.06622048211396388,
          0.06622048211396388,
          0.06566277018900718,
          0.06557167335262455,
          0.06539559738070572,
          0.0653070209854848,
          0.064964147833745,
          0.06416095444101792,
          0.06385720571225592,
          0.06349037973741477,
          0.06320058742105467,
          0.06320058742105467,
          0.0626990984478041,
          0.0626990984478041,
          0.06241150212889013,
          0.06241150212889013,
          0.062338607022426,
          0.062338607022426,
          0.06212208567126455,
          0.061904237885543376,
          0.06146180371738746,
          0.06084928081656729,
          0.05979737514869742,
          0.05971217662033814,
          0.05971217662033814,
          0.059456958956966545,
          0.058845525927661534,
          0.05858119691124189,
          0.05814319453413132,
          0.0575849389770955,
          0.05665472579386691,
          0.05665472579386691,
          0.05653322183686328,
          0.05647512711907276,
          0.05647512711907276,
          0.05647512711907276,
          0.05617673906358702,
          0.05604953325938916,
          0.05600887182293143,
          0.055642212419158524,
          0.055467370083034824,
          0.05539797747307607,
          0.05539797747307607,
          0.05525588824175378,
          0.054591644222142466,
          0.054591644222142466,
          0.054440904787806124,
          0.05425244347428242,
          0.05425244347428242,
          0.054213928677209776,
          0.05405996491180766,
          0.053391919900815904,
          0.053391919900815904,
          0.05334551652465284,
          0.05334551652465284,
          0.05300644756866057,
          0.05300644756866057,
          0.05268813006528501,
          0.052574467625493004,
          0.052574467625493004,
          0.052400735549359964,
          0.052400735549359964,
          0.052400735549359964,
          0.052400735549359964,
          0.052400735549359964,
          0.052158735333078625,
          0.05203530459868265,
          0.05177965076899785,
          0.051713966398790834,
          0.051713966398790834,
          0.051713966398790834,
          0.051517213544326014,
          0.05138515918925342,
          0.05131727649843118
         ],
         "yaxis": "y"
        }
       ],
       "layout": {
        "legend": {
         "title": {
          "text": "leader_sentence_dummy"
         },
         "tracegroupgap": 0
        },
        "margin": {
         "t": 60
        },
        "template": {
         "data": {
          "bar": [
           {
            "error_x": {
             "color": "#2a3f5f"
            },
            "error_y": {
             "color": "#2a3f5f"
            },
            "marker": {
             "line": {
              "color": "#E5ECF6",
              "width": 0.5
             },
             "pattern": {
              "fillmode": "overlay",
              "size": 10,
              "solidity": 0.2
             }
            },
            "type": "bar"
           }
          ],
          "barpolar": [
           {
            "marker": {
             "line": {
              "color": "#E5ECF6",
              "width": 0.5
             },
             "pattern": {
              "fillmode": "overlay",
              "size": 10,
              "solidity": 0.2
             }
            },
            "type": "barpolar"
           }
          ],
          "carpet": [
           {
            "aaxis": {
             "endlinecolor": "#2a3f5f",
             "gridcolor": "white",
             "linecolor": "white",
             "minorgridcolor": "white",
             "startlinecolor": "#2a3f5f"
            },
            "baxis": {
             "endlinecolor": "#2a3f5f",
             "gridcolor": "white",
             "linecolor": "white",
             "minorgridcolor": "white",
             "startlinecolor": "#2a3f5f"
            },
            "type": "carpet"
           }
          ],
          "choropleth": [
           {
            "colorbar": {
             "outlinewidth": 0,
             "ticks": ""
            },
            "type": "choropleth"
           }
          ],
          "contour": [
           {
            "colorbar": {
             "outlinewidth": 0,
             "ticks": ""
            },
            "colorscale": [
             [
              0,
              "#0d0887"
             ],
             [
              0.1111111111111111,
              "#46039f"
             ],
             [
              0.2222222222222222,
              "#7201a8"
             ],
             [
              0.3333333333333333,
              "#9c179e"
             ],
             [
              0.4444444444444444,
              "#bd3786"
             ],
             [
              0.5555555555555556,
              "#d8576b"
             ],
             [
              0.6666666666666666,
              "#ed7953"
             ],
             [
              0.7777777777777778,
              "#fb9f3a"
             ],
             [
              0.8888888888888888,
              "#fdca26"
             ],
             [
              1,
              "#f0f921"
             ]
            ],
            "type": "contour"
           }
          ],
          "contourcarpet": [
           {
            "colorbar": {
             "outlinewidth": 0,
             "ticks": ""
            },
            "type": "contourcarpet"
           }
          ],
          "heatmap": [
           {
            "colorbar": {
             "outlinewidth": 0,
             "ticks": ""
            },
            "colorscale": [
             [
              0,
              "#0d0887"
             ],
             [
              0.1111111111111111,
              "#46039f"
             ],
             [
              0.2222222222222222,
              "#7201a8"
             ],
             [
              0.3333333333333333,
              "#9c179e"
             ],
             [
              0.4444444444444444,
              "#bd3786"
             ],
             [
              0.5555555555555556,
              "#d8576b"
             ],
             [
              0.6666666666666666,
              "#ed7953"
             ],
             [
              0.7777777777777778,
              "#fb9f3a"
             ],
             [
              0.8888888888888888,
              "#fdca26"
             ],
             [
              1,
              "#f0f921"
             ]
            ],
            "type": "heatmap"
           }
          ],
          "heatmapgl": [
           {
            "colorbar": {
             "outlinewidth": 0,
             "ticks": ""
            },
            "colorscale": [
             [
              0,
              "#0d0887"
             ],
             [
              0.1111111111111111,
              "#46039f"
             ],
             [
              0.2222222222222222,
              "#7201a8"
             ],
             [
              0.3333333333333333,
              "#9c179e"
             ],
             [
              0.4444444444444444,
              "#bd3786"
             ],
             [
              0.5555555555555556,
              "#d8576b"
             ],
             [
              0.6666666666666666,
              "#ed7953"
             ],
             [
              0.7777777777777778,
              "#fb9f3a"
             ],
             [
              0.8888888888888888,
              "#fdca26"
             ],
             [
              1,
              "#f0f921"
             ]
            ],
            "type": "heatmapgl"
           }
          ],
          "histogram": [
           {
            "marker": {
             "pattern": {
              "fillmode": "overlay",
              "size": 10,
              "solidity": 0.2
             }
            },
            "type": "histogram"
           }
          ],
          "histogram2d": [
           {
            "colorbar": {
             "outlinewidth": 0,
             "ticks": ""
            },
            "colorscale": [
             [
              0,
              "#0d0887"
             ],
             [
              0.1111111111111111,
              "#46039f"
             ],
             [
              0.2222222222222222,
              "#7201a8"
             ],
             [
              0.3333333333333333,
              "#9c179e"
             ],
             [
              0.4444444444444444,
              "#bd3786"
             ],
             [
              0.5555555555555556,
              "#d8576b"
             ],
             [
              0.6666666666666666,
              "#ed7953"
             ],
             [
              0.7777777777777778,
              "#fb9f3a"
             ],
             [
              0.8888888888888888,
              "#fdca26"
             ],
             [
              1,
              "#f0f921"
             ]
            ],
            "type": "histogram2d"
           }
          ],
          "histogram2dcontour": [
           {
            "colorbar": {
             "outlinewidth": 0,
             "ticks": ""
            },
            "colorscale": [
             [
              0,
              "#0d0887"
             ],
             [
              0.1111111111111111,
              "#46039f"
             ],
             [
              0.2222222222222222,
              "#7201a8"
             ],
             [
              0.3333333333333333,
              "#9c179e"
             ],
             [
              0.4444444444444444,
              "#bd3786"
             ],
             [
              0.5555555555555556,
              "#d8576b"
             ],
             [
              0.6666666666666666,
              "#ed7953"
             ],
             [
              0.7777777777777778,
              "#fb9f3a"
             ],
             [
              0.8888888888888888,
              "#fdca26"
             ],
             [
              1,
              "#f0f921"
             ]
            ],
            "type": "histogram2dcontour"
           }
          ],
          "mesh3d": [
           {
            "colorbar": {
             "outlinewidth": 0,
             "ticks": ""
            },
            "type": "mesh3d"
           }
          ],
          "parcoords": [
           {
            "line": {
             "colorbar": {
              "outlinewidth": 0,
              "ticks": ""
             }
            },
            "type": "parcoords"
           }
          ],
          "pie": [
           {
            "automargin": true,
            "type": "pie"
           }
          ],
          "scatter": [
           {
            "marker": {
             "colorbar": {
              "outlinewidth": 0,
              "ticks": ""
             }
            },
            "type": "scatter"
           }
          ],
          "scatter3d": [
           {
            "line": {
             "colorbar": {
              "outlinewidth": 0,
              "ticks": ""
             }
            },
            "marker": {
             "colorbar": {
              "outlinewidth": 0,
              "ticks": ""
             }
            },
            "type": "scatter3d"
           }
          ],
          "scattercarpet": [
           {
            "marker": {
             "colorbar": {
              "outlinewidth": 0,
              "ticks": ""
             }
            },
            "type": "scattercarpet"
           }
          ],
          "scattergeo": [
           {
            "marker": {
             "colorbar": {
              "outlinewidth": 0,
              "ticks": ""
             }
            },
            "type": "scattergeo"
           }
          ],
          "scattergl": [
           {
            "marker": {
             "colorbar": {
              "outlinewidth": 0,
              "ticks": ""
             }
            },
            "type": "scattergl"
           }
          ],
          "scattermapbox": [
           {
            "marker": {
             "colorbar": {
              "outlinewidth": 0,
              "ticks": ""
             }
            },
            "type": "scattermapbox"
           }
          ],
          "scatterpolar": [
           {
            "marker": {
             "colorbar": {
              "outlinewidth": 0,
              "ticks": ""
             }
            },
            "type": "scatterpolar"
           }
          ],
          "scatterpolargl": [
           {
            "marker": {
             "colorbar": {
              "outlinewidth": 0,
              "ticks": ""
             }
            },
            "type": "scatterpolargl"
           }
          ],
          "scatterternary": [
           {
            "marker": {
             "colorbar": {
              "outlinewidth": 0,
              "ticks": ""
             }
            },
            "type": "scatterternary"
           }
          ],
          "surface": [
           {
            "colorbar": {
             "outlinewidth": 0,
             "ticks": ""
            },
            "colorscale": [
             [
              0,
              "#0d0887"
             ],
             [
              0.1111111111111111,
              "#46039f"
             ],
             [
              0.2222222222222222,
              "#7201a8"
             ],
             [
              0.3333333333333333,
              "#9c179e"
             ],
             [
              0.4444444444444444,
              "#bd3786"
             ],
             [
              0.5555555555555556,
              "#d8576b"
             ],
             [
              0.6666666666666666,
              "#ed7953"
             ],
             [
              0.7777777777777778,
              "#fb9f3a"
             ],
             [
              0.8888888888888888,
              "#fdca26"
             ],
             [
              1,
              "#f0f921"
             ]
            ],
            "type": "surface"
           }
          ],
          "table": [
           {
            "cells": {
             "fill": {
              "color": "#EBF0F8"
             },
             "line": {
              "color": "white"
             }
            },
            "header": {
             "fill": {
              "color": "#C8D4E3"
             },
             "line": {
              "color": "white"
             }
            },
            "type": "table"
           }
          ]
         },
         "layout": {
          "annotationdefaults": {
           "arrowcolor": "#2a3f5f",
           "arrowhead": 0,
           "arrowwidth": 1
          },
          "autotypenumbers": "strict",
          "coloraxis": {
           "colorbar": {
            "outlinewidth": 0,
            "ticks": ""
           }
          },
          "colorscale": {
           "diverging": [
            [
             0,
             "#8e0152"
            ],
            [
             0.1,
             "#c51b7d"
            ],
            [
             0.2,
             "#de77ae"
            ],
            [
             0.3,
             "#f1b6da"
            ],
            [
             0.4,
             "#fde0ef"
            ],
            [
             0.5,
             "#f7f7f7"
            ],
            [
             0.6,
             "#e6f5d0"
            ],
            [
             0.7,
             "#b8e186"
            ],
            [
             0.8,
             "#7fbc41"
            ],
            [
             0.9,
             "#4d9221"
            ],
            [
             1,
             "#276419"
            ]
           ],
           "sequential": [
            [
             0,
             "#0d0887"
            ],
            [
             0.1111111111111111,
             "#46039f"
            ],
            [
             0.2222222222222222,
             "#7201a8"
            ],
            [
             0.3333333333333333,
             "#9c179e"
            ],
            [
             0.4444444444444444,
             "#bd3786"
            ],
            [
             0.5555555555555556,
             "#d8576b"
            ],
            [
             0.6666666666666666,
             "#ed7953"
            ],
            [
             0.7777777777777778,
             "#fb9f3a"
            ],
            [
             0.8888888888888888,
             "#fdca26"
            ],
            [
             1,
             "#f0f921"
            ]
           ],
           "sequentialminus": [
            [
             0,
             "#0d0887"
            ],
            [
             0.1111111111111111,
             "#46039f"
            ],
            [
             0.2222222222222222,
             "#7201a8"
            ],
            [
             0.3333333333333333,
             "#9c179e"
            ],
            [
             0.4444444444444444,
             "#bd3786"
            ],
            [
             0.5555555555555556,
             "#d8576b"
            ],
            [
             0.6666666666666666,
             "#ed7953"
            ],
            [
             0.7777777777777778,
             "#fb9f3a"
            ],
            [
             0.8888888888888888,
             "#fdca26"
            ],
            [
             1,
             "#f0f921"
            ]
           ]
          },
          "colorway": [
           "#636efa",
           "#EF553B",
           "#00cc96",
           "#ab63fa",
           "#FFA15A",
           "#19d3f3",
           "#FF6692",
           "#B6E880",
           "#FF97FF",
           "#FECB52"
          ],
          "font": {
           "color": "#2a3f5f"
          },
          "geo": {
           "bgcolor": "white",
           "lakecolor": "white",
           "landcolor": "#E5ECF6",
           "showlakes": true,
           "showland": true,
           "subunitcolor": "white"
          },
          "hoverlabel": {
           "align": "left"
          },
          "hovermode": "closest",
          "mapbox": {
           "style": "light"
          },
          "paper_bgcolor": "white",
          "plot_bgcolor": "#E5ECF6",
          "polar": {
           "angularaxis": {
            "gridcolor": "white",
            "linecolor": "white",
            "ticks": ""
           },
           "bgcolor": "#E5ECF6",
           "radialaxis": {
            "gridcolor": "white",
            "linecolor": "white",
            "ticks": ""
           }
          },
          "scene": {
           "xaxis": {
            "backgroundcolor": "#E5ECF6",
            "gridcolor": "white",
            "gridwidth": 2,
            "linecolor": "white",
            "showbackground": true,
            "ticks": "",
            "zerolinecolor": "white"
           },
           "yaxis": {
            "backgroundcolor": "#E5ECF6",
            "gridcolor": "white",
            "gridwidth": 2,
            "linecolor": "white",
            "showbackground": true,
            "ticks": "",
            "zerolinecolor": "white"
           },
           "zaxis": {
            "backgroundcolor": "#E5ECF6",
            "gridcolor": "white",
            "gridwidth": 2,
            "linecolor": "white",
            "showbackground": true,
            "ticks": "",
            "zerolinecolor": "white"
           }
          },
          "shapedefaults": {
           "line": {
            "color": "#2a3f5f"
           }
          },
          "ternary": {
           "aaxis": {
            "gridcolor": "white",
            "linecolor": "white",
            "ticks": ""
           },
           "baxis": {
            "gridcolor": "white",
            "linecolor": "white",
            "ticks": ""
           },
           "bgcolor": "#E5ECF6",
           "caxis": {
            "gridcolor": "white",
            "linecolor": "white",
            "ticks": ""
           }
          },
          "title": {
           "x": 0.05
          },
          "xaxis": {
           "automargin": true,
           "gridcolor": "white",
           "linecolor": "white",
           "ticks": "",
           "title": {
            "standoff": 15
           },
           "zerolinecolor": "white",
           "zerolinewidth": 2
          },
          "yaxis": {
           "automargin": true,
           "gridcolor": "white",
           "linecolor": "white",
           "ticks": "",
           "title": {
            "standoff": 15
           },
           "zerolinecolor": "white",
           "zerolinewidth": 2
          }
         }
        },
        "xaxis": {
         "anchor": "y",
         "domain": [
          0,
          1
         ],
         "title": {
          "text": "date"
         }
        },
        "yaxis": {
         "anchor": "x",
         "domain": [
          0,
          1
         ],
         "title": {
          "text": "vader_sentimentr_diff"
         }
        }
       }
      }
     },
     "metadata": {}
    }
   ],
   "metadata": {}
  }
 ],
 "metadata": {
  "orig_nbformat": 4,
  "language_info": {
   "name": "python",
   "version": "3.8.8",
   "mimetype": "text/x-python",
   "codemirror_mode": {
    "name": "ipython",
    "version": 3
   },
   "pygments_lexer": "ipython3",
   "nbconvert_exporter": "python",
   "file_extension": ".py"
  },
  "kernelspec": {
   "name": "python3",
   "display_name": "Python 3.8.8 64-bit ('base': conda)"
  },
  "interpreter": {
   "hash": "2df2000a0b5db8cfb7123a9e988e96ee6c542897cd038d7b37140af7c2d7aa32"
  }
 },
 "nbformat": 4,
 "nbformat_minor": 2
}