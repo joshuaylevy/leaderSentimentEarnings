{
 "cells": [
  {
   "cell_type": "code",
   "execution_count": 134,
   "source": [
    "import pandas as pd\r\n",
    "import plotly.express as px\r\n",
    "import os\r\n",
    "import re\r\n",
    "import math\r\n",
    "from vaderSentiment.vaderSentiment import SentimentIntensityAnalyzer\r\n",
    "from sentimentr.sentimentr import Sentiment as sentimentr\r\n",
    "from datetime import datetime as dt\r\n",
    "from nltk import tokenize\r\n",
    "from fuzzywuzzy import fuzz\r\n",
    "from fuzzywuzzy import process\r\n",
    "\r\n",
    "\r\n",
    "def leaderFuzzySearch(sentence, name):\r\n",
    "    top_set_match = process.extract(sentence, name, scorer=fuzz.token_set_ratio)\r\n",
    "\r\n",
    "    for alias in top_set_match:\r\n",
    "        print(alias)\r\n",
    "        if alias[1] >= 90:\r\n",
    "            return True\r\n",
    "        else:\r\n",
    "            continue\r\n",
    "    return False\r\n",
    "\r\n",
    "\r\n",
    "date_format = '%d-%b-%y'\r\n",
    "custom_date_parser = lambda x: dt.strptime(x, date_format)\r\n",
    "\r\n",
    "def vaderSentimentRGenerator(file, corel_param):\r\n",
    "    file_path = file\r\n",
    "    resolved_df = pd.read_csv('../02_Coreference_Resolution/leader_resolved/{}'.format(file_path))\r\n",
    "\r\n",
    "\r\n",
    "    resolved_df['article_id'] = resolved_df.reset_index().index\r\n",
    "    print(len(resolved_df))\r\n",
    "\r\n",
    "\r\n",
    "    leader_of_interest = re.search('(.*)_resolved', file_path)[1]\r\n",
    "    \r\n",
    "\r\n",
    "    sentences_df  = pd.DataFrame([], columns=['article_id', 'sentence'])\r\n",
    "    for row in resolved_df.index.tolist():\r\n",
    "        id = resolved_df.loc[row, 'article_id']\r\n",
    "        resolved_text = resolved_df.loc[row, 'resolved_text']\r\n",
    "        try:\r\n",
    "            sentence_list = tokenize.sent_tokenize(resolved_text)\r\n",
    "        except:\r\n",
    "            pass\r\n",
    "        sentence_df = pd.DataFrame({\"sentence\" : sentence_list})\r\n",
    "        sentence_df['article_id'] = id\r\n",
    "\r\n",
    "        sentences_df = pd.concat([sentences_df, sentence_df], ignore_index=True)\r\n",
    "\r\n",
    "    resolved_df = pd.merge(resolved_df, sentences_df, how='left', on='article_id')\r\n",
    "    resolved_df['leader_sentence_dummy'] = resolved_df.apply(lambda row: leader_of_interest.upper() if leader_of_interest in row.sentence.lower() else \"OTHER\", axis=1)\r\n",
    "\r\n",
    "    country_of_interest = resolved_df['country'].unique()[0]\r\n",
    "    leaderid_of_interest = re.search('(?=leadid-(.*)_temp.csv)', file_path)[1]\r\n",
    "    \r\n",
    "    analyzer = SentimentIntensityAnalyzer()\r\n",
    "    print(resolved_df['leader_sentence_dummy'].unique())\r\n",
    "\r\n",
    "    resolved_df['vader_comp_score'] = resolved_df['sentence'].apply(lambda row: analyzer.polarity_scores(row)['compound'])\r\n",
    "    resolved_df['sentimentr_comp_score'] = resolved_df['sentence'].apply(lambda row: sentimentr.get_polarity_score(row))\r\n",
    "    # DIFFERENCE = VADER - SENTIMENTR \r\n",
    "    resolved_df['vader_sentimentr_diff'] = resolved_df.vader_comp_score - resolved_df.sentimentr_comp_score \r\n",
    "\r\n",
    "    resolved_df['date'] = pd.to_datetime(resolved_df['date'])\r\n",
    "\r\n",
    "    entity_level_df = resolved_df.groupby(by=['article_id', 'leader_sentence_dummy', 'date', 'country'])['vader_comp_score', 'sentimentr_comp_score'].agg(pd.Series.tolist)\r\n",
    "    entity_level_df.reset_index(inplace=True)\r\n",
    "    entity_level_df['vader_comp_score'] = entity_level_df['vader_comp_score'].apply(lambda x: downweight_zero_mean(x))\r\n",
    "    entity_level_df['sentimentr_comp_score'] = entity_level_df['sentimentr_comp_score'].apply(lambda x: downweight_zero_mean(x))\r\n",
    "    entity_level_df['vader_sentimentr_diff'] = entity_level_df.vader_comp_score - entity_level_df.sentimentr_comp_score\r\n",
    "    \r\n",
    "\r\n",
    "    if corel_param:\r\n",
    "        corel_fig = px.scatter(entity_level_df,\r\n",
    "            x='vader_comp_score', y='sentimentr_comp_score',\r\n",
    "            range_x=[-1,1], range_y=[-1,1], trendline=\"ols\")\r\n",
    "        fig_corel.add_shape(type=\"line\", xref=\"paper\", yref=\"paper\",\r\n",
    "            x0=0, x1=1,\r\n",
    "            y0=0, y1=1,\r\n",
    "            line = dict(\r\n",
    "                color=\"DarkOrange\",\r\n",
    "                width=3))\r\n",
    "        results = px.get_trendline_results(corel_fig)\r\n",
    "        results_summary = results.px_fit_results.iloc[0].summary()\r\n",
    "        results_as_html = results_summary.tables[1].as_html()\r\n",
    "        coef_df = pd.read_html(results_as_html, header=0, index_col=0)[0]\r\n",
    "        coef_df = coef_df.rename(index={'const' : \"constant\"})\r\n",
    "        coef_df['leader'] = leader_of_interest.upper()\r\n",
    "        coef_df['country'] = country_of_interest.upper()\r\n",
    "        coef_df['leadid'] = leaderid_of_interest\r\n",
    "        return coef_df \r\n",
    "    else:\r\n",
    "        pass\r\n"
   ],
   "outputs": [],
   "metadata": {}
  },
  {
   "cell_type": "code",
   "execution_count": 88,
   "source": [
    "def downweight_zero_mean(x):\r\n",
    "    dropped = [num for num in x if pd.isnull(num)==False]\r\n",
    "    total_sum = sum(dropped)\r\n",
    "    zeros = len([num for num in dropped if num==0])\r\n",
    "    non_zeros = len([num for num in dropped if num!=0])\r\n",
    "    if zeros == 0:\r\n",
    "        downweighted_mean = total_sum /(non_zeros)\r\n",
    "        return downweighted_mean\r\n",
    "    else:\r\n",
    "        try:\r\n",
    "            downweighted_mean = total_sum /(non_zeros + math.sqrt(math.log(zeros))) \r\n",
    "            return downweighted_mean\r\n",
    "        except:\r\n",
    "            downweighted_mean = total_sum / len(dropped)\r\n",
    "            return downweighted_mean\r\n"
   ],
   "outputs": [],
   "metadata": {}
  },
  {
   "cell_type": "code",
   "execution_count": 131,
   "source": [
    "results = px.get_trendline_results(fig)\r\n",
    "print(results)\r\n",
    "results_summary = results.px_fit_results.iloc[0].summary()\r\n",
    "results_as_html = results_summary.tables[1].as_html()\r\n",
    "coef_df = pd.read_html(results_as_html, header=0, index_col=0)[0]\r\n",
    "coef_df = coef_df.rename(index={'const' : \"constant\"})\r\n",
    "coef_df['leader', 'country'] = leader_of_interest.upper()\r\n",
    "coef_df['country'] = \r\n",
    "coef_df"
   ],
   "outputs": [
    {
     "output_type": "error",
     "ename": "SyntaxError",
     "evalue": "invalid syntax (<ipython-input-131-aebc493fb831>, line 8)",
     "traceback": [
      "\u001b[1;36m  File \u001b[1;32m\"<ipython-input-131-aebc493fb831>\"\u001b[1;36m, line \u001b[1;32m8\u001b[0m\n\u001b[1;33m    coef_df['country'] =\u001b[0m\n\u001b[1;37m                         ^\u001b[0m\n\u001b[1;31mSyntaxError\u001b[0m\u001b[1;31m:\u001b[0m invalid syntax\n"
     ]
    }
   ],
   "metadata": {}
  },
  {
   "cell_type": "code",
   "execution_count": null,
   "source": [
    "fig = px.scatter(resolved_df, x=\"date\", y=\"vader_comp_score\", color=\"leader_sentence_dummy\", trendline='lowess', trendline_options=dict(frac=1), hover_data=['sentence'])\r\n",
    "fig.show()\r\n",
    "\r\n",
    "\r\n"
   ],
   "outputs": [],
   "metadata": {}
  },
  {
   "cell_type": "code",
   "execution_count": null,
   "source": [
    "fig = px.scatter(entity_level_df[entity_level_df.leader_sentence_dummy=='GILLARD'], x=\"date\", y=\"vader_sentimentr_diff\", color=\"leader_sentence_dummy\")\r\n",
    "\r\n",
    "fig.show()\r\n",
    "\r\n",
    "\r\n",
    "\r\n"
   ],
   "outputs": [],
   "metadata": {}
  },
  {
   "cell_type": "code",
   "execution_count": null,
   "source": [
    "fig = px.scatter(resolved_df, x='vader_comp_score', y='sentimentr_comp_score', range_x=[-1,1], range_y=[-1,1], trendline=\"ols\")\r\n",
    "fig.add_shape(type=\"line\", xref=\"paper\", yref=\"paper\",\r\n",
    "    x0=0, x1=1,\r\n",
    "    y0=0, y1=1,\r\n",
    "    line = dict(\r\n",
    "        color=\"DarkOrange\",\r\n",
    "        width=3))\r\n",
    "fig.show()"
   ],
   "outputs": [],
   "metadata": {}
  },
  {
   "cell_type": "code",
   "execution_count": null,
   "source": [
    "fig_corel = px.scatter(entity_level_df, x='vader_comp_score', y='sentimentr_comp_score', range_x=[-1,1], range_y=[-1,1], trendline=\"ols\")\r\n",
    "fig_corel.add_shape(type=\"line\", xref=\"paper\", yref=\"paper\",\r\n",
    "    x0=0, x1=1,\r\n",
    "    y0=0, y1=1,\r\n",
    "    line = dict(\r\n",
    "        color=\"DarkOrange\",\r\n",
    "        width=3))\r\n",
    "fig_corel.show()"
   ],
   "outputs": [],
   "metadata": {}
  },
  {
   "cell_type": "code",
   "execution_count": 136,
   "source": [
    "from os import listdir\r\n",
    "from os.path import isfile, join\r\n",
    "\r\n",
    "folder_path = '../02_Coreference_Resolution/leader_resolved'\r\n",
    "coef_together_df = pd.DataFrame([])\r\n",
    "files = [f for f in listdir(folder_path) if isfile(join(folder_path, f))]\r\n",
    "for f in files:\r\n",
    "    leader_coef_df = vaderSentimentRGenerator(f, True)\r\n",
    "    coef_together_df = pd.concat([coef_together_df, leader_coef_df])\r\n"
   ],
   "outputs": [
    {
     "output_type": "stream",
     "name": "stdout",
     "text": [
      "233\n",
      "['OTHER' 'AZNAR']\n"
     ]
    },
    {
     "output_type": "stream",
     "name": "stderr",
     "text": [
      "<ipython-input-134-562c000333bd>:70: FutureWarning:\n",
      "\n",
      "Indexing with multiple keys (implicitly converted to a tuple of keys) will be deprecated, use a list instead.\n",
      "\n"
     ]
    },
    {
     "output_type": "stream",
     "name": "stdout",
     "text": [
      "17\n",
      "['OTHER' 'CAMPBELL']\n"
     ]
    },
    {
     "output_type": "stream",
     "name": "stderr",
     "text": [
      "<ipython-input-134-562c000333bd>:70: FutureWarning:\n",
      "\n",
      "Indexing with multiple keys (implicitly converted to a tuple of keys) will be deprecated, use a list instead.\n",
      "\n"
     ]
    },
    {
     "output_type": "stream",
     "name": "stdout",
     "text": [
      "1131\n",
      "['OTHER' 'CHIRAC']\n"
     ]
    },
    {
     "output_type": "stream",
     "name": "stderr",
     "text": [
      "<ipython-input-134-562c000333bd>:70: FutureWarning:\n",
      "\n",
      "Indexing with multiple keys (implicitly converted to a tuple of keys) will be deprecated, use a list instead.\n",
      "\n"
     ]
    },
    {
     "output_type": "stream",
     "name": "stdout",
     "text": [
      "177\n",
      "['OTHER' 'CHRETIEN']\n"
     ]
    },
    {
     "output_type": "stream",
     "name": "stderr",
     "text": [
      "<ipython-input-134-562c000333bd>:70: FutureWarning:\n",
      "\n",
      "Indexing with multiple keys (implicitly converted to a tuple of keys) will be deprecated, use a list instead.\n",
      "\n"
     ]
    },
    {
     "output_type": "stream",
     "name": "stdout",
     "text": [
      "11\n",
      "['OTHER' 'FAYMANN']\n"
     ]
    },
    {
     "output_type": "stream",
     "name": "stderr",
     "text": [
      "<ipython-input-134-562c000333bd>:70: FutureWarning:\n",
      "\n",
      "Indexing with multiple keys (implicitly converted to a tuple of keys) will be deprecated, use a list instead.\n",
      "\n"
     ]
    },
    {
     "output_type": "stream",
     "name": "stdout",
     "text": [
      "80\n",
      "['OTHER' 'GILLARD']\n"
     ]
    },
    {
     "output_type": "stream",
     "name": "stderr",
     "text": [
      "<ipython-input-134-562c000333bd>:70: FutureWarning:\n",
      "\n",
      "Indexing with multiple keys (implicitly converted to a tuple of keys) will be deprecated, use a list instead.\n",
      "\n"
     ]
    },
    {
     "output_type": "stream",
     "name": "stdout",
     "text": [
      "145\n",
      "['OTHER' 'GONZALEZ']\n"
     ]
    },
    {
     "output_type": "stream",
     "name": "stderr",
     "text": [
      "<ipython-input-134-562c000333bd>:70: FutureWarning:\n",
      "\n",
      "Indexing with multiple keys (implicitly converted to a tuple of keys) will be deprecated, use a list instead.\n",
      "\n"
     ]
    },
    {
     "output_type": "stream",
     "name": "stdout",
     "text": [
      "28\n",
      "['OTHER' 'GOWDA']\n"
     ]
    },
    {
     "output_type": "stream",
     "name": "stderr",
     "text": [
      "<ipython-input-134-562c000333bd>:70: FutureWarning:\n",
      "\n",
      "Indexing with multiple keys (implicitly converted to a tuple of keys) will be deprecated, use a list instead.\n",
      "\n"
     ]
    },
    {
     "output_type": "stream",
     "name": "stdout",
     "text": [
      "27\n",
      "['OTHER' 'GUJRAL']\n"
     ]
    },
    {
     "output_type": "stream",
     "name": "stderr",
     "text": [
      "<ipython-input-134-562c000333bd>:70: FutureWarning:\n",
      "\n",
      "Indexing with multiple keys (implicitly converted to a tuple of keys) will be deprecated, use a list instead.\n",
      "\n"
     ]
    },
    {
     "output_type": "stream",
     "name": "stdout",
     "text": [
      "7\n",
      "['OTHER' 'GUSENBAUER']\n"
     ]
    },
    {
     "output_type": "stream",
     "name": "stderr",
     "text": [
      "<ipython-input-134-562c000333bd>:70: FutureWarning:\n",
      "\n",
      "Indexing with multiple keys (implicitly converted to a tuple of keys) will be deprecated, use a list instead.\n",
      "\n",
      "C:\\Users\\Joshualevy\\Anaconda3\\lib\\site-packages\\scipy\\stats\\stats.py:1603: UserWarning:\n",
      "\n",
      "kurtosistest only valid for n>=20 ... continuing anyway, n=14\n",
      "\n"
     ]
    },
    {
     "output_type": "stream",
     "name": "stdout",
     "text": [
      "308\n",
      "['OTHER' 'HARPER']\n"
     ]
    },
    {
     "output_type": "stream",
     "name": "stderr",
     "text": [
      "<ipython-input-134-562c000333bd>:70: FutureWarning:\n",
      "\n",
      "Indexing with multiple keys (implicitly converted to a tuple of keys) will be deprecated, use a list instead.\n",
      "\n"
     ]
    },
    {
     "output_type": "stream",
     "name": "stdout",
     "text": [
      "456\n",
      "['HOLLANDE' 'OTHER']\n"
     ]
    },
    {
     "output_type": "stream",
     "name": "stderr",
     "text": [
      "<ipython-input-134-562c000333bd>:70: FutureWarning:\n",
      "\n",
      "Indexing with multiple keys (implicitly converted to a tuple of keys) will be deprecated, use a list instead.\n",
      "\n"
     ]
    },
    {
     "output_type": "stream",
     "name": "stdout",
     "text": [
      "815\n",
      "['OTHER' 'HOWARD']\n"
     ]
    },
    {
     "output_type": "stream",
     "name": "stderr",
     "text": [
      "<ipython-input-134-562c000333bd>:70: FutureWarning:\n",
      "\n",
      "Indexing with multiple keys (implicitly converted to a tuple of keys) will be deprecated, use a list instead.\n",
      "\n"
     ]
    },
    {
     "output_type": "stream",
     "name": "stdout",
     "text": [
      "73\n",
      "['KEATING' 'OTHER']\n"
     ]
    },
    {
     "output_type": "stream",
     "name": "stderr",
     "text": [
      "<ipython-input-134-562c000333bd>:70: FutureWarning:\n",
      "\n",
      "Indexing with multiple keys (implicitly converted to a tuple of keys) will be deprecated, use a list instead.\n",
      "\n"
     ]
    },
    {
     "output_type": "stream",
     "name": "stdout",
     "text": [
      "6\n",
      "['KERN' 'OTHER']\n"
     ]
    },
    {
     "output_type": "stream",
     "name": "stderr",
     "text": [
      "<ipython-input-134-562c000333bd>:70: FutureWarning:\n",
      "\n",
      "Indexing with multiple keys (implicitly converted to a tuple of keys) will be deprecated, use a list instead.\n",
      "\n",
      "C:\\Users\\Joshualevy\\Anaconda3\\lib\\site-packages\\scipy\\stats\\stats.py:1603: UserWarning:\n",
      "\n",
      "kurtosistest only valid for n>=20 ... continuing anyway, n=12\n",
      "\n"
     ]
    },
    {
     "output_type": "stream",
     "name": "stdout",
     "text": [
      "14\n",
      "['OTHER' 'KLIMA']\n"
     ]
    },
    {
     "output_type": "stream",
     "name": "stderr",
     "text": [
      "<ipython-input-134-562c000333bd>:70: FutureWarning:\n",
      "\n",
      "Indexing with multiple keys (implicitly converted to a tuple of keys) will be deprecated, use a list instead.\n",
      "\n"
     ]
    },
    {
     "output_type": "stream",
     "name": "stdout",
     "text": [
      "24\n",
      "['KURZ' 'OTHER']\n"
     ]
    },
    {
     "output_type": "stream",
     "name": "stderr",
     "text": [
      "<ipython-input-134-562c000333bd>:70: FutureWarning:\n",
      "\n",
      "Indexing with multiple keys (implicitly converted to a tuple of keys) will be deprecated, use a list instead.\n",
      "\n"
     ]
    },
    {
     "output_type": "stream",
     "name": "stdout",
     "text": [
      "562\n",
      "['OTHER' 'MACRON']\n"
     ]
    },
    {
     "output_type": "stream",
     "name": "stderr",
     "text": [
      "<ipython-input-134-562c000333bd>:70: FutureWarning:\n",
      "\n",
      "Indexing with multiple keys (implicitly converted to a tuple of keys) will be deprecated, use a list instead.\n",
      "\n"
     ]
    },
    {
     "output_type": "stream",
     "name": "stdout",
     "text": [
      "338\n",
      "['OTHER' 'MARTIN']\n"
     ]
    },
    {
     "output_type": "stream",
     "name": "stderr",
     "text": [
      "<ipython-input-134-562c000333bd>:70: FutureWarning:\n",
      "\n",
      "Indexing with multiple keys (implicitly converted to a tuple of keys) will be deprecated, use a list instead.\n",
      "\n"
     ]
    },
    {
     "output_type": "stream",
     "name": "stdout",
     "text": [
      "4\n",
      "['MITTERAND' 'OTHER']\n"
     ]
    },
    {
     "output_type": "stream",
     "name": "stderr",
     "text": [
      "<ipython-input-134-562c000333bd>:70: FutureWarning:\n",
      "\n",
      "Indexing with multiple keys (implicitly converted to a tuple of keys) will be deprecated, use a list instead.\n",
      "\n",
      "C:\\Users\\Joshualevy\\Anaconda3\\lib\\site-packages\\scipy\\stats\\stats.py:1603: UserWarning:\n",
      "\n",
      "kurtosistest only valid for n>=20 ... continuing anyway, n=8\n",
      "\n",
      "<ipython-input-134-562c000333bd>:70: FutureWarning:\n",
      "\n",
      "Indexing with multiple keys (implicitly converted to a tuple of keys) will be deprecated, use a list instead.\n",
      "\n"
     ]
    },
    {
     "output_type": "stream",
     "name": "stdout",
     "text": [
      "2\n",
      "['MITTERLEHNER' 'OTHER']\n"
     ]
    },
    {
     "output_type": "stream",
     "name": "stderr",
     "text": [
      "C:\\Users\\Joshualevy\\Anaconda3\\lib\\site-packages\\statsmodels\\stats\\stattools.py:74: ValueWarning:\n",
      "\n",
      "omni_normtest is not valid with less than 8 observations; 4 samples were given.\n",
      "\n"
     ]
    },
    {
     "output_type": "stream",
     "name": "stdout",
     "text": [
      "497\n",
      "['MODI' 'OTHER']\n"
     ]
    },
    {
     "output_type": "stream",
     "name": "stderr",
     "text": [
      "<ipython-input-134-562c000333bd>:70: FutureWarning:\n",
      "\n",
      "Indexing with multiple keys (implicitly converted to a tuple of keys) will be deprecated, use a list instead.\n",
      "\n"
     ]
    },
    {
     "output_type": "stream",
     "name": "stdout",
     "text": [
      "26\n",
      "['OTHER' 'MULRONEY']\n"
     ]
    },
    {
     "output_type": "stream",
     "name": "stderr",
     "text": [
      "<ipython-input-134-562c000333bd>:70: FutureWarning:\n",
      "\n",
      "Indexing with multiple keys (implicitly converted to a tuple of keys) will be deprecated, use a list instead.\n",
      "\n"
     ]
    },
    {
     "output_type": "stream",
     "name": "stdout",
     "text": [
      "79\n",
      "['OTHER' 'OBUCHI']\n"
     ]
    },
    {
     "output_type": "stream",
     "name": "stderr",
     "text": [
      "<ipython-input-134-562c000333bd>:70: FutureWarning:\n",
      "\n",
      "Indexing with multiple keys (implicitly converted to a tuple of keys) will be deprecated, use a list instead.\n",
      "\n"
     ]
    },
    {
     "output_type": "stream",
     "name": "stdout",
     "text": [
      "185\n",
      "['OTHER' 'RAJOY']\n"
     ]
    },
    {
     "output_type": "stream",
     "name": "stderr",
     "text": [
      "<ipython-input-134-562c000333bd>:70: FutureWarning:\n",
      "\n",
      "Indexing with multiple keys (implicitly converted to a tuple of keys) will be deprecated, use a list instead.\n",
      "\n"
     ]
    },
    {
     "output_type": "stream",
     "name": "stdout",
     "text": [
      "113\n",
      "['OTHER' 'RAO']\n"
     ]
    },
    {
     "output_type": "stream",
     "name": "stderr",
     "text": [
      "<ipython-input-134-562c000333bd>:70: FutureWarning:\n",
      "\n",
      "Indexing with multiple keys (implicitly converted to a tuple of keys) will be deprecated, use a list instead.\n",
      "\n"
     ]
    },
    {
     "output_type": "stream",
     "name": "stdout",
     "text": [
      "98\n",
      "['OTHER' 'RUDD']\n"
     ]
    },
    {
     "output_type": "stream",
     "name": "stderr",
     "text": [
      "<ipython-input-134-562c000333bd>:70: FutureWarning:\n",
      "\n",
      "Indexing with multiple keys (implicitly converted to a tuple of keys) will be deprecated, use a list instead.\n",
      "\n"
     ]
    },
    {
     "output_type": "stream",
     "name": "stdout",
     "text": [
      "18\n",
      "['OTHER' 'RUDD']\n"
     ]
    },
    {
     "output_type": "stream",
     "name": "stderr",
     "text": [
      "<ipython-input-134-562c000333bd>:70: FutureWarning:\n",
      "\n",
      "Indexing with multiple keys (implicitly converted to a tuple of keys) will be deprecated, use a list instead.\n",
      "\n"
     ]
    },
    {
     "output_type": "stream",
     "name": "stdout",
     "text": [
      "10\n",
      "['OTHER' 'SANCHEZ']\n"
     ]
    },
    {
     "output_type": "stream",
     "name": "stderr",
     "text": [
      "<ipython-input-134-562c000333bd>:70: FutureWarning:\n",
      "\n",
      "Indexing with multiple keys (implicitly converted to a tuple of keys) will be deprecated, use a list instead.\n",
      "\n"
     ]
    },
    {
     "output_type": "stream",
     "name": "stdout",
     "text": [
      "868\n",
      "['OTHER' 'SARKOZY']\n"
     ]
    },
    {
     "output_type": "stream",
     "name": "stderr",
     "text": [
      "<ipython-input-134-562c000333bd>:70: FutureWarning:\n",
      "\n",
      "Indexing with multiple keys (implicitly converted to a tuple of keys) will be deprecated, use a list instead.\n",
      "\n"
     ]
    },
    {
     "output_type": "stream",
     "name": "stdout",
     "text": [
      "43\n",
      "['OTHER' 'SCHUSSEL']\n"
     ]
    },
    {
     "output_type": "stream",
     "name": "stderr",
     "text": [
      "<ipython-input-134-562c000333bd>:70: FutureWarning:\n",
      "\n",
      "Indexing with multiple keys (implicitly converted to a tuple of keys) will be deprecated, use a list instead.\n",
      "\n"
     ]
    },
    {
     "output_type": "stream",
     "name": "stdout",
     "text": [
      "445\n",
      "['OTHER' 'SINGH']\n"
     ]
    },
    {
     "output_type": "stream",
     "name": "stderr",
     "text": [
      "<ipython-input-134-562c000333bd>:70: FutureWarning:\n",
      "\n",
      "Indexing with multiple keys (implicitly converted to a tuple of keys) will be deprecated, use a list instead.\n",
      "\n"
     ]
    },
    {
     "output_type": "stream",
     "name": "stdout",
     "text": [
      "151\n",
      "['OTHER' 'TRUDEAU']\n"
     ]
    },
    {
     "output_type": "stream",
     "name": "stderr",
     "text": [
      "<ipython-input-134-562c000333bd>:70: FutureWarning:\n",
      "\n",
      "Indexing with multiple keys (implicitly converted to a tuple of keys) will be deprecated, use a list instead.\n",
      "\n"
     ]
    },
    {
     "output_type": "stream",
     "name": "stdout",
     "text": [
      "75\n",
      "['OTHER' 'TURNBULL']\n"
     ]
    },
    {
     "output_type": "stream",
     "name": "stderr",
     "text": [
      "<ipython-input-134-562c000333bd>:70: FutureWarning:\n",
      "\n",
      "Indexing with multiple keys (implicitly converted to a tuple of keys) will be deprecated, use a list instead.\n",
      "\n"
     ]
    },
    {
     "output_type": "stream",
     "name": "stdout",
     "text": [
      "5\n",
      "['OTHER' 'VAJPAYEE']\n"
     ]
    },
    {
     "output_type": "stream",
     "name": "stderr",
     "text": [
      "<ipython-input-134-562c000333bd>:70: FutureWarning:\n",
      "\n",
      "Indexing with multiple keys (implicitly converted to a tuple of keys) will be deprecated, use a list instead.\n",
      "\n",
      "C:\\Users\\Joshualevy\\Anaconda3\\lib\\site-packages\\scipy\\stats\\stats.py:1603: UserWarning:\n",
      "\n",
      "kurtosistest only valid for n>=20 ... continuing anyway, n=10\n",
      "\n"
     ]
    },
    {
     "output_type": "stream",
     "name": "stdout",
     "text": [
      "173\n",
      "['OTHER' 'VAJPAYEE']\n"
     ]
    },
    {
     "output_type": "stream",
     "name": "stderr",
     "text": [
      "<ipython-input-134-562c000333bd>:70: FutureWarning:\n",
      "\n",
      "Indexing with multiple keys (implicitly converted to a tuple of keys) will be deprecated, use a list instead.\n",
      "\n"
     ]
    },
    {
     "output_type": "stream",
     "name": "stdout",
     "text": [
      "13\n",
      "['OTHER' 'VRANITZKY']\n"
     ]
    },
    {
     "output_type": "stream",
     "name": "stderr",
     "text": [
      "<ipython-input-134-562c000333bd>:70: FutureWarning:\n",
      "\n",
      "Indexing with multiple keys (implicitly converted to a tuple of keys) will be deprecated, use a list instead.\n",
      "\n"
     ]
    },
    {
     "output_type": "stream",
     "name": "stdout",
     "text": [
      "212\n",
      "['OTHER' 'ZAPATERO']\n"
     ]
    },
    {
     "output_type": "stream",
     "name": "stderr",
     "text": [
      "<ipython-input-134-562c000333bd>:70: FutureWarning:\n",
      "\n",
      "Indexing with multiple keys (implicitly converted to a tuple of keys) will be deprecated, use a list instead.\n",
      "\n"
     ]
    }
   ],
   "metadata": {}
  },
  {
   "cell_type": "code",
   "execution_count": 165,
   "source": [
    "coef_together_df = coef_together_df.loc['x1', :]\r\n",
    "coef_together_df['leader_order'] = coef_together_df.groupby(by=['country']).rank(method='dense', )\r\n",
    "coef_together_df[coef_together_df.country == \"SPAIN\"]\r\n",
    "print(coef_together_df.head(5)['P>|t|'])\r\n",
    "\r\n",
    "print(list(zip(coef_together_df.head(10).leader.tolist(), coef_together_df.head(10)['P>|t|'].tolist())))\r\n"
   ],
   "outputs": [
    {
     "output_type": "stream",
     "name": "stdout",
     "text": [
      "x1    0.000\n",
      "x1    0.000\n",
      "x1    0.000\n",
      "x1    0.000\n",
      "x1    0.009\n",
      "Name: P>|t|, dtype: float64\n",
      "[('AZNAR', 0.0), ('CAMPBELL', 0.0), ('CHIRAC', 0.0), ('CHRETIEN', 0.0), ('FAYMANN', 0.009), ('GILLARD', 0.0), ('GONZALEZ', 0.0), ('GOWDA', 0.0), ('GUJRAL', 0.0), ('GUSENBAUER', 0.004)]\n"
     ]
    }
   ],
   "metadata": {}
  },
  {
   "cell_type": "code",
   "execution_count": 169,
   "source": [
    "import plotly.graph_objects as go\r\n",
    "\r\n",
    "corel_heatmap = go.Figure(data=go.Heatmap(\r\n",
    "    z=coef_together_df.coef,\r\n",
    "    x=coef_together_df.country,\r\n",
    "    y=coef_together_df.leader_order,\r\n",
    "    customdata=list(zip(coef_together_df.leader.tolist(), coef_together_df['P>|t|'].tolist())),\r\n",
    "    colorscale='Viridis',\r\n",
    "    hoverongaps=False,\r\n",
    "))\r\n",
    "\r\n",
    "corel_heatmap.update_traces(\r\n",
    "        hovertemplate=\"<br>\".join([\r\n",
    "            \"Leader: %{customdata[0]}\",\r\n",
    "            \"P-value: %{customdata[1]} <extra></extra>\"\r\n",
    "        ])\r\n",
    ")\r\n",
    "\r\n",
    "corel_heatmap.show()"
   ],
   "outputs": [
    {
     "output_type": "display_data",
     "data": {
      "application/vnd.plotly.v1+json": {
       "config": {
        "plotlyServerURL": "https://plot.ly"
       },
       "data": [
        {
         "colorscale": [
          [
           0,
           "#440154"
          ],
          [
           0.1111111111111111,
           "#482878"
          ],
          [
           0.2222222222222222,
           "#3e4989"
          ],
          [
           0.3333333333333333,
           "#31688e"
          ],
          [
           0.4444444444444444,
           "#26828e"
          ],
          [
           0.5555555555555556,
           "#1f9e89"
          ],
          [
           0.6666666666666666,
           "#35b779"
          ],
          [
           0.7777777777777778,
           "#6ece58"
          ],
          [
           0.8888888888888888,
           "#b5de2b"
          ],
          [
           1,
           "#fde725"
          ]
         ],
         "customdata": [
          [
           "AZNAR",
           0
          ],
          [
           "CAMPBELL",
           0
          ],
          [
           "CHIRAC",
           0
          ],
          [
           "CHRETIEN",
           0
          ],
          [
           "FAYMANN",
           0.009
          ],
          [
           "GILLARD",
           0
          ],
          [
           "GONZALEZ",
           0
          ],
          [
           "GOWDA",
           0
          ],
          [
           "GUJRAL",
           0
          ],
          [
           "GUSENBAUER",
           0.004
          ],
          [
           "HARPER",
           0
          ],
          [
           "HOLLANDE",
           0
          ],
          [
           "HOWARD",
           0
          ],
          [
           "KEATING",
           0
          ],
          [
           "KERN",
           0.113
          ],
          [
           "KLIMA",
           0.045
          ],
          [
           "KURZ",
           0
          ],
          [
           "MACRON",
           0
          ],
          [
           "MARTIN",
           0
          ],
          [
           "MITTERAND",
           0.002
          ],
          [
           "MITTERLEHNER",
           0.143
          ],
          [
           "MODI",
           0
          ],
          [
           "MULRONEY",
           0
          ],
          [
           "OBUCHI",
           0
          ],
          [
           "RAJOY",
           0
          ],
          [
           "RAO",
           0
          ],
          [
           "RUDD",
           0
          ],
          [
           "RUDD",
           0.012
          ],
          [
           "SANCHEZ",
           0.007
          ],
          [
           "SARKOZY",
           0
          ],
          [
           "SCHUSSEL",
           0
          ],
          [
           "SINGH",
           0
          ],
          [
           "TRUDEAU",
           0
          ],
          [
           "TURNBULL",
           0
          ],
          [
           "VAJPAYEE",
           0.156
          ],
          [
           "VAJPAYEE",
           0
          ],
          [
           "VRANITZKY",
           0.01
          ],
          [
           "ZAPATERO",
           0
          ]
         ],
         "hoverongaps": false,
         "hovertemplate": "Leader: %{customdata[0]}<br>P-value: %{customdata[1]} <extra></extra>",
         "type": "heatmap",
         "x": [
          "SPAIN",
          "CANADA",
          "FRANCE",
          "CANADA",
          "AUSTRIA",
          "AUSTRALIA",
          "SPAIN",
          "INDIA",
          "INDIA",
          "AUSTRIA",
          "CANADA",
          "FRANCE",
          "AUSTRALIA",
          "AUSTRALIA",
          "AUSTRIA",
          "AUSTRIA",
          "AUSTRIA",
          "FRANCE",
          "CANADA",
          "FRANCE",
          "AUSTRIA",
          "INDIA",
          "CANADA",
          "JAPAN",
          "SPAIN",
          "INDIA",
          "AUSTRALIA",
          "AUSTRALIA",
          "SPAIN",
          "FRANCE",
          "AUSTRIA",
          "INDIA",
          "CANADA",
          "AUSTRALIA",
          "INDIA",
          "INDIA",
          "AUSTRIA",
          "SPAIN"
         ],
         "y": [
          4,
          4,
          1,
          2,
          4,
          3,
          3,
          3,
          2,
          5,
          1,
          4,
          5,
          6,
          2,
          1,
          8,
          3,
          2,
          5,
          7,
          6,
          5,
          1,
          1,
          5,
          4,
          1,
          5,
          2,
          6,
          7,
          3,
          2,
          1,
          4,
          3,
          2
         ],
         "z": [
          0.1282,
          0.1528,
          0.1139,
          0.1175,
          0.0931,
          0.1277,
          0.1177,
          0.1187,
          0.0969,
          0.1005,
          0.1088,
          0.1254,
          0.1343,
          0.1374,
          0.0846,
          0.0677,
          0.1547,
          0.1239,
          0.1175,
          0.1615,
          0.1307,
          0.1384,
          0.1638,
          0.1005,
          0.0997,
          0.1337,
          0.1335,
          0.0525,
          0.139,
          0.1187,
          0.1204,
          0.1521,
          0.1429,
          0.1202,
          0.0639,
          0.1287,
          0.0862,
          0.1174
         ]
        }
       ],
       "layout": {
        "template": {
         "data": {
          "bar": [
           {
            "error_x": {
             "color": "#2a3f5f"
            },
            "error_y": {
             "color": "#2a3f5f"
            },
            "marker": {
             "line": {
              "color": "#E5ECF6",
              "width": 0.5
             },
             "pattern": {
              "fillmode": "overlay",
              "size": 10,
              "solidity": 0.2
             }
            },
            "type": "bar"
           }
          ],
          "barpolar": [
           {
            "marker": {
             "line": {
              "color": "#E5ECF6",
              "width": 0.5
             },
             "pattern": {
              "fillmode": "overlay",
              "size": 10,
              "solidity": 0.2
             }
            },
            "type": "barpolar"
           }
          ],
          "carpet": [
           {
            "aaxis": {
             "endlinecolor": "#2a3f5f",
             "gridcolor": "white",
             "linecolor": "white",
             "minorgridcolor": "white",
             "startlinecolor": "#2a3f5f"
            },
            "baxis": {
             "endlinecolor": "#2a3f5f",
             "gridcolor": "white",
             "linecolor": "white",
             "minorgridcolor": "white",
             "startlinecolor": "#2a3f5f"
            },
            "type": "carpet"
           }
          ],
          "choropleth": [
           {
            "colorbar": {
             "outlinewidth": 0,
             "ticks": ""
            },
            "type": "choropleth"
           }
          ],
          "contour": [
           {
            "colorbar": {
             "outlinewidth": 0,
             "ticks": ""
            },
            "colorscale": [
             [
              0,
              "#0d0887"
             ],
             [
              0.1111111111111111,
              "#46039f"
             ],
             [
              0.2222222222222222,
              "#7201a8"
             ],
             [
              0.3333333333333333,
              "#9c179e"
             ],
             [
              0.4444444444444444,
              "#bd3786"
             ],
             [
              0.5555555555555556,
              "#d8576b"
             ],
             [
              0.6666666666666666,
              "#ed7953"
             ],
             [
              0.7777777777777778,
              "#fb9f3a"
             ],
             [
              0.8888888888888888,
              "#fdca26"
             ],
             [
              1,
              "#f0f921"
             ]
            ],
            "type": "contour"
           }
          ],
          "contourcarpet": [
           {
            "colorbar": {
             "outlinewidth": 0,
             "ticks": ""
            },
            "type": "contourcarpet"
           }
          ],
          "heatmap": [
           {
            "colorbar": {
             "outlinewidth": 0,
             "ticks": ""
            },
            "colorscale": [
             [
              0,
              "#0d0887"
             ],
             [
              0.1111111111111111,
              "#46039f"
             ],
             [
              0.2222222222222222,
              "#7201a8"
             ],
             [
              0.3333333333333333,
              "#9c179e"
             ],
             [
              0.4444444444444444,
              "#bd3786"
             ],
             [
              0.5555555555555556,
              "#d8576b"
             ],
             [
              0.6666666666666666,
              "#ed7953"
             ],
             [
              0.7777777777777778,
              "#fb9f3a"
             ],
             [
              0.8888888888888888,
              "#fdca26"
             ],
             [
              1,
              "#f0f921"
             ]
            ],
            "type": "heatmap"
           }
          ],
          "heatmapgl": [
           {
            "colorbar": {
             "outlinewidth": 0,
             "ticks": ""
            },
            "colorscale": [
             [
              0,
              "#0d0887"
             ],
             [
              0.1111111111111111,
              "#46039f"
             ],
             [
              0.2222222222222222,
              "#7201a8"
             ],
             [
              0.3333333333333333,
              "#9c179e"
             ],
             [
              0.4444444444444444,
              "#bd3786"
             ],
             [
              0.5555555555555556,
              "#d8576b"
             ],
             [
              0.6666666666666666,
              "#ed7953"
             ],
             [
              0.7777777777777778,
              "#fb9f3a"
             ],
             [
              0.8888888888888888,
              "#fdca26"
             ],
             [
              1,
              "#f0f921"
             ]
            ],
            "type": "heatmapgl"
           }
          ],
          "histogram": [
           {
            "marker": {
             "pattern": {
              "fillmode": "overlay",
              "size": 10,
              "solidity": 0.2
             }
            },
            "type": "histogram"
           }
          ],
          "histogram2d": [
           {
            "colorbar": {
             "outlinewidth": 0,
             "ticks": ""
            },
            "colorscale": [
             [
              0,
              "#0d0887"
             ],
             [
              0.1111111111111111,
              "#46039f"
             ],
             [
              0.2222222222222222,
              "#7201a8"
             ],
             [
              0.3333333333333333,
              "#9c179e"
             ],
             [
              0.4444444444444444,
              "#bd3786"
             ],
             [
              0.5555555555555556,
              "#d8576b"
             ],
             [
              0.6666666666666666,
              "#ed7953"
             ],
             [
              0.7777777777777778,
              "#fb9f3a"
             ],
             [
              0.8888888888888888,
              "#fdca26"
             ],
             [
              1,
              "#f0f921"
             ]
            ],
            "type": "histogram2d"
           }
          ],
          "histogram2dcontour": [
           {
            "colorbar": {
             "outlinewidth": 0,
             "ticks": ""
            },
            "colorscale": [
             [
              0,
              "#0d0887"
             ],
             [
              0.1111111111111111,
              "#46039f"
             ],
             [
              0.2222222222222222,
              "#7201a8"
             ],
             [
              0.3333333333333333,
              "#9c179e"
             ],
             [
              0.4444444444444444,
              "#bd3786"
             ],
             [
              0.5555555555555556,
              "#d8576b"
             ],
             [
              0.6666666666666666,
              "#ed7953"
             ],
             [
              0.7777777777777778,
              "#fb9f3a"
             ],
             [
              0.8888888888888888,
              "#fdca26"
             ],
             [
              1,
              "#f0f921"
             ]
            ],
            "type": "histogram2dcontour"
           }
          ],
          "mesh3d": [
           {
            "colorbar": {
             "outlinewidth": 0,
             "ticks": ""
            },
            "type": "mesh3d"
           }
          ],
          "parcoords": [
           {
            "line": {
             "colorbar": {
              "outlinewidth": 0,
              "ticks": ""
             }
            },
            "type": "parcoords"
           }
          ],
          "pie": [
           {
            "automargin": true,
            "type": "pie"
           }
          ],
          "scatter": [
           {
            "marker": {
             "colorbar": {
              "outlinewidth": 0,
              "ticks": ""
             }
            },
            "type": "scatter"
           }
          ],
          "scatter3d": [
           {
            "line": {
             "colorbar": {
              "outlinewidth": 0,
              "ticks": ""
             }
            },
            "marker": {
             "colorbar": {
              "outlinewidth": 0,
              "ticks": ""
             }
            },
            "type": "scatter3d"
           }
          ],
          "scattercarpet": [
           {
            "marker": {
             "colorbar": {
              "outlinewidth": 0,
              "ticks": ""
             }
            },
            "type": "scattercarpet"
           }
          ],
          "scattergeo": [
           {
            "marker": {
             "colorbar": {
              "outlinewidth": 0,
              "ticks": ""
             }
            },
            "type": "scattergeo"
           }
          ],
          "scattergl": [
           {
            "marker": {
             "colorbar": {
              "outlinewidth": 0,
              "ticks": ""
             }
            },
            "type": "scattergl"
           }
          ],
          "scattermapbox": [
           {
            "marker": {
             "colorbar": {
              "outlinewidth": 0,
              "ticks": ""
             }
            },
            "type": "scattermapbox"
           }
          ],
          "scatterpolar": [
           {
            "marker": {
             "colorbar": {
              "outlinewidth": 0,
              "ticks": ""
             }
            },
            "type": "scatterpolar"
           }
          ],
          "scatterpolargl": [
           {
            "marker": {
             "colorbar": {
              "outlinewidth": 0,
              "ticks": ""
             }
            },
            "type": "scatterpolargl"
           }
          ],
          "scatterternary": [
           {
            "marker": {
             "colorbar": {
              "outlinewidth": 0,
              "ticks": ""
             }
            },
            "type": "scatterternary"
           }
          ],
          "surface": [
           {
            "colorbar": {
             "outlinewidth": 0,
             "ticks": ""
            },
            "colorscale": [
             [
              0,
              "#0d0887"
             ],
             [
              0.1111111111111111,
              "#46039f"
             ],
             [
              0.2222222222222222,
              "#7201a8"
             ],
             [
              0.3333333333333333,
              "#9c179e"
             ],
             [
              0.4444444444444444,
              "#bd3786"
             ],
             [
              0.5555555555555556,
              "#d8576b"
             ],
             [
              0.6666666666666666,
              "#ed7953"
             ],
             [
              0.7777777777777778,
              "#fb9f3a"
             ],
             [
              0.8888888888888888,
              "#fdca26"
             ],
             [
              1,
              "#f0f921"
             ]
            ],
            "type": "surface"
           }
          ],
          "table": [
           {
            "cells": {
             "fill": {
              "color": "#EBF0F8"
             },
             "line": {
              "color": "white"
             }
            },
            "header": {
             "fill": {
              "color": "#C8D4E3"
             },
             "line": {
              "color": "white"
             }
            },
            "type": "table"
           }
          ]
         },
         "layout": {
          "annotationdefaults": {
           "arrowcolor": "#2a3f5f",
           "arrowhead": 0,
           "arrowwidth": 1
          },
          "autotypenumbers": "strict",
          "coloraxis": {
           "colorbar": {
            "outlinewidth": 0,
            "ticks": ""
           }
          },
          "colorscale": {
           "diverging": [
            [
             0,
             "#8e0152"
            ],
            [
             0.1,
             "#c51b7d"
            ],
            [
             0.2,
             "#de77ae"
            ],
            [
             0.3,
             "#f1b6da"
            ],
            [
             0.4,
             "#fde0ef"
            ],
            [
             0.5,
             "#f7f7f7"
            ],
            [
             0.6,
             "#e6f5d0"
            ],
            [
             0.7,
             "#b8e186"
            ],
            [
             0.8,
             "#7fbc41"
            ],
            [
             0.9,
             "#4d9221"
            ],
            [
             1,
             "#276419"
            ]
           ],
           "sequential": [
            [
             0,
             "#0d0887"
            ],
            [
             0.1111111111111111,
             "#46039f"
            ],
            [
             0.2222222222222222,
             "#7201a8"
            ],
            [
             0.3333333333333333,
             "#9c179e"
            ],
            [
             0.4444444444444444,
             "#bd3786"
            ],
            [
             0.5555555555555556,
             "#d8576b"
            ],
            [
             0.6666666666666666,
             "#ed7953"
            ],
            [
             0.7777777777777778,
             "#fb9f3a"
            ],
            [
             0.8888888888888888,
             "#fdca26"
            ],
            [
             1,
             "#f0f921"
            ]
           ],
           "sequentialminus": [
            [
             0,
             "#0d0887"
            ],
            [
             0.1111111111111111,
             "#46039f"
            ],
            [
             0.2222222222222222,
             "#7201a8"
            ],
            [
             0.3333333333333333,
             "#9c179e"
            ],
            [
             0.4444444444444444,
             "#bd3786"
            ],
            [
             0.5555555555555556,
             "#d8576b"
            ],
            [
             0.6666666666666666,
             "#ed7953"
            ],
            [
             0.7777777777777778,
             "#fb9f3a"
            ],
            [
             0.8888888888888888,
             "#fdca26"
            ],
            [
             1,
             "#f0f921"
            ]
           ]
          },
          "colorway": [
           "#636efa",
           "#EF553B",
           "#00cc96",
           "#ab63fa",
           "#FFA15A",
           "#19d3f3",
           "#FF6692",
           "#B6E880",
           "#FF97FF",
           "#FECB52"
          ],
          "font": {
           "color": "#2a3f5f"
          },
          "geo": {
           "bgcolor": "white",
           "lakecolor": "white",
           "landcolor": "#E5ECF6",
           "showlakes": true,
           "showland": true,
           "subunitcolor": "white"
          },
          "hoverlabel": {
           "align": "left"
          },
          "hovermode": "closest",
          "mapbox": {
           "style": "light"
          },
          "paper_bgcolor": "white",
          "plot_bgcolor": "#E5ECF6",
          "polar": {
           "angularaxis": {
            "gridcolor": "white",
            "linecolor": "white",
            "ticks": ""
           },
           "bgcolor": "#E5ECF6",
           "radialaxis": {
            "gridcolor": "white",
            "linecolor": "white",
            "ticks": ""
           }
          },
          "scene": {
           "xaxis": {
            "backgroundcolor": "#E5ECF6",
            "gridcolor": "white",
            "gridwidth": 2,
            "linecolor": "white",
            "showbackground": true,
            "ticks": "",
            "zerolinecolor": "white"
           },
           "yaxis": {
            "backgroundcolor": "#E5ECF6",
            "gridcolor": "white",
            "gridwidth": 2,
            "linecolor": "white",
            "showbackground": true,
            "ticks": "",
            "zerolinecolor": "white"
           },
           "zaxis": {
            "backgroundcolor": "#E5ECF6",
            "gridcolor": "white",
            "gridwidth": 2,
            "linecolor": "white",
            "showbackground": true,
            "ticks": "",
            "zerolinecolor": "white"
           }
          },
          "shapedefaults": {
           "line": {
            "color": "#2a3f5f"
           }
          },
          "ternary": {
           "aaxis": {
            "gridcolor": "white",
            "linecolor": "white",
            "ticks": ""
           },
           "baxis": {
            "gridcolor": "white",
            "linecolor": "white",
            "ticks": ""
           },
           "bgcolor": "#E5ECF6",
           "caxis": {
            "gridcolor": "white",
            "linecolor": "white",
            "ticks": ""
           }
          },
          "title": {
           "x": 0.05
          },
          "xaxis": {
           "automargin": true,
           "gridcolor": "white",
           "linecolor": "white",
           "ticks": "",
           "title": {
            "standoff": 15
           },
           "zerolinecolor": "white",
           "zerolinewidth": 2
          },
          "yaxis": {
           "automargin": true,
           "gridcolor": "white",
           "linecolor": "white",
           "ticks": "",
           "title": {
            "standoff": 15
           },
           "zerolinecolor": "white",
           "zerolinewidth": 2
          }
         }
        }
       }
      }
     },
     "metadata": {}
    }
   ],
   "metadata": {}
  }
 ],
 "metadata": {
  "orig_nbformat": 4,
  "language_info": {
   "name": "python",
   "version": "3.8.8",
   "mimetype": "text/x-python",
   "codemirror_mode": {
    "name": "ipython",
    "version": 3
   },
   "pygments_lexer": "ipython3",
   "nbconvert_exporter": "python",
   "file_extension": ".py"
  },
  "kernelspec": {
   "name": "python3",
   "display_name": "Python 3.8.8 64-bit ('base': conda)"
  },
  "interpreter": {
   "hash": "2df2000a0b5db8cfb7123a9e988e96ee6c542897cd038d7b37140af7c2d7aa32"
  }
 },
 "nbformat": 4,
 "nbformat_minor": 2
}