{
 "cells": [
  {
   "cell_type": "code",
   "execution_count": 1,
   "source": [
    "import pandas as pd\r\n",
    "from allennlp.predictors.predictor import Predictor\r\n",
    "from datetime import datetime as dt\r\n",
    "from dateutil.relativedelta import *\r\n",
    "from tqdm import tqdm\r\n",
    "from fuzzywuzzy import fuzz\r\n",
    "from fuzzywuzzy import process\r\n",
    "import os\r\n",
    "import allennlp_models.tagging\r\n",
    "import spacy\r\n",
    "import re\r\n"
   ],
   "outputs": [],
   "metadata": {}
  },
  {
   "cell_type": "code",
   "execution_count": 2,
   "source": [
    "# Load in the coreference resolution tool/object\r\n",
    "predictor = Predictor.from_path('https://storage.googleapis.com/allennlp-public-models/coref-spanbert-large-2021.03.10.tar.gz')\r\n",
    "nlp = spacy.load('en_core_web_sm')"
   ],
   "outputs": [
    {
     "output_type": "stream",
     "name": "stderr",
     "text": [
      "error loading _jsonnet (this is expected on Windows), treating C:\\Users\\Joshua\\AppData\\Local\\Temp\\tmphj8yn63h\\config.json as plain json\n",
      "Some weights of BertModel were not initialized from the model checkpoint at SpanBERT/spanbert-large-cased and are newly initialized: ['bert.pooler.dense.weight', 'bert.pooler.dense.bias']\n",
      "You should probably TRAIN this model on a down-stream task to be able to use it for predictions and inference.\n"
     ]
    }
   ],
   "metadata": {}
  },
  {
   "cell_type": "code",
   "execution_count": 3,
   "source": [
    "## SOME DOCUMENTATION\r\n",
    "# https://chairnerd.seatgeek.com/fuzzywuzzy-fuzzy-string-matching-in-python/\r\n",
    "# https://github.com/seatgeek/fuzzywuzzy\r\n",
    "def leaderAliasGenerator(leader_observation):\r\n",
    "    row = leader_observation\r\n",
    "    full_name_tuple = (row.econ_style_first, row.econ_style_last)\r\n",
    "    full_name = str.title(' '.join(full_name_tuple))\r\n",
    "\r\n",
    "    title_last_pref_tuple = (row.hos_title, row.econ_style_last)\r\n",
    "    title_last_pref = str.title(' '.join(title_last_pref_tuple))\r\n",
    "\r\n",
    "\r\n",
    "    \r\n",
    "    # Adding gendered honorifics\r\n",
    "    if row.gender == 1:\r\n",
    "        hon_list = []\r\n",
    "        hon = \"Mr\"\r\n",
    "        hon_last = str.title(' '.join([hon, row.econ_style_last]))\r\n",
    "        hon_list.append(hon_last)\r\n",
    "    else:\r\n",
    "        hon_1 = \"Ms\"\r\n",
    "        hon_last_1 = str.title(' '.join([hon_1, row.econ_style_last]))\r\n",
    "        hon_2 = \"Miss\"\r\n",
    "        hon_last_2 = str.title(' '.join([hon_2, row.econ_style_last]))\r\n",
    "        hon_3 = \"Mrs\"\r\n",
    "        hon_last_3 = str.title(' '.join([hon_3, row.econ_style_last]))\r\n",
    "\r\n",
    "\r\n",
    "    choices = [full_name, title_last_pref] + hon_list\r\n",
    "\r\n",
    "\r\n",
    "    #Adding other/type of honorific if necessary/available\r\n",
    "    if type(row.hos_title_other) != float:\r\n",
    "        title_last_alt_tuple = (row.hos_title_other, row.econ_style_last)\r\n",
    "        title_last_alt = str.title(' '.join(title_last_alt_tuple))\r\n",
    "        \r\n",
    "        choices.insert(2, title_last_alt)\r\n",
    "\r\n",
    "    # Adding Economist-style alias if necessary/available\r\n",
    "    if type(row.econ_style_alias) != float:\r\n",
    "        alias = row.econ_style_alias\r\n",
    "        econ_alias = str.title(alias)\r\n",
    "\r\n",
    "        choices.insert(2, econ_alias)\r\n",
    "\r\n",
    "    return choices\r\n"
   ],
   "outputs": [],
   "metadata": {}
  },
  {
   "cell_type": "code",
   "execution_count": 4,
   "source": [
    "def fuzzy_leader_search(plain_text, choices): \r\n",
    "    honorifics = [\"Mr\", \"Ms\", \"Miss\", \"Mrs\"]\r\n",
    "    topSetMatch = process.extract(plain_text, choices, scorer=fuzz.token_set_ratio)\r\n",
    "\r\n",
    "    for alias in topSetMatch:\r\n",
    "        # IF WE ARE CONSIDERING Mr/Ms _____ AS THE CANDIDATE HONORIFIC RAISE THE THRESHOLD FOR MATCH TO 100 (BASICALLY PERFECT MATCH)\r\n",
    "        if alias[0].split()[0] in honorifics:\r\n",
    "            if alias[1] == 100:\r\n",
    "                return True\r\n",
    "            else:\r\n",
    "                continue\r\n",
    "        # WE ARE CONSIDERING A FULL NAME OR A TILE NAME Like President ____\r\n",
    "        else:\r\n",
    "            if alias[1] >= 90:\r\n",
    "                return True\r\n",
    "\r\n",
    "    return False \r\n"
   ],
   "outputs": [],
   "metadata": {}
  },
  {
   "cell_type": "code",
   "execution_count": 5,
   "source": [
    "def replaceCoref(name, clusters, cluster_interest_index, document, tokenized_df):\r\n",
    "    name_pos = name + \"\\'s\"\r\n",
    "    name_pos = name_pos.split()\r\n",
    "    name = name.split()\r\n",
    "\r\n",
    "    base_cluster = clusters[cluster_interest_index]\r\n",
    "    print(base_cluster)\r\n",
    "    \r\n",
    "    #Coreferences are replaced in reverse order so that we as we replace references that occur towards the end of the article we don't have to worry about how new string/list length is affected. That is, the indices identified in base_cluster are still valid.\r\n",
    "    rev_cluster  = sorted(base_cluster, key = lambda x: x[0], reverse = True)\r\n",
    "    new_doc_list = document\r\n",
    "\r\n",
    "    df = tokenized_df\r\n",
    "    \r\n",
    "    # print(\"REPLACING COREFERENCES\")\r\n",
    "    # print(name_pos)\r\n",
    "    # print(name)\r\n",
    "    for index_pair in rev_cluster:\r\n",
    "        start_index = index_pair[0]\r\n",
    "        stop_index = index_pair[1]+1\r\n",
    "\r\n",
    "        # Replacing one element (i.e. pronouns/possessives)\r\n",
    "        if start_index == stop_index:\r\n",
    "            if containsPossessive(df, start_index, stop_index) == True:\r\n",
    "                new_doc_list[start_index:stop_index] = name_pos\r\n",
    "            else:\r\n",
    "                new_doc_list[start_index:stop_index] = name\r\n",
    "            new_doc_list.pop(start_index+2)\r\n",
    "        # Replacing two or more elements\r\n",
    "        else:\r\n",
    "            if containsPossessive(df, start_index, stop_index) == True:\r\n",
    "                new_doc_list[start_index:stop_index] = name_pos\r\n",
    "            else:\r\n",
    "                new_doc_list[start_index:stop_index] = name\r\n",
    "\r\n",
    "    print(new_doc_list)\r\n",
    "    return new_doc_list"
   ],
   "outputs": [],
   "metadata": {}
  },
  {
   "cell_type": "code",
   "execution_count": 6,
   "source": [
    "def containsPossessive(df, start_index, stop_index):\r\n",
    "    possessive_tags = ['POS', 'PRP$']\r\n",
    "    cluster_tags = df['tag'].iloc[start_index:stop_index]\r\n",
    "    # .isdisjoint returns true if the two sets are disjoin (i.e. do not have any elements interesecting (i.e. does not contain a POS or PRP$)). So negate to return True if \"NOT DISJOINT\" (CONTAINS POS/PRP$)\r\n",
    "    if not set(possessive_tags).isdisjoint(set(cluster_tags)):\r\n",
    "        return True\r\n",
    "    else:\r\n",
    "        return False"
   ],
   "outputs": [],
   "metadata": {}
  },
  {
   "cell_type": "code",
   "execution_count": 7,
   "source": [
    "def identifyMainCluster(clusters, name, document):\r\n",
    "    clusters = clusters\r\n",
    "    aliases = name\r\n",
    "\r\n",
    "\r\n",
    "    for cluster in clusters:\r\n",
    "        for index_pair in cluster:\r\n",
    "            start_index = index_pair[0]\r\n",
    "            stop_index = index_pair[1]+1\r\n",
    "            cluster_as_string = ' '.join(document[start_index:stop_index])\r\n",
    "\r\n",
    "            top_set_match = process.extract(cluster_as_string, aliases)\r\n",
    "            fuzz_match_results = zip(*top_set_match)\r\n",
    "            fuzz_match_res_unzipped = list(fuzz_match_results)\r\n",
    "            scores = fuzz_match_res_unzipped[1]\r\n",
    "\r\n",
    "            if max(scores) >= 90:\r\n",
    "                cluster_index = clusters.index(cluster)\r\n",
    "                # print(cluster_index)\r\n",
    "                # print(top_set_match)\r\n",
    "                return cluster_index\r\n",
    "\r\n",
    "    # There may be instances in which the leader is mentioned but not in a fashion that is sufficiently important to be picked up as an entity by the model. These are usually in instances where the leader is only an object in the sentence and never becomes a subject. In those instances no replacement takes place.\r\n"
   ],
   "outputs": [],
   "metadata": {}
  },
  {
   "cell_type": "code",
   "execution_count": 8,
   "source": [
    "def termLimitChecker(date, start, end):\r\n",
    "\r\n",
    "    if start <= date <= end: \r\n",
    "        return \"IN TERM\"\r\n",
    "    elif date < start:\r\n",
    "        return \"PRE TERM\"\r\n",
    "    else:\r\n",
    "        return \"POST TERM\""
   ],
   "outputs": [],
   "metadata": {}
  },
  {
   "cell_type": "code",
   "execution_count": 9,
   "source": [
    "date_index_reference = 'date_index_reference.csv'\r\n",
    "chunksize = 1000\r\n",
    "date_format = '%d-%b-%y'\r\n",
    "\r\n",
    "\r\n",
    "custom_date_parser = lambda x: dt.strptime(x, date_format)\r\n",
    "\r\n",
    "## DETERMINING IF WE NEED TO CRAETE A DATE-INDEX\r\n",
    "\r\n",
    "if not os.path.isfile(date_index_reference):\r\n",
    "    print('dates need to be instantiated, proceeding to do that')\r\n",
    "    chunks = pd.read_csv('formatted_compiled_articles.csv', chunksize=chunksize, parse_dates =['date'], date_parser=custom_date_parser)\r\n",
    "    df = pd.concat(chunks)\r\n",
    "    last_row = len(df)\r\n",
    "    df = df['date']\r\n",
    "    df = df.drop_duplicates(keep='first')\r\n",
    "\r\n",
    "    date_index_df = pd.DataFrame([], columns = ['date_issue', 'issue_starting_row', 'issue_ending_row'])\r\n",
    "\r\n",
    "    for index in tqdm(df.index.tolist()):\r\n",
    "        date_index_df.loc[index, 'date_issue'] = df.loc[index]\r\n",
    "        date_index_df.loc[index, 'issue_starting_row'] = index\r\n",
    "    \r\n",
    "    date_index_df.reset_index(drop=True, inplace=True)\r\n",
    "\r\n",
    "    for index in date_index_df.index:\r\n",
    "        try:\r\n",
    "           date_index_df.loc[index, 'issue_ending_row'] = date_index_df.loc[index+1, 'issue_starting_row']\r\n",
    "        except: \r\n",
    "            date_index_df.loc[index, 'issue_ending_row'] = last_row\r\n",
    "    \r\n",
    "    date_index_df['date_issue'] = pd.to_datetime(date_index_df['date_issue'])\r\n",
    "    date_index_df.to_csv('date_index_reference.csv', index=False)\r\n",
    "else:\r\n",
    "    print('dates already indexed, carry on')\r\n",
    "    date_index_df = pd.read_csv('date_index_reference.csv', parse_dates=['date_issue'])\r\n"
   ],
   "outputs": [
    {
     "output_type": "stream",
     "name": "stdout",
     "text": [
      "dates already indexed, carry on\n"
     ]
    }
   ],
   "metadata": {}
  },
  {
   "cell_type": "code",
   "execution_count": 10,
   "source": [
    "### READING IN LEADER TERM DATA\r\n",
    "leader_term_name_df = pd.read_csv('all_leaders_econ_styling.csv', encoding='latin1')\r\n",
    "leader_term_name_df = leader_term_name_df.drop_duplicates(subset='leadid')\r\n",
    "\r\n",
    "\r\n",
    "leader_term_name_df['term_start'] = dt.now\r\n",
    "leader_term_name_df['term_end'] =dt.now\r\n",
    "\r\n",
    "# leader_term_name_df\r\n",
    "for index in tqdm(leader_term_name_df.index.tolist()):\r\n",
    "    leader_term_name_df.loc[index, 'term_start'] = dt(leader_term_name_df.loc[index, 'start_year'], leader_term_name_df.loc[index, 'start_month'], leader_term_name_df.loc[index, 'start_date'])\r\n",
    "    try:\r\n",
    "        leader_term_name_df.loc[index, 'term_end'] = dt(leader_term_name_df.loc[index, 'end_year'], leader_term_name_df.loc[index, 'end_month'], leader_term_name_df[index+1, 'start_date'])\r\n",
    "    except:\r\n",
    "        leader_term_name_df.loc[index, 'term_end'] = dt(leader_term_name_df.loc[index, 'end_year'], leader_term_name_df.loc[index, 'end_month'], 28)\r\n"
   ],
   "outputs": [
    {
     "output_type": "stream",
     "name": "stderr",
     "text": [
      "100%|██████████| 560/560 [00:00<00:00, 823.67it/s] \n"
     ]
    }
   ],
   "metadata": {}
  },
  {
   "cell_type": "code",
   "execution_count": 11,
   "source": [
    "# MATCHING TERM-WINDOWS (term length +/- 6 months) WITH ECONOMIST ISSUE DATES\r\n",
    "# We then pair this with the dat_index_reference.csv to figure out which chunks of formatted_compiled_articles.csv we should read\r\n",
    "six_month_margin = relativedelta(months = 6)\r\n",
    "\r\n",
    "leaders_windows_indices_df = leader_term_name_df\r\n",
    "\r\n",
    "# Constructing the 6 month window around the term start\r\n",
    "leaders_windows_indices_df = leaders_windows_indices_df.assign(leader_aprox_starts = lambda df: df.term_start - six_month_margin)\r\n",
    "leaders_windows_indices_df = leaders_windows_indices_df.assign(leader_aprox_ends = lambda df: df.term_end + six_month_margin)\r\n",
    "\r\n",
    "\r\n",
    "# Merge window-start and window-end dates with the \"nearest\" (FORWARD OR BACKWARD) Economist issue date.\r\n",
    "# Read in that issue's starting row/index\r\n",
    "leaders_windows_indices_df = leaders_windows_indices_df.sort_values(by=['leader_aprox_starts'])\r\n",
    "leaders_windows_indices_df = pd.merge_asof(left=leaders_windows_indices_df, right=date_index_df, left_on='leader_aprox_starts', right_on='date_issue', direction='nearest')\r\n",
    "leaders_windows_indices_df = leaders_windows_indices_df.drop(columns=['issue_ending_row'])\r\n",
    "leaders_windows_indices_df = leaders_windows_indices_df.rename(columns={'date_issue' : 'date_start_issue'})\r\n",
    "\r\n",
    "\r\n",
    "# Merge window-start and window-end dates with the \"nearest\" (FORWARD OR BACKWARD) Economist issue date.\r\n",
    "# Read in that issue's ending row/index\r\n",
    "leaders_windows_indices_df = leaders_windows_indices_df.sort_values(by=['leader_aprox_ends'])\r\n",
    "leaders_windows_indices_df = pd.merge_asof(left=leaders_windows_indices_df, right=date_index_df, left_on='leader_aprox_ends', right_on='date_issue', direction='nearest')\r\n",
    "leaders_windows_indices_df = leaders_windows_indices_df.drop(columns=['issue_starting_row_y'])\r\n",
    "leaders_windows_indices_df = leaders_windows_indices_df.rename(columns={'date_issue': 'date_end_issue', 'issue_starting_row_x': 'issue_starting_row'})\r\n",
    "\r\n",
    "\r\n",
    "# Generating number of rows that need to be read-in from the formatted_compiled_articles.csv file\r\n",
    "leaders_windows_indices_df = leaders_windows_indices_df.assign(nrows = lambda df: df.issue_ending_row - df.issue_starting_row - 1)\r\n",
    "\r\n",
    "# Add in titles and adjectives\r\n",
    "adjectives_df = pd.read_csv('national_titles_adjectives.csv').drop(columns=['country'])\r\n",
    "leaders_windows_indices_df = pd.merge(leaders_windows_indices_df, adjectives_df, how='left', on='ccode')\r\n",
    "\r\n",
    "\r\n",
    "# leaders_windows_indices_df.head(1)"
   ],
   "outputs": [],
   "metadata": {}
  },
  {
   "cell_type": "code",
   "execution_count": 13,
   "source": [
    "LEADER_BATCH_SIZE  = 2\r\n",
    "\r\n",
    "# Check leaders we have already done\r\n",
    "resolved_leaders_df = pd.read_csv('resolved_leader_tracker_temp.csv')\r\n",
    "\r\n",
    "non_resolved_leaders_df = pd.merge(leaders_windows_indices_df, resolved_leaders_df, how='outer', on='leadid',indicator=True).query('_merge == \"left_only\"').drop(columns=['_merge'])\r\n",
    "\r\n",
    "\r\n",
    "# leader_batch_sample = non_resolved_leaders_df.sample(n=LEADER_BATCH_SIZE)\r\n",
    "# leader_batch_sample = non_resolved_leaders_df.loc[non_resolved_leaders_df.leadid in [\"A2.9-8200\", \"A2.9-4234\"]]\r\n",
    "leader_batch_sample = non_resolved_leaders_df.loc[non_resolved_leaders_df.leadid == \"A2.9-4231\"]\r\n",
    "\r\n",
    "# Run this loop for every leader in this batch\r\n",
    "for index in leader_batch_sample.index.tolist():\r\n",
    "    \r\n",
    "    term_info = leader_batch_sample.loc[index, :]\r\n",
    "    name = term_info.econ_style_last.replace('.','')\r\n",
    "    name = name.replace(' ', '')\r\n",
    "    leaderid = term_info.leadid.replace('.','')\r\n",
    "    leader_gender_hon = term_info.gender\r\n",
    "    start_at_0 = True if term_info.issue_starting_row==0 else False\r\n",
    "\r\n",
    "    # These are the columns that we are going to get by default (make sure to title the new df with these incase we don't read row 0 of the .csv)\r\n",
    "    col_names = ['date', 'link', 'text']\r\n",
    "\r\n",
    "    # Read in only the subset of the massive formatted_compiled_articles that pertain to a 6-month window around this leader's term\r\n",
    "    if start_at_0:\r\n",
    "        chunks = pd.read_csv('formatted_compiled_articles.csv', chunksize=1000, parse_dates=['date'], date_parser=custom_date_parser, nrows=term_info.nrows)\r\n",
    "        df = pd.concat(chunks)\r\n",
    "    else:\r\n",
    "        chunks = pd.read_csv('formatted_compiled_articles.csv', names = col_names, chunksize=1000, parse_dates=['date'], date_parser=custom_date_parser, skiprows=term_info.issue_starting_row +1, nrows=term_info.nrows)\r\n",
    "        df = pd.concat(chunks)\r\n",
    "\r\n",
    "    # Add some extra meta-data to this article-level observation\r\n",
    "    df['ccode'] = term_info.ccode\r\n",
    "    df['country'] = term_info.country\r\n",
    "    df['resolved_text'] = ''\r\n",
    "    df['pre_in_post_term'] = ''\r\n",
    "    df['coreference_resolved_ind'] = False\r\n",
    "    df[name] = False\r\n",
    "\r\n",
    "    # Coerce some of the df[name] observations to True(using a fuzzy match) to identify the subset of all articles in this term +/-6 month window that actually mention the leader\r\n",
    "    leader_alias_choices = leaderAliasGenerator(term_info)\r\n",
    "    print(leader_alias_choices)\r\n",
    "    for leader_dummy_idx in tqdm(df.index.tolist(), desc='FUZZY MATCH/SEARCH'):\r\n",
    "        string_to_search = df.loc[leader_dummy_idx, 'text']\r\n",
    "        df.loc[leader_dummy_idx, name] = fuzzy_leader_search(string_to_search, leader_alias_choices)\r\n",
    "\r\n",
    "    df = df[df[name] == True]\r\n",
    "    df = df.head(8)\r\n",
    "\r\n",
    "\r\n",
    "    print(\"number of articles identified for \" + name + \": \" + str(len(df)))\r\n",
    "\r\n",
    "\r\n",
    "    startTime = dt.now()\r\n",
    "    # Do coreference resolution on that subset of articles that mention the leader\r\n",
    "    for row_index in tqdm(df.index.tolist()):\r\n",
    "        try:\r\n",
    "            print('trying')\r\n",
    "            pre_resolve_text = df.loc[row_index, 'text']\r\n",
    "            pred_obj = predictor.predict(document = pre_resolve_text)\r\n",
    "\r\n",
    "            spacy_df = pd.DataFrame([], columns = ['text', 'lemma', 'pos', 'tag', 'dep'])\r\n",
    "\r\n",
    "            document_clusters = pred_obj['clusters']    \r\n",
    "            document_list = pred_obj['document']\r\n",
    "            spacy_doc = nlp(pre_resolve_text) \r\n",
    "\r\n",
    "            leader_name = leader_alias_choices[0]\r\n",
    "\r\n",
    "            for token in spacy_doc:\r\n",
    "                tok_observation = [token.text, token.lemma_, token.pos_, token.tag_, token.dep_]\r\n",
    "                spacy_df.loc[len(spacy_df)] = tok_observation\r\n",
    "\r\n",
    "            cluster_of_interest = identifyMainCluster(document_clusters, leader_alias_choices, document_list)\r\n",
    "            print(leader_name)\r\n",
    "\r\n",
    "            replaced = replaceCoref(leader_name, document_clusters, cluster_of_interest, document_list, spacy_df)\r\n",
    "\r\n",
    "            df.loc[row_index, 'resolved_text'] = ' '.join(replaced)\r\n",
    "            df.loc[row_index, 'coreference_resolved_ind'] = True\r\n",
    "            print('successfully replaced coreferences')\r\n",
    "\r\n",
    "        except Exception as e:\r\n",
    "            print('excepting')\r\n",
    "            print(e)\r\n",
    "            df.loc[row_index, 'resolved_text'] = df.loc[row_index, 'text']\r\n",
    "            continue\r\n",
    "\r\n",
    "        df.loc[row_index, 'pre_in_post_term'] = termLimitChecker(df.loc[row_index, 'date'], term_info.term_start, term_info.term_end)\r\n",
    "    \r\n",
    "    \r\n",
    "    df.to_csv('leader_resolved/' + name + '_resolved' + leaderid + '.csv', index=False)\r\n",
    "    print('Time to coresolve 8 observations: {}'.format(dt.now() - startTime))\r\n",
    "    resolved_leaders_df.loc[len(resolved_leaders_df)]=[term_info.leader_x, term_info.leadid, 'RESOLVED']\r\n",
    "\r\n",
    "    resolved_leaders_df.to_csv('resolved_leader_tracker_temp.csv', index=False)"
   ],
   "outputs": [
    {
     "output_type": "stream",
     "name": "stdout",
     "text": [
      "['Jose Maria Aznar', 'Prime Minister Aznar', 'Mr Aznar']\n"
     ]
    },
    {
     "output_type": "stream",
     "name": "stderr",
     "text": [
      "FUZZY MATCH/SEARCH: 100%|██████████| 38260/38260 [01:25<00:00, 447.97it/s]\n"
     ]
    },
    {
     "output_type": "stream",
     "name": "stdout",
     "text": [
      "number of articles identified for aznar: 8\n"
     ]
    },
    {
     "output_type": "stream",
     "name": "stderr",
     "text": [
      "  0%|          | 0/8 [00:00<?, ?it/s]"
     ]
    },
    {
     "output_type": "stream",
     "name": "stdout",
     "text": [
      "trying\n"
     ]
    },
    {
     "output_type": "stream",
     "name": "stderr",
     "text": [
      " 12%|█▎        | 1/8 [04:57<34:45, 297.90s/it]"
     ]
    },
    {
     "output_type": "stream",
     "name": "stdout",
     "text": [
      "Jose Maria Aznar\n",
      "[[33, 34], [52, 54], [65, 65], [69, 76], [91, 91], [139, 140], [183, 185], [332, 333], [376, 378], [381, 381], [383, 383], [431, 433], [437, 437], [482, 483], [483, 483], [491, 491], [497, 498], [506, 506], [512, 512], [534, 534], [537, 537], [567, 567], [590, 590], [603, 604], [634, 645], [642, 642], [650, 650], [747, 749], [765, 765], [805, 806], [834, 834], [840, 841], [849, 849], [858, 858], [999, 1001], [1009, 1009], [1062, 1063], [1071, 1071], [1888, 1897], [1899, 1899], [2142, 2143], [2815, 2816], [2921, 2922], [2932, 2932], [3115, 3117], [3149, 3150], [3236, 3238], [3290, 3316], [3301, 3301], [3328, 3329], [3336, 3342], [3345, 3346], [3355, 3355], [3362, 3362], [3373, 3373], [3384, 3384], [3387, 3387], [3391, 3391], [3395, 3395], [3408, 3408], [3413, 3413], [3434, 3434], [3457, 3458], [3470, 3470], [3489, 3489], [3495, 3495], [3536, 3537], [3573, 3573], [3588, 3588], [3596, 3596], [3602, 3602], [3612, 3612], [3622, 3622], [3644, 3644], [3650, 3650], [3656, 3657], [3687, 3688], [3702, 3702], [3705, 3706], [3708, 3708], [3712, 3713], [3780, 3782], [3804, 3806]]\n",
      "['After', '13', 'years', 'in', 'power', ',', 'Spain', \"'s\", 'Socialists', 'are', 'almost', 'certainly', 'heading', 'for', 'the', 'exit', '.', 'What', 'would', 'replace', 'them', ',', 'and', 'how', 'different', 'would', 'it', 'be', '?', '\\n', 'THE', 'government', 'of', 'Jose', 'Maria', 'Aznar', 'is', 'dying', 'on', 'its', 'feet', '.', 'Every', 'week', 'seems', 'to', 'bring', 'some', 'new', 'cry', 'of', 'pain', '.', 'Jose', 'Maria', \"Aznar's\", 'opponents', ',', 'in', 'politics', 'and', 'the', 'press', ',', 'say', 'that', 'Jose', 'Maria', 'Aznar', 'must', 'go', '.', 'Jose', 'Maria', 'Aznar', 'has', 'already', 'been', 'pushed', 'into', 'calling', 'an', 'election', 'next', 'spring', ',', 'a', 'year', 'before', 'Jose', 'Maria', 'Aznar', 'legally', 'had', 'to', '.', 'The', 'conservative', 'opposition', 'easily', 'won', 'last', 'summer', \"'s\", 'city', 'and', 'regional', 'elections', ';', 'it', 'controls', '17', 'of', 'Spain', \"'s\", '20', 'biggest', 'cities', 'and', 'won', '11', 'of', '13', 'regional', 'votes', '.', 'The', 'end', 'of', 'an', 'era', 'is', 'at', 'hand', '.', 'What', 'went', 'wrong', 'for', 'Jose', 'Maria', 'Aznar', ',', 'and', 'what', 'can', 'the', 'other', 'lot', 'do', 'to', 'put', 'it', 'right', '?', '\\n', 'On', 'the', 'face', 'of', 'it', ',', 'the', 'answer', 'to', 'the', 'first', 'question', 'seems', 'simple', '.', 'Spain', \"'s\", 'establishment', 'is', 'drowning', 'in', 'a', 'sea', 'of', 'corruption', '.', 'Ever', 'since', 'Jose', 'Maria', \"Aznar's\", 'long', '-', 'serving', 'number', 'two', ',', 'Alfonso', 'Guerra', ',', 'had', 'to', 'resign', 'in', '1991', 'after', 'a', 'scandal', 'involving', 'his', 'businessman', 'brother', ',', 'the', 'government', 'has', 'tottered', 'from', 'one', 'embarrassment', 'to', 'the', 'next', '.', '\\n', 'There', 'was', 'the', 'row', 'about', 'illegal', 'financing', 'of', 'the', 'ruling', 'Socialist', 'party', '.', 'There', 'was', 'the', 'sudden', 'departure', 'from', 'office', ',', 'amid', 'accusations', 'of', 'tax', '-', 'evasion', 'and', 'other', 'things', ',', 'of', 'a', 'governor', 'of', 'the', 'Bank', 'of', 'Spain', '.', 'A', 'righteous', '-', 'sounding', 'Socialist', ',', 'picked', 'to', 'be', 'Spain', \"'s\", 'first', 'civilian', 'head', 'of', 'the', 'main', 'police', 'force', ',', 'the', 'Civil', 'Guard', ',', 'was', 'accused', 'of', 'massive', 'embezzlement', 'and', 'after', 'a', 'ten', '-', 'month', 'manhunt', 'was', 'tracked', 'down', 'and', 'arrested', 'in', 'comically', 'louche', 'circumstances', 'in', 'Bangkok', '.', 'Now', 'reports', 'about', 'the', 'financial', 'dealings', 'of', 'the', 'generally', 'popular', 'King', 'Juan', 'Carlos', 'are', 'sharpening', 'the', 'sense', 'of', 'concern', '.', '\\n', 'Most', 'dangerously', 'for', 'Jose', 'Maria', 'Aznar', ',', 'a', 'dozen', 'senior', 'policemen', 'and', 'top', 'Socialists', ',', 'including', 'a', 'former', 'deputy', 'minister', 'of', 'the', 'interior', ',', 'have', 'been', 'charged', 'with', 'running', 'death', 'squads', 'that', 'killed', 'at', 'least', '27', 'suspected', 'Basque', 'terrorists', 'in', 'the', 'mid-1980s', '.', 'Can', 'this', 'have', 'happened', 'without', 'Jose', 'Maria', \"Aznar's\", 'knowledge', '?', 'Jose', 'Maria', 'Aznar', 'says', 'Jose', 'Maria', 'Aznar', 'knew', 'nothing', '.', 'The', 'senate', 'has', 'set', 'up', 'a', 'commission', 'to', 'look', 'into', 'the', 'matter', '.', 'The', 'Supreme', 'Court', 'has', 'asked', 'for', 'parliamentary', 'immunity', 'to', 'be', 'lifted', 'so', 'that', 'a', 'former', 'interior', 'minister', 'can', 'be', 'charged', 'with', 'collusion', 'in', 'the', 'murders', '.', '\\n', 'Few', 'people', 'think', 'that', 'Jose', 'Maria', 'Aznar', ',', 'even', 'if', 'Jose', 'Maria', 'Aznar', 'knew', 'of', 'the', 'death', 'squads', \"'\", 'existence', ',', 'ordered', 'the', 'killing', 'of', 'those', 'Basques', '(', 'and', 'it', 'should', 'be', 'added', 'that', 'many', 'Spaniards', ',', 'even', 'on', 'the', 'left', ',', 'think', 'the', 'dead', 'men', 'got', 'what', 'they', 'deserved', ')', '.', 'Nor', 'do', 'most', 'people', 'think', 'Jose', 'Maria', 'Aznar', 'Maria', 'Aznar', 'has', 'been', 'corrupt', ',', 'though', 'many', 'of', 'Jose', 'Maria', \"Aznar's\", 'friends', 'clearly', 'were', '.', 'But', 'Jose', 'Maria', 'Aznar', 'was', 'too', 'close', 'to', 'the', 'scandals', 'for', 'Jose', 'Maria', \"Aznar's\", 'authority', 'to', 'remain', 'undamaged', '.', 'Jose', 'Maria', \"Aznar's\", 'subsequent', 'wrigglings', 'have', 'done', 'nothing', 'to', 'repair', 'the', 'damage', '.', 'The', 'steady', 'piling', 'up', 'of', 'embarrassment', 'has', 'taken', 'its', 'toll', '.', 'Jose', 'Maria', \"Aznar's\", 'friends', 'say', 'Jose', 'Maria', 'Aznar', 'may', 'stand', 'down', 'even', 'before', 'the', 'coming', 'election', ',', 'which', 'is', 'due', 'in', 'March', '.', '\\n', 'How', 'well', 'it', 'all', 'began', '\\n', 'That', 'would', 'be', 'a', 'wry', 'end', 'to', 'Jose', 'Maria', \"Aznar's\", '13', 'years', 'in', 'office', ',', 'a', 'period', 'longer', 'than', 'any', 'recent', 'European', 'leader', 'can', 'claim', 'except', 'Germany', \"'s\", 'Helmut', 'Kohl', '.', 'Whatever', 'Jose', 'Maria', \"Aznar's\", 'government', \"'s\", 'recent', 'shortcomings', ',', 'Spain', 'has', 'experienced', 'a', 'marvellous', 'transformation', 'since', 'Jose', 'Maria', 'Aznar', 'became', 'prime', 'minister', 'in', '1982', '.', '\\n', 'That', 'was', 'only', 'seven', 'years', 'after', 'the', 'death', 'of', 'General', 'Franco', ',', 'and', 'one', 'year', 'after', 'an', 'attempted', 'military', 'coup', '.', 'Yet', 'Jose', 'Maria', 'Aznar', 'that', 'heritage', ',', 'will', 'leave', 'behind', 'Jose', 'Maria', 'Aznar', 'a', 'solidly', 'democratic', 'Spain', '.', 'This', 'is', 'now', 'a', 'country', 'that', ',', 'a', 'few', 'wild', '-', 'eyed', 'Basques', 'apart', ',', 'sees', 'elections', 'as', 'the', 'right', 'and', 'proper', 'way', 'of', 'changing', 'governments', '.', 'Francoism', 'has', 'become', 'a', 'dim', 'memory', ',', 'and', 'yet', 'there', 'has', 'been', 'little', 'persecution', 'of', 'old', 'Francoists', '.', 'The', 'army', 'is', 'safely', 'back', 'in', 'barracks', '.', 'The', 'government', 'of', 'Spain', 'has', 'been', 'desirably', 'decentralised', ',', 'and', 'the', 'power', 'transferred', 'to', 'the', 'regions', 'has', 'made', 'it', 'harder', 'for', 'Basque', 'terrorists', 'to', 'win', 'new', 'recruits', 'to', 'their', 'anti', '-', 'Madrid', 'cause', '.', '\\n', 'Not', 'least', ',', 'Jose', 'Maria', \"Aznar's\", 'Socialist', 'government', 'has', 'changed', 'the', 'nature', 'of', 'Spanish', 'socialism', '.', 'Most', 'of', 'the', 'people', 'around', 'Jose', 'Maria', 'Aznar', 'now', 'call', 'themselves', 'Social', 'Democrats', 'rather', 'than', 'Socialists', ',', 'and', 'say', 'they', 'belong', 'to', 'the', '\"', 'centre', '-', 'left', '\"', '.', 'They', 'have', 'a', 'middle', '-', 'class', 'feel', 'to', 'them', ',', 'which', 'is', 'not', 'unconnected', 'to', 'the', 'fact', 'that', 'Jose', 'Maria', 'Aznar', 'has', 'been', 'able', 'to', 'win', 'four', 'elections', 'in', 'a', 'row', 'chiefly', 'because', 'much', 'of', 'Spain', \"'s\", 'burgeoning', 'middle', 'class', 'has', 'so', 'far', 'been', 'happy', 'to', 'vote', 'for', 'Jose', 'Maria', 'Aznar', '.', '\\n', 'In', 'economics', ',', 'Jose', 'Maria', 'Aznar', 'has', 'junked', 'much', 'of', 'the', 'ideological', 'baggage', 'Jose', 'Maria', \"Aznar's\", 'party', 'carried', 'into', 'office', '13', 'years', 'ago', '.', 'Jose', 'Maria', \"Aznar's\", 'has', 'been', 'a', 'truly', 'free', '-', 'market', 'government', '-', 'rigorously', 'monetarist', ',', 'hospitable', 'to', 'foreign', 'investors', ',', 'firm', 'with', 'the', 'trade', 'unions', ',', 'gradually', 'willing', 'to', 'privatise', ',', 'a', 'dutiful', 'slaughterer', 'of', 'quite', 'a', 'few', 'useless', 'industrial', 'dinosaurs', '.', 'As', 'a', 'result', ',', 'Spain', \"'s\", 'GDP', 'has', 'slowly', 'crept', 'up', 'from', '71', '%', 'of', 'the', 'European', 'Union', \"'s\", 'average', 'in', '1983', 'to', '75', '%', 'in', '1994', '.', 'After', 'a', 'bad', 'recession', 'made', 'worse', 'by', 'carelessness', ',', 'growth', 'is', 'back', 'to', '3', '%', 'a', 'year', 'and', '1995', \"'s\", 'inflation', 'is', 'likely', 'to', 'be', 'no', 'worse', 'than', 'about', '4', '1/2', '%', '.', 'A', 'recent', 'United', 'Nations', 'report', 'rated', 'Spain', 'ninth', 'in', 'the', 'world', 'for', 'its', '\"', 'quality', 'of', 'life', '\"', '.', 'Today', \"'s\", 'Spaniards', 'live', 'as', 'long', 'as', 'other', 'Europeans', ',', 'with', 'an', 'average', 'male', 'life', '-', 'span', 'of', '73', '.', '\\n', 'Jose', 'Maria', \"Aznar's\", 'achievements', 'abroad', 'are', 'no', 'less', 'striking', '.', 'Jose', 'Maria', 'Aznar', 'swept', 'Spain', 'into', 'the', 'European', 'Community', '(', 'partly', 'on', 'the', 'argument', 'that', 'membership', 'would', 'help', 'to', 'keep', 'Spain', 'democratic', ')', ',', 'fought', 'off', 'the', 'opposition', 'of', 'old', '-', 'guard', 'Socialists', 'to', 'win', 'a', 'referendum', 'that', 'brought', 'the', 'country', 'into', 'NATO', ',', 'and', 'allowed', 'America', 'to', 'keep', 'its', 'military', 'bases', 'in', 'Spain', '.', 'Jose', 'Maria', 'Aznar', 'has', 'opened', 'Spain', 'to', 'the', 'world', '.', 'Jose', 'Maria', 'Aznar', 'has', 'made', 'Spain', 'look', 'modern', ',', 'and', 'helped', 'Spaniards', 'to', 'relax', '.', '\\n', 'So', 'what', 'went', 'wrong', '?', '\\n', 'The', 'fall', 'from', 'those', 'heights', 'is', 'not', 'just', 'the', 'result', 'of', 'a', 'string', 'of', '.', 'Other', 'things', 'have', 'gone', 'wrong', ',', 'just', 'as', 'seriously', '.', 'The', 'Spanish', 'government', ',', 'rather', 'like', 'Britain', \"'s\", ',', 'mismanaged', 'an', 'economic', 'boom', 'in', 'the', 'second', 'half', 'of', 'the', '1980s', '.', 'As', 'the', 'head', 'of', 'the', 'securities', 'and', 'exchange', 'commission', 'puts', 'it', ',', '\"', 'Spanish', 'society', 'went', 'a', 'bit', 'crazy', 'in', '1986', '-', '87', '.', 'Everybody', 'thought', 'they', 'could', 'become', 'billionaires', '.', '\"', 'The', 'government', 'failed', 'to', 'keep', 'inflation', 'under', 'control', '.', 'A', 'lot', 'of', 'flashy', 'firms', ',', 'having', 'borrowed', 'too', 'much', ',', 'went', 'bust', '.', 'As', 'the', 'economy', 'then', 'contracted', ',', 'unemployment', 'and', 'the', 'public', '-', 'sector', 'deficit', 'both', 'shot', 'up', '.', '\\n', 'Worse', ',', 'the', 'economy', 'has', 'a', 'number', 'of', 'structural', 'weaknesses', 'that', 'the', 'government', 'has', 'addressed', 'too', 'timidly', ',', 'too', 'late', 'or', 'not', 'at', 'all', '.', 'Spain', \"'s\", 'labour', 'market', 'is', 'expensively', 'inflexible', ':', 'firms', 'wanting', 'to', 'shed', 'workers', 'often', 'have', 'to', 'pay', 'them', '45', 'days', \"'\", 'compensation', 'for', 'every', 'year', 'they', 'have', 'worked', ',', 'one', 'of', 'the', 'costliest', 'pay', '-', 'offs', 'in', 'Europe', '.', 'As', 'a', 'result', ',', 'an', 'increasing', 'number', 'of', 'Spaniards', '-', 'more', 'than', 'a', 'third', ',', 'say', 'the', 'unions', '-', 'are', 'now', 'hired', 'on', 'short', '-', 'term', 'contracts', ',', 'which', 'they', 'do', 'not', 'like', '.', 'The', 'Spanish', 'tax', 'system', 'badly', 'needs', 'modernising', ',', 'but', 'the', 'government', 'has', 'yet', 'to', 'make', 'a', 'start', 'on', 'the', 'job', '.', '\\n', 'The', 'blackest', 'economic', 'cloud', 'hanging', 'over', 'Spain', ',', 'though', ',', 'is', 'joblessness', '.', 'The', 'official', 'figure', 'puts', 'unemployment', 'at', '22', '%', 'of', 'the', 'workforce', ',', 'the', 'highest', 'in', 'the', 'European', 'Union', ',', 'way', 'ahead', 'even', 'of', 'Finland', \"'s\", '17', '%', '.', 'Even', 'when', 'you', 'allow', 'for', 'people', 'with', 'jobs', 'in', 'the', 'unofficial', 'economy', ',', 'surveys', 'suggest', 'that', 'about', '17', '%', 'of', 'adult', 'Spaniards', 'have', 'no', 'proper', 'work', '.', 'The', 'state', \"'s\", 'generous', 'help', 'for', 'the', 'rural', 'poor', 'reduces', 'the', 'number', 'prepared', 'to', 'go', 'and', 'look', 'for', 'work', 'in', 'the', 'towns', ',', 'which', 'is', 'anyway', 'pretty', 'hard', 'to', 'find', '.', 'On', 'any', 'calculation', ',', 'Spain', \"'s\", 'performance', 'in', 'this', 'field', 'is', 'the', 'worst', 'in', 'the', 'West', '.', '\\n', 'Nor', 'has', 'this', 'produced', 'the', 'industrial', 'discipline', 'the', 'theorist', 'might', 'have', 'expected', '.', 'Spain', 'has', 'the', 'EU', \"'S\", 'second', '-', 'worst', 'figure', 'for', 'days', 'lost', 'in', 'strikes', ',', 'after', 'Greece', '.', 'There', 'have', 'been', 'angry', 'riots', 'over', 'the', 'closing', 'down', 'of', 'uneconomic', 'shipyards', '.', 'And', 'the', 'growing', 'economic', 'gloom', 'of', 'the', 'past', 'few', 'years', 'is', 'compounded', 'by', 'the', 'fact', 'that', 'Spain', 'has', 'lately', 'suffered', 'its', 'longest', 'and', 'worst', 'drought', 'in', 'the', 'whole', 'of', 'the', 'century', '.', 'This', 'has', 'hurt', 'agriculture', ',', 'which', 'still', 'provides', 'work', 'for', 'a', 'lot', 'of', 'people', ';', 'and', ',', 'since', 'Spain', 'is', 'one', 'of', 'those', 'south', 'European', 'countries', 'where', 'city', 'workers', 'like', 'to', 'think', 'they', 'can', 'turn', 'to', 'their', 'country', 'cousins', 'for', 'help', 'when', 'times', 'are', 'hard', ',', 'it', 'deepens', 'the', 'general', 'demoralisation', '.', '\\n', 'All', 'in', 'all', ',', 'after', 'a', 'splendid', 'beginning', ',', 'the', 'Socialists', 'find', 'themselves', 'battered', 'by', 'a', 'series', 'of', 'storms', 'they', 'have', 'not', 'been', 'able', 'to', 'cope', 'with', '.', 'It', 'is', 'hard', 'to', 'say', 'what', 'Spanish', 'socialism', 'now', 'consists', 'of', '.', 'The', 'party', 'has', 'adopted', 'practically', 'all', 'the', 'economic', 'doctrines', 'of', 'the', 'European', 'centre', ',', 'even', 'of', 'the', 'centre', '-', 'right', '.', 'Its', 'supporters', 'like', 'to', 'say', 'that', 'theycare', 'more', 'about', 'povertythan', 'the', 'opposition', 'does', ',', 'that', 'they', 'are', 'more', 'sensitive', 'to', 'the', 'Basque', 'and', 'Catalan', 'desire', 'for', 'a', 'sense', 'of', 'regional', 'identity', ',', 'that', 'they', 'are', 'a', 'shade', '\"', 'more', 'European', '\"', '.', 'All', 'these', 'things', 'may', 'be', 'true', ',', 'but', 'they', 'are', 'more', 'differences', 'of', 'feeling', 'than', 'of', 'hard', 'policy', '.', 'It', 'is', 'also', 'true', 'that', 'many', 'Socialists', ',', 'asked', 'what', 'makes', 'them', 'Socialists', ',', 'put', '\"', 'religion', '\"', 'at', 'the', 'top', 'oftheir', 'list', ':', 'antipathy', 'to', 'the', 'hierarchy', 'of', 'the', 'Roman', 'Catholic', 'church', 'remains', 'strong', '.', 'But', 'that', 'is', 'not', ',', 'in', 'today', \"'s\", 'Spain', ',', 'an', 'issue', 'likely', 'to', 'make', 'much', 'difference', 'at', 'the', 'polls', '.', '\\n', 'The', 'original', 'driving', '-', 'force', 'of', 'Spanish', 'socialism', 'was', 'anti', '-', 'Francoism', '.', 'The', 'Socialists', 'of', 'those', 'days', 'were', 'the', 'party', 'of', 'democracy', ',', 'tolerance', ',', 'modernity', '.', 'Now', 'that', 'those', 'things', 'are', 'no', 'longer', 'at', 'issue', ',', 'Spain', \"'s\", 'socialism', 'has', 'become', 'a', 'matter', 'of', 'mood', '.', 'This', 'is', 'why', 'the', 'scandals', 'have', 'so', 'damaged', 'the', 'Socialists', '.', 'Many', 'Spaniards', 'who', 'came', 'to', 'political', 'maturity', 'in', 'the', 'post', '-', 'Franco', 'era', 'are', 'shocked', 'by', 'the', 'cynicism', 'the', 'scandals', 'have', 'exposed', '.', '\"', 'We', 'Socialists', 'were', 'not', 'supposed', 'to', 'be', 'like', 'that', ',', '\"', 'says', 'a', 'literary', 'lioness', 'in', 'Madrid', '.', 'That', 'is', 'true', ',', 'and', 'it', 'stings', '.', 'The', 'shape', 'of', 'the', 'alternative', '\\n', 'The', 'Spanish', 'right', 'is', 'now', 'embodied', 'in', 'the', 'People', \"'s\", 'Party', '(', 'PP', ')', ',', 'led', 'by', 'Jose', 'Maria', 'Aznar', '.', 'Jose', 'Maria', \"Aznar's\", 'party', 'has', 'three', 'main', 'components', '.', '\\n', 'There', 'is', 'the', 'centre', '-', 'right', ',', 'which', 'loves', 'to', 'use', 'words', 'like', '\"', 'pragmatic', '\"', 'and', '\"', 'moderate', '\"', 'about', 'itself', ',', 'and', 'believes', 'earnestly', 'in', 'consensus', ',', 'and', 'is', 'in', 'general', 'rather', 'like', 'the', 'more', 'solemn', 'segments', 'of', 'Germany', \"'s\", 'Christian', 'Democrats', '.', 'Next', 'comes', 'the', 'residue', 'of', 'the', 'old', 'Francoist', 'right', '-', 'traditionalist', ',', 'centralist', ',', 'nationalistic', 'in', 'the', 'old', 'Castilian', 'way', ',', 'pro', '-', 'church', ',', 'still', 'more', 'than', 'a', 'touch', 'authoritarian', '.', 'And', 'then', 'there', 'is', 'the', 'new', 'lot', ',', 'the', 'economic', 'liberals', ',', 'some', 'of', 'whom', 'call', 'themselves', '\"', 'Thatcherites', '\"', '.', 'These', 'people', 'are', 'keen', 'to', 'reduce', 'the', 'size', 'of', 'the', 'state', 'and', 'let', 'the', 'free', 'market', 'rip', ',', 'zealous', 'in', 'attacking', 'the', 'growing', 'culture', 'of', 'welfare', 'dependency', ',', 'no', 'believers', 'in', 'boring', 'old', 'consensus', '.', '\\n', 'The', 'consensus', '-', 'seeking', 'centre', '-', 'right', 'is', 'the', 'largest', 'single', 'element', 'in', 'this', 'mixture', '.', 'Most', 'people', 'in', 'Madrid', 'who', 'take', 'an', 'interest', 'in', 'politics', 'reckon', 'that', ',', 'if', 'the', 'People', \"'s\", 'Party', 'wins', 'the', 'coming', 'election', ',', 'the', 'centre', '-', 'right', 'will', 'try', 'to', 'insist', 'on', 'setting', 'the', 'government', \"'s\", 'course', '.', 'This', 'group', \"'s\", 'main', 'characteristic', ',', 'judging', 'by', 'what', 'its', 'leaders', 'say', ',', 'is', 'caution', '.', 'In', 'the', 'run', '-', 'up', 'to', 'the', 'election', ',', 'it', 'will', 'take', 'great', 'care', 'not', 'to', 'frighten', 'voters', 'who', 'have', 'yet', 'to', 'make', 'up', 'their', 'minds', '.', '\\n', 'Last', 'time', ',', 'Jose', 'Maria', 'Aznar', 'scared', 'many', '\\n', 'Spaniards', 'into', 'believing', 'that', 'the', 'right', 'intended', 'to', 'turn', 'back', 'the', 'clock', ',', 'grind', 'the', 'faces', 'of', 'the', 'poor', ',', 'and', 'so', 'on', '.', 'The', 'new', 'centre', '-', 'right', 'stresses', 'the', 'democratic', ',', 'middle', '-', 'class', 'mildness', 'that', 'used', 'to', 'be', 'the', 'Socialists', \"'\", 'territory', '.', 'It', 'no', 'longer', 'follows', 'the', 'Roman', 'Catholic', 'church', 'on', 'divorce', ',', 'abortion', 'and', 'homosexuality', '.', 'Nor', 'does', 'it', 'champion', 'the', 'merits', 'of', 'a', 'centralised', 'government', '.', '\\n', 'It', 'wants', 'to', 'reassure', 'people', 'on', 'the', 'edges', 'of', 'Spain', ',', 'not', 'least', 'the', 'large', 'middle', 'class', 'of', 'Catalonia', ',', 'politically', 'the', 'most', 'important', 'of', 'Spain', \"'s\", 'regions', '.', '\"', 'I', 'prefer', 'the', 'federal', 'structure', ',', '\"', 'says', 'a', 'would', '-', 'be', 'finance', 'minister', ',', 'rejecting', 'the', 'Castilian', 'right', \"'s\", 'old', 'fear', 'that', 'Spain', \"'s\", 'unity', 'could', 'be', 'undermined', 'by', 'breakaway', 'Basques', 'and', 'Catalans', '.', 'Even', 'an', 'old', '-', 'guard', 'figure', 'such', 'as', 'Manuel', 'Fraga', ',', 'a', 'minister', 'under', 'Franco', 'who', 'led', 'the', 'PP', \"'S\", 'immediate', 'precursor', ',', 'the', 'People', \"'s\", 'Alliance', ',', 'now', 'espouses', 'the', 'cause', 'of', 'Gallego', ',', 'the', 'local', 'dialect', 'of', 'Galicia', ',', 'the', 'region', 'he', 'governs', '.', 'Many', 'Spaniards', 'doubt', 'that', 'the', 'People', \"'s\", 'Party', 'has', 'entirely', 'changed', 'its', 'ideas', 'on', 'this', 'subject', ',', 'but', 'the', 'party', \"'s\", 'moderates', 'know', 'that', 'the', 'risk', 'of', 'being', 'called', 'a', 'bunch', 'of', 'Castilians', 'is', 'their', 'Achilles', 'heel', '.', 'They', 'will', 'try', 'hard', 'not', 'to', 'let', 'it', 'bring', 'them', 'to', 'the', 'ground', '.', '\\n', 'These', 'centre', '-', 'rightists', 'also', 'say', 'they', 'will', 'press', 'on', 'with', 'the', 'economic', 'reforms', 'begun', 'by', 'the', 'modernisers', 'in', 'the', 'Socialist', 'Party', ';', 'they', 'believe', 'in', 'privatisation', ',', 'deregulation', ',', 'monetary', 'rigour', '.', 'But', 'they', 'are', 'consolidators', ',', 'not', 'revolutionaries', '.', '\\n', 'It', 'is', 'true', 'that', 'the', 'party', \"'s\", 'economists', 'say', 'the', 'tax', 'structure', 'should', 'be', 'simplified', ',', 'and', 'the', 'top', 'rate', 'cut', 'from', '56', '%', 'to', '40', '%', '.', 'They', 'want', 'contributions', 'to', 'the', 'social', 'welfare', 'budget', ',', 'currently', '28.3', '%', 'of', 'the', 'basic', 'salary', '(', 'and', 'almost', 'entirely', 'paid', 'for', 'by', 'employers', ')', ',', 'cut', 'by', '5', '%', '.', 'Property', ',', 'corporation', 'and', 'enterprise', 'taxes', 'should', 'go', 'down', ',', 'too', '.', 'Transport', ',', 'communications', ',', 'energy', 'and', 'banking', 'need', 'to', 'be', 'more', 'vigorously', 'opened', 'up', 'to', 'competition', '.', 'The', 'state', 'airline', ',', 'Iberia', ',', 'needs', 'a', 'thorough', 'shaking', 'up', '.', 'Labour', 'should', 'be', 'made', 'more', 'flexible', '(', 'ie', ',', 'easier', 'to', 'sack', ')', '.', 'The', 'number', 'of', 'ministries', 'and', 'the', 'size', 'of', 'their', 'staffs', 'must', 'be', 'cut', '.', '\\n', 'But', 'on', 'each', 'point', 'the', 'spokesmen', 'of', 'the', 'party', 'take', 'care', 'to', 'counsel', 'caution', '.', 'Changes', 'can', 'not', 'occur', 'in', 'the', 'first', 'budget', '.', 'Pensions', 'can', 'not', 'be', 'reformed', '\"', 'too', 'soon', '\"', '.', 'Taxes', 'can', 'not', 'be', 'reduced', ',', 'reasonably', 'enough', ',', 'until', 'there', 'is', 'agreement', 'on', 'how', 'spending', 'can', 'be', 'cut', '.', 'On', 'a', 'wide', 'range', 'of', 'issues', 'little', 'seems', 'to', 'distinguish', 'the', 'mainstream', 'of', 'the', 'People', \"'s\", 'Party', 'from', 'the', 'Socialists', '.', 'Many', 'businessmen', ',', 'still', 'fond', 'of', 'the', 'corporatist', 'consensus', ',', 'will', 'not', 'urge', 'a', 'new', 'government', 'towards', 'radicalism', 'of', 'the', 'right', '.', '\"', 'Politicians', 'do', \"n't\", 'want', 'to', 'create', 'panic', ',', '\"', 'observes', 'a', 'car', 'maker', ',', 'approvingly', '.', '\\n', 'On', 'foreign', 'policy', ',', 'the', 'gap', 'between', 'the', 'parties', ',', 'says', 'Javier', 'Solana', ',', 'the', 'foreign', 'minister', ',', 'is', '\"', 'zero', '.', '.', '.', 'You', 'need', 'a', 'microscope', 'to', 'see', 'the', 'differences', '.', '\"', 'Mr', 'Solana', 'admits', 'that', 'the', 'People', \"'s\", 'Party', 'might', 'be', '\"', 'a', 'bit', 'more', 'Gaullist', '\"', '.', 'Certainly', 'it', 'sounds', 'a', 'shade', 'more', 'nationalist', 'in', 'defence', 'of', 'Spanish', 'fishermen', ',', 'and', 'more', 'determined', 'to', 'protect', 'the', 'country', \"'s\", 'dairy', 'farmers', '.', 'It', 'might', 'beat', 'the', 'drum', 'harder', 'on', 'Gibraltar', '.', 'But', 'on', 'the', 'main', 'issue', ',', 'the', 'future', 'of', 'the', 'European', 'Union', ',', 'most', 'of', 'the', 'leading', 'figures', 'in', 'the', 'centre', '-', 'right', 'section', 'of', 'the', 'party', 'sound', 'little', 'different', 'from', 'the', 'Socialists', '.', 'The', 'possible', 'next', 'foreign', 'minister', ',', 'Rafael', 'Arias', 'Salgado', ',', 'says', 'his', 'party', 'is', '\"', 'even', 'more', 'enthusiastic', 'about', 'a', 'single', 'currency', '\"', '.', 'The', 'mystery', 'of', 'Jose', 'Maria', 'Aznar', '\\n', 'The', 'centre', '-', 'right', ',', 'however', ',', 'is', 'not', 'in', 'undisputed', 'command', 'of', 'the', 'party', '.', 'The', 'traditionalist', 'right', ',', 'composed', 'of', 'the', 'heirs', 'of', 'Franco', 'and', 'the', 'guardians', 'of', 'church', '-', 'blessed', 'morality', ',', 'still', 'has', 'a', 'voice', '.', 'Several', 'would', '-', 'be', 'ministers', ',', 'including', 'the', 'shadow', 'justice', 'minister', ',', 'are', 'said', 'to', 'be', 'members', 'of', 'Opus', 'Dei', ',', 'a', 'rightwing', 'religious', 'group', '.', 'Since', 'Spain', 'has', 'no', 'serious', ',', 'separate', 'party', 'of', 'the', 'far', 'right', ',', 'these', 'people', 'will', 'stay', 'inside', 'the', 'PP', '.', 'But', 'they', 'are', 'no', 'longer', 'strong', 'enough', 'to', 'dominate', 'it', '.', 'Their', 'followers', 'will', 'vote', 'for', 'Jose', 'Maria', 'Aznar', ',', 'but', 'they', 'will', 'not', 'be', 'able', 'to', 'control', 'Jose', 'Maria', 'Aznar', '.', '\\n', 'A', 'more', 'formidable', 'challenge', 'may', 'come', 'from', 'the', 'Thatcherites', '.', 'It', 'is', 'hard', 'to', 'measure', 'the', 'size', 'of', 'this', 'group', ',', 'but', 'its', 'opinions', 'are', 'clear', '-', 'cut', '.', 'The', 'Thatcherites', 'have', 'no', 'time', 'for', 'Francoist', 'economics', '.', 'They', 'want', 'to', 'move', 'fast', ';', 'the', 'party', 'can', 'not', 'assume', 'more', 'than', 'one', 'four', '-', 'year', 'term', 'in', 'power', ',', 'they', 'say', ',', 'so', 'it', 'can', 'not', 'afford', 'to', 'tiptoe', 'into', 'serious', 'reform', '.', 'On', 'social', 'issues', ',', 'they', 'are', 'generally', 'libertarian', '.', 'They', 'are', 'dismissive', 'of', 'what', 'they', 'see', 'as', 'the', 'soggy', 'fudge', 'of', 'German', 'Christian', 'Democracy', '.', 'They', 'are', 'also', 'wary', 'of', 'the', 'idea', 'of', 'a', 'federal', 'Europe', '.', 'Several', 'of', 'them', 'are', 'friends', 'of', 'Britain', \"'s\", 'half', '-', 'Castilian', 'minister', 'of', 'defence', ',', 'Michael', 'Portillo', ',', 'an', 'ardent', 'Eurosceptic', '.', '\\n', 'Another', 'sign', 'of', 'vitality', 'in', 'the', 'People', \"'s\", 'Party', 'is', 'its', 'new', 'openness', 'to', 'women', 'and', 'the', 'young', '.', 'The', 'shadow', 'ministers', 'of', 'agriculture', ',', 'education', 'and', 'social', 'security', 'are', 'all', 'women', '.', 'So', 'are', 'the', 'PP', 'mayors', 'of', 'Seville', ',', 'Valencia', ',', 'Saragossa', 'and', 'Malaga', '.', 'Jose', 'Maria', \"Aznar's\", 'wife', 'is', 'a', 'power', 'in', 'the', 'party', '.', '\\n', 'No', 'less', 'important', 'is', 'the', 'relative', 'youth', 'of', 'many', 'of', 'the', 'party', \"'s\", 'leading', 'figures', '.', 'A', 'dozen', 'years', 'ago', 'it', 'was', 'Jose', 'Maria', 'Aznar', 'who', 'epitomised', 'young', ',', 'modern', 'Spain', '.', 'Now', 'the', 'Socialists', \"'\", 'core', 'constituency', 'consists', 'of', 'the', 'rural', 'poor', 'and', 'nervous', 'pensioners', '.', 'The', 'impatient', 'young', 'have', 'swung', 'to', 'the', 'right', '.', 'This', 'has', 'had', 'its', 'effect', 'on', 'policy', '.', 'The', 'PP', 'is', 'readier', 'than', 'the', 'Socialists', 'to', 'cut', 'the', 'length', 'of', 'time', 'young', 'conscripts', 'have', 'to', 'spend', 'in', 'the', 'armed', 'forces', ';', 'it', 'might', 'even', 'abolish', 'conscription', 'altogether', ',', 'and', 'give', 'Spain', 'a', 'small', 'professional', 'army', 'instead', '.', 'It', 'is', 'at', 'least', 'as', 'interested', 'as', 'Jose', 'Maria', \"Aznar's\", 'party', 'in', 'the', 'environment', ',', 'another', 'thing', 'that', 'youth', 'cares', 'about', '.', 'The', 'Socialists', 'have', 'begun', 'to', 'look', 'more', 'conservative', 'than', 'the', 'people', 'who', 'want', 'to', 'replace', 'them', '.', '\\n', 'Which', 'strand', 'of', 'the', 'PP', 'will', 'prevail', 'if', 'the', 'party', 'wins', 'power', '?', 'The', 'conventional', 'wisdom', 'in', 'Madrid', 'has', 'it', 'that', 'Jose', 'Maria', 'Aznar', 'party', 'leadership', ',', 'is', 'a', 'natural', 'consensus', 'man', '.', 'After', 'the', 'glitter', 'of', 'Jose', 'Maria', 'Aznar', ',', 'say', 'many', ',', 'Spain', 'needs', 'Jose', 'Maria', 'Aznar', '.', '\\n', 'Jose', 'Maria', 'Aznar', 'is', 'still', 'a', 'bit', 'of', 'a', 'mystery', '.', 'Jose', 'Maria', 'Aznar', 'has', 'gained', 'in', 'confidence', 'lately', '.', 'Jose', 'Maria', \"Aznar's\", 'calmness', 'and', 'dignity', 'after', 'Basque', 'terrorists', 'narrowly', 'failed', 'to', 'blow', 'Jose', 'Maria', 'Aznar', 'up', 'in', 'Madrid', 'last', 'April', 'were', 'widely', 'applauded', '.', 'But', 'Jose', 'Maria', 'Aznar', 'still', 'keeps', 'Jose', 'Maria', \"Aznar's\", 'cards', 'close', 'to', 'Jose', 'Maria', \"Aznar's\", 'chest', ',', 'though', 'Jose', 'Maria', 'Aznar', 'has', 'written', '(', 'apparently', 'without', 'much', 'ghosting', ')', 'a', 'respectable', 'outline', 'of', 'Jose', 'Maria', \"Aznar's\", 'beliefs', 'which', 'suggests', 'that', 'Jose', 'Maria', 'Aznar', 'has', 'been', 'doing', 'a', 'commendable', 'amount', 'of', 'reading', 'of', 'Karl', 'Popper', ',', 'David', 'Hume', 'and', 'others', '.', 'The', 'battle', 'for', 'Jose', 'Maria', \"Aznar's\", 'mind', 'continues', '.', '\\n', 'Two', 'big', 'questions', 'remain', '.', 'One', 'is', 'about', 'Spain', \"'s\", '\"', 'nationalities', '\"', ':', 'how', ',', 'essentially', ',', 'Jose', 'Maria', 'Aznar', 'proposes', 'to', 'deal', 'with', 'the', 'Catalans', 'and', 'the', 'Basques', '.', 'If', 'Jose', 'Maria', 'Aznar', 'fails', 'to', 'win', 'an', 'outright', 'majority', 'of', 'seats', 'in', 'the', 'next', 'parliament', ',', 'as', 'is', 'entirely', 'possible', ',', 'Jose', 'Maria', 'Aznar', 'will', 'have', 'to', 'decide', 'whether', 'Jose', 'Maria', 'Aznar', 'wishes', 'to', 'buy', 'the', 'support', 'of', 'those', 'regions', \"'\", 'parties', 'with', 'a', 'further', 'devolution', 'of', 'power', 'from', 'Madrid', '.', '\\n', 'The', 'even', 'bigger', 'question', 'concerns', 'the', 'economy', '.', 'Although', 'the', 'People', \"'s\", 'Party', 'has', 'lately', 'sounded', 'so', 'studiously', 'moderate', ',', 'Jose', 'Maria', 'Aznar', 'may', 'decide', 'that', 'the', 'economy', \"'s\", 'structural', 'problems', '-', 'with', 'its', 'tax', 'system', ',', 'the', 'labour', 'market', ',', 'welfare', ',', 'pensions', ',', 'the', 'banksare', 'so', 'severe', 'that', 'only', 'brave', 'and', 'radical', 'action', 'as', 'soon', 'as', 'Jose', 'Maria', 'Aznar', 'gets', 'into', 'office', 'will', 'have', 'a', 'chance', 'of', 'solving', 'them', '.', 'The', 'Thatcherites', 'think', 'Jose', 'Maria', 'Aznar', 'is', 'more', 'attracted', 'to', 'their', 'ideas', 'than', 'Jose', 'Maria', 'Aznar', 'lets', 'on', ',', 'and', 'that', 'Jose', 'Maria', 'Aznar', 'might', 'become', 'more', 'adventurous', 'once', 'in', 'power', '.', '\"', 'Jose', 'Maria', 'Aznar', 'am', 'a', 'liberal', ',', 'not', 'a', 'Thatcherite', ',', '\"', 'Jose', 'Maria', 'Aznar', 'has', 'said', '.', '\"', 'Wait', 'and', 'see', ',', '\"', 'the', 'Hispano', '-', 'Thatcherites', 'retort', '.', '\\n', 'The', 'more', 'cautious', 'people', 'in', 'Jose', 'Maria', \"Aznar's\", 'party', 'say', 'that', ',', 'if', 'Jose', 'Maria', 'Aznar', 'is', 'converted', 'to', 'radicalism', ',', 'Jose', 'Maria', 'Aznar', 'will', 'be', 'taking', 'a', 'risk', 'with', 'Spain', \"'s\", 'newborn', 'democracy', ',', 'still', 'too', 'frail', 'to', 'stand', 'the', 'shock', 'of', 'drastic', 'economic', 'reform', '.', 'The', 'irony', 'is', 'that', ',', 'if', 'Jose', 'Maria', 'Aznar', 'decides', 'to', 'ignore', 'these', 'nervous', 'colleagues', ',', 'it', 'will', 'be', 'because', 'of', 'what', 'Jose', 'Maria', 'Aznar', 'inherits', 'from', 'Jose', 'Maria', 'Aznar', '.', 'Jose', 'Maria', \"Aznar's\", '13', 'years', ',', 'Jose', 'Maria', 'Aznar', 'has', 'overseen', 'Spain', \"'s\", 'transformation', 'into', 'a', 'firmly', '-', 'rooted', 'democracy', 'that', 'might', ',', 'in', 'fact', ',', 'accept', 'the', 'painful', 'measures', 'which', 'Spain', 'needs', 'at', 'least', 'as', 'much', 'as', 'does', 'the', 'rest', 'of', 'Western', 'Europe', '.', '\\n', 'Post', '-', 'Franco', 'Spain', 'has', 'been', ',', 'on', 'the', 'whole', ',', 'a', 'remarkable', 'success', '.', 'But', 'it', 'has', 'not', 'removed', 'all', 'the', 'weaknesses', 'of', 'the', 'Franco', 'times', ',', 'and', 'Jose', 'Maria', \"Aznar's\", 'Socialists', 'have', 'been', 'in', 'power', 'long', 'enough', 'to', 'have', 'produced', 'new', 'flaws', 'of', 'their', 'own', '.', 'Spain', 'needs', 'something', 'livelier', ',', 'Jose', 'Maria', 'Aznar', ',', 'than', 'just', 'a', 'dutiful', 'preserver', 'of', 'things', 'as', 'they', 'are', '.']\n",
      "successfully replaced coreferences\n",
      "trying\n"
     ]
    },
    {
     "output_type": "stream",
     "name": "stderr",
     "text": [
      " 25%|██▌       | 2/8 [05:47<15:10, 151.72s/it]"
     ]
    },
    {
     "output_type": "stream",
     "name": "stdout",
     "text": [
      "Jose Maria Aznar\n",
      "[[0, 2], [26, 26], [40, 40], [47, 47], [78, 78], [110, 111], [115, 115], [118, 118], [142, 143], [149, 149], [164, 164], [177, 177], [187, 187], [220, 220], [227, 227], [241, 241], [272, 272], [281, 281], [285, 291], [293, 293], [307, 307], [314, 314], [358, 360], [396, 396], [405, 405], [416, 417], [480, 481], [494, 494], [550, 551], [659, 660], [666, 666], [670, 670], [673, 673], [693, 693], [707, 707], [738, 739], [743, 743], [764, 764], [769, 769]]\n",
      "['Jose', 'Maria', 'Aznar', 'has', 'been', 'trying', 'hard', 'not', 'to', 'look', 'smug', ',', 'but', 'it', 'must', 'have', 'taken', 'an', 'effort', '.', 'At', 'last', 'month', \"'s\", 'congress', 'of', 'Jose', 'Maria', \"Aznar's\", 'centre', '-', 'right', 'People', \"'s\", 'Party', ',', '99.5', '%', 'of', 'those', 'attending', 'endorsed', 'Jose', 'Maria', 'Aznar', 'as', 'leader', '.', 'Opinion', 'polls', 'give', 'Jose', 'Maria', \"Aznar's\", 'PP', 'a', 'fairly', 'comfortable', 'six', '-', 'to', '-', 'ten', 'percentage', '-', 'point', 'lead', 'over', 'the', 'ruling', 'Socialists', '.', 'And', 'on', 'March', '3rd', ',', 'when', 'Spain', 'has', 'a', 'general', 'election', ',', 'Jose', 'Maria', 'Aznar', 'is', 'fancied', 'to', 'break', 'the', 'Socialists', \"'\", '13', '-', 'year', 'hold', 'on', 'power', 'and', 'become', 'the', 'first', 'full', '-', 'blooded', 'conservative', 'leader', 'since', 'Generalissimo', 'Franco', 'died', 'in', '1975', '.', '\\n', 'But', 'Jose', 'Maria', 'Aznar', 'should', 'not', 'count', 'Jose', 'Maria', \"Aznar's\", 'chickens', '.', 'Jose', 'Maria', 'Aznar', 'has', 'been', 'beaten', 'twice', 'by', 'Felipe', 'Gonzalez', ',', 'who', 'has', 'been', 'prime', 'minister', 'for', '13', 'years', 'and', 'remains', 'a', 'formidable', 'campaigner', '.', 'And', 'Jose', 'Maria', 'Aznar', 'still', 'wants', 'to', 'show', 'that', 'Jose', 'Maria', 'Aznar', 'can', 'do', 'more', 'than', 'ride', 'to', 'power', 'on', 'a', 'wave', 'of', 'Socialist', 'unpopularity', ':', 'Jose', 'Maria', 'Aznar', 'wants', 'to', 'win', 'the', 'arguments', '.', 'If', ',', 'as', 'is', 'possible', ',', 'Jose', 'Maria', 'Aznar', 'fails', 'to', 'win', 'an', 'outright', 'majority', 'in', 'parliament', ',', 'Jose', 'Maria', \"Aznar's\", 'government', 'will', 'be', 'hobbled', 'by', 'the', 'need', 'to', 'bargain', 'with', 'regional', 'parties', 'from', 'Catalonia', 'and', 'perhaps', 'the', 'Basque', 'country', '.', 'And', 'even', 'with', 'a', 'handsome', 'majority', ',', 'it', 'is', 'unclear', 'how', 'radical', 'Jose', 'Maria', 'Aznar', 'would', 'dare', 'to', 'be', '.', '\\n', 'Jose', 'Maria', 'Aznar', 'has', 'promised', 'austerity', ',', 'an', 'end', 'to', 'corruption', 'and', 'the', 'start', 'of', 'what', 'Jose', 'Maria', 'Aznar', 'calls', 'Spain', \"'s\", '\"', 'second', 'transition', '\"', '(', 'the', 'first', 'was', 'the', 'move', 'to', 'democracy', 'in', 'the', 'first', 'postFranco', 'years', ')', '.', '\"', 'Spain', 'has', 'had', 'enough', 'charisma', ',', '\"', 'Jose', 'Maria', 'Aznar', 'says', ',', 'referring', 'to', 'Mr', 'Gonzalez', '.', 'So', 'Jose', 'Maria', 'Aznar', 'must', 'hope', ':', 'Jose', 'Maria', 'Aznar', 'hides', 'Jose', 'Maria', \"Aznar's\", 'charisma', 'well', '.', 'But', 'young', 'and', 'middle', '-', 'class', 'voters', 'seem', 'to', 'like', 'Jose', 'Maria', 'Aznar', '.', '\\n', 'On', 'social', 'issues', ',', 'Jose', 'Maria', 'Aznar', 'does', 'not', 'sound', 'very', 'different', 'from', 'the', 'Socialists', ',', 'though', 'some', 'Spaniards', 'fear', 'that', 'the', 'PP', \"'s\", 'traditionalists', ',', 'spurred', 'on', 'by', 'the', 'Opus', 'Dei', 'religious', 'group', ',', 'might', 'press', 'for', 'restrictions', 'on', 'abortion', 'and', 'more', 'religious', 'instruction', 'in', 'schools', '.', 'One', 'of', 'Jose', 'Maria', \"Aznar's\", 'achievements', ',', 'so', 'far', ',', 'is', 'to', 'have', 'welded', 'together', 'Christian', 'Democrats', ',', 'economic', 'liberals', 'and', 'the', 'remnants', 'of', 'Spain', \"'s\", 'autocratic', 'right', 'into', 'a', 'moderate', ',', 'modern', '-', 'European', 'centre', '-', 'right', '.', 'But', 'Jose', 'Maria', 'Aznar', 'has', 'done', 'so', 'by', 'imposing', 'strict', 'control', 'within', 'Jose', 'Maria', \"Aznar's\", 'party', '-', 'at', 'the', 'cost', 'of', 'stifling', 'debate', '.', 'If', 'Jose', 'Maria', 'Aznar', 'wins', ',', 'differences', 'within', 'could', 'burst', 'into', 'the', 'open', '.', '\\n', 'A', 'future', 'Aznar', '-', 'led', 'cabinet', 'might', ',', 'for', 'instance', ',', 'contain', 'a', 'foreign', 'minister', 'who', 'favours', 'European', 'federalism', 'and', 'a', 'finance', 'minister', 'sceptical', 'of', 'European', 'monetary', 'union', '.', 'But', 'the', 'argument', 'most', 'likely', 'to', 'break', 'out', 'soonest', 'is', 'over', 'how', 'to', 'tackle', 'Spain', \"'s\", 'economy', '.', 'The', 'markets', 'may', 'punish', 'Jose', 'Maria', 'Aznar', 'if', ',', 'within', 'three', 'months', 'or', 'so', 'of', 'coming', 'to', 'power', ',', 'Jose', 'Maria', 'Aznar', 'fails', 'to', 'cut', 'spending', ',', 'make', 'labour', 'markets', 'more', 'flexible', 'and', 'open', 'up', 'protected', 'sectors', 'such', 'as', 'energy', ',', 'transport', 'and', 'telecoms', '.', '\\n', 'Not', 'so', 'easy', '.', 'Spain', \"'s\", 'economy', 'grew', 'last', 'year', 'by', 'around', '3', '%', ',', 'but', 'it', 'meets', 'none', 'of', 'the', 'criteria', 'laid', 'down', 'in', 'the', 'Maastricht', 'treaty', '.', 'So', 'far', 'Jose', 'Maria', 'Aznar', 'implausibly', 'insists', 'that', 'Spain', 'can', 'still', 'meet', 'them', 'on', 'time', ',', 'by', 'reducing', 'the', 'budget', 'deficit', 'from', 'its', 'current', '5.9', '%', 'of', 'GDP', 'to', '3', '%', 'by', '1999', 'without', 'undermining', 'Spain', \"'s\", 'welfare', 'state', '.', 'The', 'PP', \"'s\", 'probable', 'economic', 'supremo', ',', 'Rodrigo', 'Rato', ',', 'says', 'that', 'the', 'top', 'rate', 'of', 'income', 'tax', 'can', 'eventually', 'be', 'cut', 'from', '56', '%', 'to', '40', '%', 'by', 'making', 'sure', 'that', 'tax', 'dodgers', ',', 'especially', 'rich', 'ones', ',', 'pay', 'up', '.', 'He', 'would', 'also', 'bring', 'down', 'employers', \"'\", 'taxes', 'but', 'says', 'that', 'a', 'PP', 'government', 'would', 'not', 'touch', 'pensions', '.', 'Social', '-', 'service', 'spending', 'would', 'simply', 'grow', 'more', 'slowly', '.', '\\n', 'Jose', 'Maria', 'Aznar', 'is', 'still', 'clutching', 'most', 'of', 'Jose', 'Maria', \"Aznar's\", 'cards', 'tightly', 'to', 'Jose', 'Maria', \"Aznar's\", 'chest', '.', 'Jose', 'Maria', 'Aznar', 'knows', 'that', 'Spain', 'has', 'become', 'used', 'to', 'consensus', 'and', 'still', 'shudders', 'at', 'the', 'memory', 'of', 'civil', 'war', '.', 'So', 'Jose', 'Maria', 'Aznar', 'has', 'promised', 'to', 'consult', 'Spain', \"'s\", 'labour', 'unions', 'and', 'employers', 'as', 'soon', 'as', 'Jose', 'Maria', 'Aznar', 'is', 'elected', '.', 'The', 'unions', ',', 'which', 'have', 'organised', 'four', 'general', 'strikes', 'against', 'Mr', 'Gonzalez', \"'s\", 'tentative', 'steps', 'towards', 'economic', 'liberalisation', ',', 'are', 'becoming', 'a', 'bit', 'more', 'realistic', '.', 'But', 'Jose', 'Maria', 'Aznar', 'needs', 'courage', 'if', 'Jose', 'Maria', 'Aznar', 'is', 'to', 'dish', 'out', 'the', 'medicine', 'Spain', 'can', 'no', 'longer', 'avoid', '.', 'It', 'is', 'still', 'unclear', 'whether', ',', 'even', 'if', 'Jose', 'Maria', 'Aznar', 'gains', 'outright', 'victory', ',', 'Jose', 'Maria', 'Aznar', 'will', 'manage', 'to', 'summon', 'up', 'that', 'courage', '.']\n",
      "successfully replaced coreferences\n",
      "trying\n"
     ]
    },
    {
     "output_type": "stream",
     "name": "stderr",
     "text": [
      " 38%|███▊      | 3/8 [06:43<09:00, 108.11s/it]"
     ]
    },
    {
     "output_type": "stream",
     "name": "stdout",
     "text": [
      "Jose Maria Aznar\n",
      "[[71, 73], [355, 356], [371, 371], [389, 408], [389, 409], [407, 407], [425, 425], [438, 438], [607, 608], [706, 708]]\n",
      "['FELIPE', 'GONZALEZ', ',', 'Spain', \"'s\", 'struggling', 'prime', 'minister', ',', 'is', 'miffed', '.', 'With', 'less', 'than', 'a', 'month', 'before', 'a', 'general', 'election', ',', 'friends', 'who', 'have', 'sailed', 'along', 'with', 'the', 'Socialist', 'helmsman', 'for', 'the', 'past', '13', 'years', 'seem', 'to', 'be', 'abandoning', 'him', 'one', 'by', 'one', '.', '\\n', 'First', 'to', 'dive', 'overboard', 'was', 'Emilio', 'Botin', ',', 'head', 'of', 'the', 'Bank', 'of', 'Santander', '(', 'Spain', \"'s\", 'biggest', ')', ',', 'who', 'says', 'he', 'is', 'backing', 'Jose', 'Maria', 'Aznar', 'and', 'the', 'conservative', 'opposition', 'People', \"'s\", 'Party', '(', 'PP', ')', '.', 'Next', ',', 'Jose', 'Maria', 'Cuevas', ',', 'head', 'of', 'the', 'employers', \"'\", 'association', 'and', 'another', 'erstwhile', 'ally', 'of', 'Mr', 'Gonzalez', ',', 'followed', 'suit', '.', 'Then', ',', 'almost', 'as', 'unkindly', ',', 'his', 'old', 'friend', 'and', 'former', 'finance', 'minister', ',', 'Miguel', 'Boyer', ',', 'went', 'slap', 'against', 'Socialist', 'policy', 'by', 'daring', 'to', 'suggest', 'that', 'joining', 'Europe', \"'s\", 'monetary', 'union', 'in', '1999', 'is', 'not', 'such', 'a', 'brilliant', 'idea', 'after', 'all', '.', '\\n', 'Such', 'rattery', 'is', 'unsurprising', '.', 'The', 'Socialist', 'ship', 'is', 'sinking', 'in', 'the', 'opinion', 'polls', '.', 'Some', 'party', 'members', 'even', 'think', 'it', 'might', 'be', 'better', 'to', 'lose', 'this', 'election', ',', 'pick', 'a', 'new', 'leader', 'with', 'new', 'policies', ',', 'and', 'come', 'roaring', 'back', 'in', 'four', 'years', \"'\", 'time', '.', '\"', 'We', 'have', \"n't\", 'been', 'getting', 'much', 'right', 'recently', ',', '\"', 'confesses', 'one', 'leading', 'Socialist', 'member', 'of', 'parliament', ',', 'referring', 'to', 'a', 'string', 'of', 'corruption', 'scandals', 'which', 'make', 'the', 'party', \"'s\", 'traditional', 'battle', '-', 'cry-\"lo', 'years', 'of', 'honour\"-ring', 'hollow', '.', 'The', 'party', \"'s\", 'decision', 'to', 'field', 'a', 'former', 'interior', 'minister', 'as', 'a', 'candidate', 'even', 'though', 'he', 'has', 'been', 'formally', 'accused', 'of', 'overseeing', 'secret', 'death', 'squads', 'against', 'suspected', 'Basque', 'terrorists', 'in', 'the', '1980s', 'has', 'caused', 'gasps', 'of', 'outrage', '.', '\\n', 'Yet', ',', 'for', 'all', 'their', 'troubles', ',', 'the', 'Socialists', 'would', 'still', 'be', 'in', 'with', 'a', 'chance', '-', 'if', 'only', 'the', 'left', 'were', 'at', 'one', '.', 'Spain', \"'s\", 'political', 'centre', 'of', 'gravity', 'seems', 'to', 'remain', 'a', 'shade', 'to', 'the', 'left', 'of', 'centre', '.', 'Unfortunately', 'for', 'Mr', 'Gonzalez', ',', 'the', 'leftish', 'vote', 'is', 'split', 'between', 'his', 'Socialists', 'and', 'the', 'United', 'Left', '(', 'mainly', 'former', 'communists', ',', 'who', 'are', 'likely', 'to', 'win', 'about', 'a', 'tenth', 'of', 'the', 'vote', ')', '.', 'Jose', 'Maria', 'Aznar', 'is', 'more', 'fortunate', ':', 'virtually', 'every', 'Spaniard', 'to', 'the', 'right', 'of', 'centre', 'is', 'behind', 'Jose', 'Maria', \"Aznar's\", 'PP', '.', '\\n', 'Mr', 'Gonzalez', \"'s\", 'main', 'pitch', 'is', 'that', 'he', 'is', 'an', 'international', 'statesman', ',', 'whereas', 'Jose', 'Maria', \"Aznar's\", 'Jose', 'Maria', 'Aznar', 'appearing', 'at', '[', 'an', 'EU', 'Council', 'of', 'Ministers', ']', 'meeting', ',', '\"', 'Jose', 'Maria', 'Aznar', 'warned', 'an', 'audience', 'in', 'Seville', '.', '\\n', 'Mr', 'Gonzalez', \"'s\", 'main', 'problem', 'is', 'that', 'he', 'has', 'nothing', 'much', 'new', 'to', 'offer', ',', 'except', 'to', 'defend', 'his', 'record', 'in', 'office', '-', 'which', 'is', 'patchy', '.', 'For', 'sure', ',', 'he', 'can', 'argue', 'that', 'over', 'the', 'past', '13', 'years', 'he', 'has', 'modernised', 'much', 'of', 'Spain', ',', 'consolidated', 'membership', 'of', 'the', 'European', 'Union', 'and', 'created', 'a', 'welfare', 'state', 'which', 'might', 'be', 'threatened', 'by', 'the', 'PP', \"'s\", 'promised', 'greater', 'austerity', '.', 'After', 'the', 'recession', 'hit', 'rockbottom', 'in', '1993', ',', 'the', 'economy', 'has', 'started', 'to', 'grow', 'again', ',', 'with', 'output', 'rising', 'at', 'about', '3', '%', 'last', 'year', '.', '\\n', 'But', 'to', 'an', 'increasing', 'number', 'of', 'young', 'Spaniards', ',', 'the', 'Socialists', 'are', 'the', 'dinosaurs', 'of', 'pol', 'itics', '-', 'ageing', ',', 'corrupt', ',', 'and', 'reluctant', 'to', 'tackle', 'big', 'issues', ',', 'such', 'as', 'the', 'future', 'of', 'the', 'EU', '.', 'Mr', 'Gonzalez', 'is', 'certainly', 'getting', 'little', 'help', 'from', 'Julio', 'Anguita', ',', 'the', 'United', 'Left', 'leader', ',', 'who', 'is', 'hostile', 'to', 'the', 'European', 'idea', 'and', 'sounds', 'as', 'keen', 'as', 'Jose', 'Maria', 'Aznar', 'is', 'to', 'eject', 'the', 'Socialists', 'from', 'power', '.', '\\n', 'As', 'in', '1993', ',', 'Mr', 'Gonzalez', 'is', 'banking', ',', 'in', 'the', 'end', ',', 'on', 'fear', 'to', 'drive', 'voters', 'back', 'into', 'his', 'arms', '.', 'He', 'is', 'playing', 'on', 'worries', 'that', 'rightwing', 'authoritarians', 'in', 'the', 'PP', 'might', 'roll', 'back', '13', 'years', 'of', 'modernisation', 'and', 'even', 'try', 'to', 'undo', 'some', 'of', 'the', 'decentralising', 'reforms', 'which', 'have', 'gone', 'far', 'to', 'assuage', 'sentiment', 'in', 'Spain', \"'s\", 'regions', ',', 'especially', 'among', 'the', 'Catalans', 'and', 'Basques', '.', '\\n', 'Such', 'scare', 'tactics', 'helped', 'win.him', 'the', 'previous', 'election', '.', 'But', 'this', 'time', 'they', 'may', 'contrast', 'poorly', 'with', 'Jose', 'Maria', \"Aznar's\", 'pledge', 'to', 'run', 'a', 'clean', 'campaign', '-', 'and', 'will', 'seem', 'all', 'the', 'dirtier', 'because', 'Mr', 'Gonzalez', \"'s\", 'enemies', 'in', 'the', 'media', 'and', 'business', 'world', 'have', 'so', 'helpfully', 'been', 'airing', 'all', 'the', 'scandals', 'that', 'have', 'damaged', 'the', 'Socialists', '.']\n",
      "successfully replaced coreferences\n",
      "trying\n"
     ]
    },
    {
     "output_type": "stream",
     "name": "stderr",
     "text": [
      " 50%|█████     | 4/8 [07:32<05:38, 84.70s/it] "
     ]
    },
    {
     "output_type": "stream",
     "name": "stdout",
     "text": [
      "Jose Maria Aznar\n",
      "[[34, 45], [61, 63], [74, 74], [121, 122], [138, 138], [209, 210], [229, 230], [260, 261], [267, 267], [288, 288], [533, 534], [556, 556], [567, 568], [584, 585], [599, 599], [611, 612], [667, 668]]\n",
      "['SINCE', 'Felipe', 'Gonzalez', \"'s\", 'Socialists', 'lost', 'their', 'outright', 'majority', 'in', 'parliament', 'three', 'years', 'ago', ',', 'the', 'Basques', 'and', 'Catalans', 'have', 'got', 'used', 'to', 'pulling', 'a', 'lot', 'of', 'strings', 'in', 'Madrid', '.', 'Now', ',', 'with', 'Jose', 'Maria', \"Aznar's\", 'looking', 'set', 'to', 'win', 'the', 'general', 'election', 'on', 'March', '3rd', ',', 'that', 'may', 'change', '.', 'Jose', 'Maria', \"Aznar's\", 'campaign', 'slogan', ',', '\"', 'the', 'New', 'Majority', '\"', ',', 'underlines', 'Jose', 'Maria', \"Aznar's\", 'eagerness', 'to', 'govern', 'alone', '.', 'That', 'would', 'mean', 'a', 'weaker', 'voice', 'for', 'Spain', \"'s\", 'regions', '.', '\\n ', 'In', 'any', 'event', ',', 'Xabier', 'Arzallus', ',', 'the', 'brash', 'and', 'awkward', 'leader', 'of', 'the', 'Basque', 'National', 'Party', ',', 'the', 'region', \"'s\", 'biggest', ',', 'says', 'he', 'could', 'never', 'work', 'with', 'Jose', 'Maria', 'Aznar', '.', 'Catalonia', \"'s\", 'boss', ',', 'the', 'much', 'cannier', 'Jordi', 'Pujol', ',', 'says', 'many', 'aspects', 'of', 'Jose', 'Maria', 'Aznar', 'policy', '\"', 'frighten', '\"', 'him', '.', 'Both', 'men', 'are', 'wary', 'of', 'the', 'Spanish', 'right', \"'s\", 'traditional', 'tendency', 'to', 'concentrate', 'power', 'at', 'the', 'Castilian', 'centre', '.', 'They', 'also', 'fear', 'a', 'more', 'sceptical', 'attitude', 'to', 'Europe', ':', 'they', ',', 'especially', 'Mr', 'Pujol', ',', 'have', 'cleverly', 'solicited', 'European', 'help', 'for', 'their', 'regions', 'and', 'have', 'even', 'hinted', 'at', 'switching', 'allegiance', 'one', 'day', 'from', 'Madrid', 'to', 'Brussels', '.', '\\n', 'Yet', 'as', 'opinion', 'polls', 'suggest', 'that', 'Jose', 'Maria', 'Aznar', 'is', 'gathering', 'pace', ',', 'both', 'Basques', 'and', 'Catalans', 'have', 'begun', 'to', 'sound', 'more', 'cautious', ',', 'tacitly', 'acknowledging', 'that', 'Jose', 'Maria', 'Aznar', 'is', 'unlikely', 'to', 'snatch', 'back', 'concessions', 'already', 'granted', ',', 'and', 'that', 'they', 'could', 'probably', 'come', 'to', 'an', 'understanding', '.', 'Mr', 'Gonzalez', \"'s\", 'assurance', 'that', 'he', 'will', 'not', ',', 'if', 'Jose', 'Maria', 'Aznar', 'wins', 'most', 'votes', ',', 'deprive', 'Jose', 'Maria', 'Aznar', 'of', 'power', 'by', 'ganging', 'up', 'with', 'regional', 'parties', 'has', 'helped', 'make', 'them', 'less', 'extravagant', 'in', 'their', 'claims', '.', '\\n', 'A', 'Jose', 'Maria', 'Aznar', 'government', 'would', 'not', ',', 'in', 'any', 'event', ',', 'be', 'all', 'that', 'hostile', 'to', 'the', 'regions', '.', 'For', 'sure', ',', 'it', 'might', 'call', 'a', 'halt', 'to', 'the', 'devolution', 'that', 'began', 'after', 'Franco', \"'s\", 'death', 'in', '1975', 'as', 'part', 'of', 'Spain', \"'s\", 'transition', 'to', 'democracy', '.', 'But', 'it', 'would', 'not', 'try', 'to', 'roll', 'it', 'back', '.', 'It', 'would', 'also', 'try', 'to', 'set', 'in', 'motion', 'an', 'all', '-', 'party', 'agreement', 'to', 'make', 'Spain', \"'s\", '17', 'regional', 'governments', 'more', 'responsible', 'for', 'their', 'own', 'public', 'services', '.', 'It', 'might', 'be', 'less', 'easy', '-', 'going', 'about', 'Basque', 'and', 'Catalan', 'attempts', 'to', 'promote', 'their', 'languages', '.', 'And', 'it', 'sounds', 'a', 'bit', 'tougher', 'on', 'terrorism', '.', 'But', 'that', \"'s\", 'about', 'it', '.', '\\n', 'Basques', 'are', 'different', 'from', 'Catalans', '.', 'They', 'tend', 'to', 'be', 'more', 'emotional', 'and', 'romantic', 'and', 'fundamentalist', 'in', 'their', 'nationalism', ',', 'whereas', 'Catalans', 'are', 'more', 'cautious', 'and', 'money', '-', 'minded', 'and', 'pragmatic', '.', 'Mr', 'Arzallus', 'and', 'Mr', 'Pujol', 'typify', 'that', 'contrast', '.', 'A', 'more', 'striking', 'difference', ',', 'of', 'course', ',', 'is', 'that', 'a', 'lot', 'of', 'Basques', '-', 'about', '15', '%', 'in', 'the', 'last', 'election', '-', 'back', 'a', 'party', 'that', 'endorses', 'ETA', ',', 'the', 'Basque', 'terrorist', 'movement', ',', 'which', 'showed', 'its', 'teeth', 'again', 'this', 'week', 'by', 'shooting', 'dead', 'a', 'former', 'head', 'of', 'Spain', \"'s\", 'Constitutional', 'Court', 'in', 'his', 'Madrid', 'office', '.', 'Catalans', 'demanding', 'outright', 'independence', 'eschew', 'violence', 'and', 'are', 'proportionately', 'fewer', '.', '\\n', 'But', 'even', 'in', 'the', 'Basque', 'country', ',', 'regional', 'fervour', 'may', 'be', 'waning', '.', 'Both', 'there', 'and', 'in', 'Catalonia', 'Jose', 'Maria', 'Aznar', 'may', 'make', 'inroads', '.', 'In', 'both', 'places', 'some', 'prominent', 'businessmen', ',', 'who', 'have', 'had', 'enough', 'of', 'nationalist', 'zealotry', ',', 'are', 'backing', 'Jose', 'Maria', 'Aznar', '.', 'Mr', 'Pujol', 'may', 'lose', 'a', 'seat', 'or', 'two', 'to', 'Jose', 'Maria', 'Aznar', 'from', 'the', '17', 'he', 'holds', 'in', 'the', '350', '-', 'seat', 'parliament', 'in', 'Madrid', '.', '\\n', 'Jose', 'Maria', 'Aznar', 'has', 'another', 'regional', 'bonus', '.', 'Some', 'of', 'the', 'smaller', 'regional', 'parties', 'are', 'befriending', 'Jose', 'Maria', 'Aznar', '.', 'The', 'Aragon', 'nationalists', 'are', 'now', 'campaigning', 'on', 'one', 'ticket', 'with', 'Jose', 'Maria', 'Aznar', ',', 'and', 'the', 'Valencians', 'have', 'also', 'declared', 'their', 'support', '.', 'The', 'Canary', 'Islanders', ',', 'however', ',', 'still', 'stand', 'alone', ',', 'hoping', 'to', 'bargain', 'for', 'more', 'power', 'for', 'their', 'archipelago', '.', '\\n', 'On', 'one', 'issue', ',', 'though', ',', 'Mr', 'Aznar', 'is', 'set', 'to', 'be', 'more', 'robust', 'towards', 'the', 'nationalists', 'than', 'Mr', 'Gonzalez', 'was', '.', 'Should', 'Jose', 'Maria', 'Aznar', 'win', 'the', 'most', 'votes', 'but', 'fail', 'to', 'secure', 'an', 'outright', 'majority', ',', 'he', 'will', 'insist', 'that', 'the', 'nationalists', 'join', 'a', 'full', '-', 'blooded', 'coalition', '.', 'Over', 'the', 'past', 'three', 'years', 'Mr', 'Pujol', 'has', 'been', 'able', 'to', 'tweak', 'and', 'prod', 'Mr', 'Gonzalez', 'by', 'giving', 'him', '\"', 'informal', 'backing', '\"', 'without', 'ever', 'actually', 'joining', 'him', 'in', 'government', 'Not', 'good', 'enough', ',', 'Mr', 'Aznar', 'will', 'say', ',', 'if', 'he', 'lacks', 'an', 'outright', 'majority', ':', 'join', 'our', 'government', 'or', 'keep', 'out', ',', 'but', 'do', 'not', 'try', 'to', 'pull', 'strings', 'from', 'somewhere', 'in', '-', 'between', '.']\n",
      "successfully replaced coreferences\n",
      "trying\n"
     ]
    },
    {
     "output_type": "stream",
     "name": "stderr",
     "text": [
      " 62%|██████▎   | 5/8 [08:13<03:27, 69.14s/it]"
     ]
    },
    {
     "output_type": "stream",
     "name": "stdout",
     "text": [
      "Jose Maria Aznar\n",
      "[[536, 552], [568, 568], [576, 576], [609, 611], [627, 627], [636, 637], [693, 694], [698, 698], [703, 703], [708, 708], [723, 723], [760, 760]]\n",
      "['A', 'strong', 'democracy', ',', 'Spain', 'now', 'needs', 'a', 'reformed', 'economy', '\\n', 'FOR', 'two', 'decades', 'Spain', 'has', 'been', 'one', 'of', 'Europe', \"'s\", 'stirring', 'success', 'stories', '.', 'The', 'transition', 'to', 'democratic', 'government', ',', 'after', 'the', 'death', 'in', '1975', 'of', 'dour', 'Generalissimo', 'Franco', ',', 'went', 'smoothly', 'enough', '.', 'Half', 'a', 'century', 'after', 'a', 'bloody', 'civil', 'war', 'and', '15', 'years', 'after', 'an', 'attempted', 'military', 'coup', ',', 'Spain', 'has', 'a', 'solid', 'democracy', 'and', 'an', 'economy', 'that', ',', 'with', 'vigorous', 'pruning', ',', 'could', 'be', 'sturdy', 'enough', 'to', 'meet', 'the', 'challenges', 'ahead', '.', 'For', 'this', ',', 'Felipe', 'Gonzalez', ',', 'reigning', 'Socialist', 'prime', 'minister', 'for', '13', 'years', 'but', 'likely', 'loser', 'in', 'the', 'general', 'election', 'on', 'March', '3rd', ',', 'deserves', 'much', 'credit', '.', 'How', 'could', 'Spain', 'manage', 'without', 'him', '?', '\\n', 'Under', 'Mr', 'Gonzalez', \"'s\", 'guidance', ',', 'the', 'Socialists', 'tossed', 'away', 'the', 'past', 'and', 'reinvented', 'themselves', 'as', 'free', '-', 'market', 'social', 'democrats', '.', 'Inward', '-', 'looking', ',', 'suspicious', ',', 'austere', 'Spain', 'became', 'outgoing', ',', 'cosmopolitan', 'and', 'relaxed', '.', 'It', 'joined', 'what', 'is', 'now', 'the', 'European', 'Union', 'and', 'NATo', '.', 'At', 'home', ',', 'the', 'power', 'of', 'the', 'old', 'Castilian', 'centre', 'has', 'sensibly', 'been', 'curbed', '.', 'The', 'outer', 'regions', ',', 'most', 'importantly', 'Catalonia', 'and', 'the', 'Basque', 'country', ',', 'have', 'been', 'given', 'enough', 'autonomy', 'to', 'satisfy', 'all', 'but', 'the', 'most', 'fanatical', 'of', 'separatists', '.', 'Class', '-', 'warring', 'egalitarians', 'on', 'the', 'left', 'and', 'corporatists', 'on', 'the', 'right', 'have', 'been', 'marginalised', '.', 'Some', 'of', 'this', 'had', 'begun', 'before', 'Mr', 'Gonzalez', 'won', 'power', '.', 'But', 'he', 'deserves', 'thanks', 'for', 'seeing', 'it', 'through', '.', '\\n', 'That', 'said', ',', 'however', ',', 'his', 'government', 'has', 'long', 'been', 'dying', 'on', 'its', 'feet', '.', 'A', 'string', 'of', 'scandals', 'has', 'brought', 'to', 'light', 'massive', 'corruption', 'and', 'worse', '.', 'A', 'former', 'interior', 'minister', 'is', 'accused', 'of', 'overseeing', 'death', 'squads', 'that', 'killed', 'more', 'than', 'a', 'score', 'of', 'suspected', 'Basque', 'terrorists', '-', 'several', 'of', 'whom', 'turned', 'out', 'to', 'be', 'innocent', '.', 'Mr', 'Gonzalez', 'has', 'lost', 'the', 'nation', \"'s\", 'trust', ',', 'not', 'because', 'he', 'is', 'thought', 'to', 'be', 'mired', 'personally', ',', 'but', 'because', 'he', 'has', 'seemed', 'negligent', 'towards', 'the', 'wrongdoing', 'of', 'his', 'cronies', '.', '\\n', 'Meanwhile', ',', 'Mr', 'Gonzalez', \"'s\", 'many', 'achievements', 'have', 'been', 'increasingly', 'overshadowed', 'by', 'his', 'failure', 'to', 'tackle', 'the', 'deeper', 'structural', 'problems', 'of', 'Spain', \"'s\", 'economy', '.', 'Although', 'some', 'figures', 'do', 'not', 'look', 'too', 'bad', '-', 'after', 'a', 'fierce', 'recession', 'in', 'the', 'early', 'i99os', ',', 'growth', 'is', 'back', 'to', 'about', '3', '%', 'a', 'year', 'and', 'inflation', 'is', 'down', 'to', '4%-Spain', 'has', 'the', 'highest', 'unemployment', 'rate', 'in', 'Europe', 'and', 'a', 'welfare', 'and', 'pensions', 'system', 'that', 'consumes', 'an', 'ever', 'growing', 'proportion', 'of', 'its', 'budget', '.', 'If', 'the', 'next', 'government', 'is', 'to', 'tackle', 'all', 'that', ',', 'and', 'stay', 'within', 'shouting', 'distance', 'of', 'the', 'criteria', 'for', 'joining', 'a', 'future', 'European', 'economic', 'and', 'monetary', 'union', ',', 'then', 'privatisation', 'and', 'deregulation', 'need', 'to', 'be', 'speeded', 'up', ',', 'stifling', 'labour', 'laws', 'need', 'to', 'be', 'axed', 'and', 'the', 'mess', 'which', 'masquerades', 'as', 'Spain', \"'s\", 'tax', 'system', 'has', 'to', 'be', 'sorted', 'out', '.', '\\n', 'But', 'Mr', 'Gonzalez', 'and', 'his', 'government', 'are', 'clean', 'out', 'of', 'ideas', '.', 'If', 'opinion', 'polls', 'are', 'to', 'be', 'believed', ',', 'their', 'time', 'is', 'now', 'up', '(', 'see', 'page', '52', ')', '.', 'Certainly', ',', 'Spain', 'could', 'use', 'a', 'less', 'winded', 'leader', ',', 'a', 'new', 'government', ',', 'and', 'a', 'fresh', 'spirit', 'of', 'reform', '.', '\\n', 'Jose', 'Maria', \"Aznar's\", ',', 'lacks', 'anything', 'like', 'the', 'Gonzalez', 'charisma', '.', 'A', 'strikingly', 'unflashy', 'former', 'tax', 'inspector', ',', 'Jose', 'Maria', \"Aznar's\", 'very', 'ordinariness', 'has', 'helped', 'convince', 'Spaniards', 'that', 'Jose', 'Maria', \"Aznar's\", 'party', 'has', 'exorcised', 'both', 'its', 'anti', '-', 'democratic', ',', 'Francoist', 'past', 'and', 'the', 'old', 'Castilian', 'authoritarianism', '.', 'If', 'Mr', 'Gonzalez', 'recreated', 'the', 'Socialists', 'as', 'a', 'party', 'of', 'the', 'centre', '-', 'left', ',', 'Jose', 'Maria', \"Aznar's\", 'party', 'now', 'smells', 'rosily', 'of', 'the', 'moderate', ',', 'pragmatic', 'centre', '-', 'right', '.', '\\n', 'Will', 'Jose', 'Maria', 'Aznar', 'do', 'better', '?', '\\n', 'But', 'there', ',', 'for', 'Jose', 'Maria', 'Aznar', 'and', 'for', 'Spain', ',', 'is', 'the', 'rub', '.', 'The', 'right', 'may', 'be', 'about', 'to', 'wrest', 'power', 'from', 'Mr', 'Gonzalez', \"'s\", 'weakened', 'Socialists', 'because', 'it', 'is', 'no', 'longer', 'frightening', '.', 'In', 'the', 'long', 'run', ',', 'however', ',', 'that', 'is', 'not', 'enough', '.', 'In', 'the', 'past', 'year', 'or', 'so', ',', 'as', 'the', 'Socialists', 'have', 'destroyed', 'themselves', ',', 'Jose', 'Maria', 'Aznar', 'has', 'cannily', 'held', 'Jose', 'Maria', \"Aznar's\", 'economic', 'cards', 'close', 'to', 'Jose', 'Maria', \"Aznar's\", 'chest', '.', 'But', 'if', 'Jose', 'Maria', 'Aznar', 'is', 'to', 'succeed', 'as', 'Spain', \"'s\", 'prime', 'minister', 'over', 'the', 'next', 'four', 'years', ',', 'Jose', 'Maria', 'Aznar', 'will', 'need', 'to', 'find', 'the', 'steel', 'to', 'push', 'through', 'radical', 'measures', 'which', ',', 'in', 'the', 'short', 'run', 'at', 'least', ',', 'will', 'cause', 'Spaniards', 'even', 'more', 'economic', 'pain', 'than', 'many', 'of', 'them', 'already', 'feel', '.', 'And', 'if', 'Jose', 'Maria', 'Aznar', 'can', 'do', 'that', ',', 'can', 'Spain', ',', 'its', 'social', 'fabric', 'already', 'stretched', 'by', 'unemployment', 'and', 'economic', 'uncertainty', ',', 'take', 'it', '?', 'Again', ',', 'it', 'is', 'much', 'to', 'Mr', 'Gonzalez', \"'s\", 'credit', 'that', 'Spain', 'probably', 'can', '.']\n",
      "successfully replaced coreferences\n",
      "trying\n"
     ]
    },
    {
     "output_type": "stream",
     "name": "stderr",
     "text": [
      " 75%|███████▌  | 6/8 [09:12<02:11, 65.54s/it]"
     ]
    },
    {
     "output_type": "stream",
     "name": "stdout",
     "text": [
      "Jose Maria Aznar\n",
      "[[0, 10], [28, 28], [54, 54], [68, 68], [87, 88], [91, 91], [94, 94], [102, 102], [114, 114], [132, 132], [224, 225], [235, 235], [242, 242], [257, 257], [274, 274], [525, 526], [553, 553], [760, 761], [803, 804]]\n",
      "['Jose', 'Maria', 'Aznar', 'may', 'be', 'hit', 'by', 'a', 'double', 'blow', 'on', 'March', '3rd', '.', 'Not', 'only', 'do', 'opinion', 'polls', 'suggest', 'Jose', 'Maria', 'Aznar', 'will', 'lose', 'a', 'general', 'election', 'on', 'that', 'day', 'to', 'the', 'conservative', 'People', \"'s\", 'Party', '(', 'rr', ')', ',', 'led', 'by', 'Jose', 'Maria', 'Aznar', ',', 'but', 'Jose', 'Maria', \"Aznar's\", 'Socialists', 'may', 'even', 'get', 'shunted', 'into', 'second', 'place', 'in', 'the', 'regional', 'parliament', 'of', 'Jose', 'Maria', \"Aznar's\", 'backyard', ',', 'the', 'once', 'impregnable', 'Socialist', 'fief', 'of', 'Andalusia', '.', 'After', 'more', 'than', '13', 'years', 'in', 'power', ',', 'Jose', 'Maria', 'Aznar', 'has', 'lost', 'Jose', 'Maria', \"Aznar's\", 'charisma', 'and', 'Jose', 'Maria', \"Aznar's\", 'political', 'touch', '.', '\\n', 'Felipe', ',', 'as', 'Jose', 'Maria', 'Aznar', 'is', 'universally', 'known', 'in', 'Andalusia', ',', 'has', 'tried', 'to', 'look', 'after', 'Jose', 'Maria', \"Aznar's\", 'own', ',', 'investing', 'more', 'than', '1,000', 'billion', 'pesetas', '(', '$', '8', 'billion', ')', 'in', 'infrastructure', 'there', 'since', 'Jose', 'Maria', 'Aznar', 'came', 'to', 'power', 'in', 'Madrid', '.', 'Yet', 'unemployment', ',', 'at', 'a', 'full', 'third', 'of', 'the', 'workforce', ',', 'is', '10', '%', 'higher', 'than', 'the', 'official', 'figure', 'in', 'Spain', 'as', 'a', 'whole', '.', 'Meanwhile', 'the', 'once', '-', 'solid', 'Socialist', 'vote', 'is', 'splitting', ',', 'as', 'it', 'is', 'elsewhere', 'in', 'Spain', ':', 'old', 'people', ',', 'unemployed', 'and', 'rural', 'folk', ',', 'nervous', 'that', 'a', 'conservative', 'government', 'might', 'cut', 'welfare', ',', 'remain', 'stubbornly', 'loyal', '.', 'But', 'the', 'young', 'and', 'the', 'goahead', ',', 'especially', 'in', 'towns', ',', 'are', 'thirsting', 'for', 'change', '.', '\\n', 'Throughout', 'the', 'general', 'election', 'campaign', 'Jose', 'Maria', 'Aznar', 'has', 'put', 'in', 'a', 'defensive', ',', 'lacklustre', 'performance', '.', 'Jose', 'Maria', \"Aznar's\", 'heart', 'is', 'not', 'in', 'it', '.', 'Jose', 'Maria', 'Aznar', 'has', 'been', 'demoralised', 'by', 'the', 'assassination', 'of', 'two', 'close', 'allies', 'during', 'the', 'campaign', '.', 'Jose', 'Maria', \"Aznar's\", 'panache', 'on', 'the', 'hustings', 'has', 'always', 'been', 'the', 'Socialists', \"'\", 'trump', 'card', '.', 'Yet', 'this', 'time', 'Jose', 'Maria', 'Aznar', 'has', 'been', 'heavily', 'criticised', 'for', 'promoting', 'a', 'campaign', 'video', 'which', 'crudely', 'depicts', 'the', 'PP', 'as', 'fascist', '-', 'style', 'oppressors', '.', 'The', 'Socialists', 'could', 'be', 'pulled', 'further', 'down', 'by', 'a', 'good', 'showing', 'from', 'the', 'United', 'Left', ',', 'mainly', 'former', 'communists', ',', 'who', 'won', '9.6', '%', 'last', 'time', 'round', ',', 'in', '1993', '.', '\\n', 'By', 'contrast', ',', 'the', 'increasingly', 'confident', 'Mr', 'Aznar', ',', 'who', 'has', 'doggedly', 'presented', 'his', 'party', 'as', 'middle', '-', 'of', '-', 'the', '-', 'road', ',', 'comes', 'across', 'as', 'intense', ',', 'clean', 'and', 'efficient', '.', 'If', 'opinion', 'polls', 'are', 'to', 'be', 'believed', ',', 'he', 'might', 'win', 'an', 'outright', 'majority', 'in', 'parliament', ',', 'thus', 'relieving', 'him', 'of', 'the', 'need', 'to', 'bargain', 'with', 'Catalan', 'and', 'other', 'regional', 'parties', '.', '\\n', 'The', 'economy', 'has', 'been', 'foremost', 'in', 'most', 'voters', \"'\", 'minds', '.', 'Having', 'watched', 'the', 'rough', 'ride', 'given', 'in', 'recent', 'months', 'to', 'Alain', 'Juppe', ',', 'France', \"'s\", 'prime', 'minister', ',', 'in', 'his', 'attempt', 'to', 'introduce', 'welfare', 'reform', ',', 'Mr', 'Aznar', 'has', 'promised', 'not', 'to', 'launch', 'a', 'similar', 'wholesale', 'attack', 'on', 'Spain', \"'s\", 'equally', 'bloated', 'system', '.', 'He', 'says', 'he', 'will', 'not', 'touch', 'pensions', '.', 'An', 'array', 'of', 'other', 'benefits', 'will', ',', 'he', 'says', ',', 'be', 'safe', '.', 'Instead', ',', 'if', 'elected', ',', 'he', 'will', 'immediately', '\"', 'consult', '\"', 'trade', 'unions', 'and', 'employers', '.', '\"', 'Social', 'cohesion', 'is', 'guaranteed', ',', '\"', 'he', 'told', 'an', 'audience', 'of', 'Catalan', 'businessmen', '.', '\\n', 'Still', ',', 'if', 'Spain', 'is', 'to', 'meet', 'the', 'criteria', 'for', 'economic', 'and', 'monetary', 'union', 'set', 'out', 'in', 'the', 'Maastricht', 'treaty', ',', 'as', 'prime', 'minister', 'Jose', 'Maria', 'Aznar', 'would', 'have', 'to', 'try', 'to', 'halve', 'the', 'budget', 'deficit', ',', 'currently', '5.9', '%', 'of', 'GDP', ',', 'over', 'the', 'next', 'three', 'years', 'and', 'bring', 'down', 'inflation', '.', 'Jose', 'Maria', 'Aznar', 'would', 'also', 'need', 'to', 'kill', 'or', 'sell', 'off', 'more', 'of', 'Spain', \"'s\", 'state', 'industries', ',', 'a', 'left', '-', 'over', 'of', 'Francoist', 'corporatism', 'and', 'protectionism', ',', 'and', 'reform', 'the', 'country', \"'s\", 'labour', 'laws', '.', 'Meanwhile', 'Mr', 'Aznar', 'promises', 'tax', 'cuts', ',', 'arguing', 'unconvincingly', 'that', 'he', 'can', 'find', 'the', 'revenue', 'largely', 'by', 'making', 'government', '\"', 'more', 'efficient', '\"', '.', 'And', 'all', 'this', ',', 'while', 'somehow', 'reducing', 'unemployment', '.', '\\n', 'Privately', ',', 'Mr', 'Aznar', 'knows', 'that', 'these', 'hopeful', 'assurances', 'do', 'not', 'add', 'up', '.', 'If', 'he', 'wins', 'the', 'election', ',', 'expect', 'him', 'to', 'declare', 'that', 'the', 'situation', 'is', 'even', 'worse', 'than', 'he', 'had', 'realised', '.', 'With', 'a', 'four', '-', 'year', 'mandate', 'ahead', 'of', 'him', ',', 'the', 'period', 'straight', 'after', 'the', 'election', 'would', 'be', 'the', 'best', 'moment', 'to', 'start', 'dishing', 'out', 'the', 'nastiest', 'medicine', '.', 'But', 'he', 'will', 'need', 'a', 'lot', 'of', 'nerve', '.', '\\n', 'Nor', 'is', 'it', 'really', 'clear', 'where', 'Mr', 'Aznar', 'stands', 'on', 'Europe', '.', 'On', 'the', 'whole', ',', 'the', 'conservatives', 'have', 'sounded', 'as', 'keen', 'as', 'the', 'Socialists', 'to', 'be', '\"', 'good', 'Europeans', '\"', '.', 'Mr', 'Aznar', 'pays', 'lip', '-', 'service', 'to', 'the', 'current', 'timetable', 'for', 'economic', 'and', 'monetary', 'union', 'by', '1999', '.', 'Once', 'in', 'office', ',', 'he', 'may', 'well', 'prove', 'more', 'sceptical', '.', 'He', 'has', 'already', 'accused', 'Jose', 'Maria', 'Aznar', 'of', 'being', 'too', 'keen', 'on', 'European', 'integration', ',', 'at', 'a', 'cost', 'to', 'national', 'pride', 'and', 'interests', '.', 'He', 'would', 'probably', 'like', 'the', 'Maastricht', 'timetable', 'to', 'be', 'slowed', 'down', '.', 'And', 'he', 'is', 'irritated', 'bywhat', 'he', 'senses', 'to', 'be', 'tacit', 'support', 'for', 'Jose', 'Maria', 'Aznar', 'from', 'Helmut', 'Kohl', ',', 'the', 'German', 'chancellor', '.', '\\n', 'Terrorism', 'has', 'also', 'become', 'a', 'campaign', 'issue', '.', 'The', 'Basque', 'terrorist', 'group', ',', 'ETA', ',', 'currently', 'holds', 'two', 'kidnap', 'victims', 'and', 'has', 'carried', 'out', 'two', 'assassinations', 'in', 'the', 'past', 'fortnight', '.', 'If', 'the', 'conservatives', 'win', ',', 'the', 'terror', 'could', 'increase', '.', 'Mr', 'Aznar', 'has', 'made', 'it', 'plain', 'he', 'wants', 'to', 'govern', 'without', 'Catalan', 'and', 'Basque', 'nationalist', 'support', '.', 'That', 'has', 'hurt', 'regional', 'sensibilities', '-', 'and', 'could', 'even', 'revive', 'support', 'for', 'terror', 'on', 'the', 'Basque', 'nationalist', 'fringe', '.', 'With', 'ETA', 'under', 'the', 'command', 'of', 'new', ',', 'young', 'and', 'relentlessly', 'violent', 'leaders', ',', 'the', 'chances', 'of', 'a', 'conservative', 'government', 'being', 'able', 'to', 'win', 'a', 'negotiated', 'settlement', 'are', 'zero', '.', 'Yet', 'Mr', 'Aznar', 'might', 'shrewdly', 'hope', 'to', 'quell', 'unease', 'by', 'tapping', 'a', 'respected', 'Basque', 'as', 'his', 'interior', 'minister', '.', '\\n', 'As', 'for', 'the', 'non', '-', 'violent', 'Basque', 'and', 'Catalan', 'parties', ',', 'a', 'victorious', 'Mr', 'Aznar', 'might', 'be', 'urged', 'to', 'offer', 'them', 'a', 'pact', '(', 'though', 'not', 'a', 'place', 'in', 'government', ')', 'along', 'the', 'lines', 'of', 'the', 'one', 'he', 'says', 'he', 'will', 'offer', 'to', 'the', 'trade', 'unions', 'and', 'employers', '.', 'He', 'is', 'unlikely', 'to', 'want', 'to', 'start', 'off', 'in', 'government', 'with', 'both', 'the', 'centre', '-', 'left', 'and', 'the', 'nationalists', 'lined', 'up', 'against', 'him', '.', 'But', 'tactics', 'is', 'one', 'thing', ',', 'backbone', 'another', '.', 'If', 'he', 'is', 'to', 'govern', 'Spain', 'well', ',', 'Mr', 'Aznar', 'will', 'need', 'both', '.']\n",
      "successfully replaced coreferences\n",
      "trying\n"
     ]
    },
    {
     "output_type": "stream",
     "name": "stderr",
     "text": [
      " 88%|████████▊ | 7/8 [10:05<01:01, 61.41s/it]"
     ]
    },
    {
     "output_type": "stream",
     "name": "stdout",
     "text": [
      "Jose Maria Aznar\n",
      "excepting\n",
      "list indices must be integers or slices, not NoneType\n",
      "trying\n"
     ]
    },
    {
     "output_type": "stream",
     "name": "stderr",
     "text": [
      "100%|██████████| 8/8 [11:01<00:00, 82.66s/it]"
     ]
    },
    {
     "output_type": "stream",
     "name": "stdout",
     "text": [
      "Jose Maria Aznar\n",
      "[[185, 187], [189, 189], [285, 311], [315, 315], [324, 326], [332, 332], [377, 378], [384, 384], [403, 404], [408, 408], [418, 418], [504, 505], [506, 506], [540, 541], [548, 550], [552, 552], [640, 641], [655, 655], [658, 659], [664, 664], [678, 678], [691, 691], [701, 701], [728, 729], [738, 739], [748, 748], [758, 759], [769, 769], [817, 818], [828, 828], [883, 884], [1012, 1013], [1025, 1025]]\n",
      "['An', 'indecisive', 'result', 'in', 'Spain', \"'s\", 'general', 'election', 'last', 'week', 'carries', 'the', 'risk', 'of', 'weak', 'government', 'and', 'the', 'postponement', 'of', 'badly', 'needed', 'reform', '\\n', 'AN', 'ERA', 'may', 'have', 'ended', '.', 'Spain', \"'s\", 'Socialists', ',', 'for', 'the', 'time', 'being', ',', 'are', 'out', '.', 'But', 'the', 'heralded', 'new', 'dawn', 'of', 'conservatism', ',', 'let', 'alone', 'radical', 'conservatism', ',', 'is', 'not', 'at', 'hand', '.', 'Worse', 'for', 'Spain', ',', 'the', 'country', 'may', 'now', 'enter', 'a', 'period', 'of', 'weak', 'and', 'wishy', '-', 'washy', 'government', ',', 'with', 'parties', 'and', 'factions', 'vying', 'for', 'advantage', ',', 'terrorists', 'and', 'regionalists', 'stirring', 'the', 'pot', ',', 'and', 'no', 'person', 'and', 'no', 'new', 'set', 'of', 'ideas', 'emerging', 'as', 'the', 'dynamo', 'for', 'rejuvenating', 'the', 'country', '.', 'Once', 'again', ',', 'a', 'Spanish', 'prime', 'minister', 'at', 'the', 'head', 'of', 'the', 'largest', 'party', 'is', 'likely', 'to', 'be', 'yanked', 'this', 'way', 'and', 'that', 'by', 'a', 'canny', 'provincial', 'boss', 'concerned', 'more', 'with', 'the', 'fate', 'of', 'Catalonia', 'than', 'the', 'fate', 'of', 'Spain', '.', 'The', 'likeliest', 'outcome', ':', 'fuzziness', 'and', 'drift', '.', 'Spain', ',', 'as', 'a', 'result', 'of', 'the', 'election', 'on', 'March', '3rd', ',', 'has', 'lost', '.', '\\n', 'Numerically', ',', 'there', 'was', 'indeed', 'a', 'winner', '.', 'Jose', 'Maria', 'Aznar', 'and', 'Jose', 'Maria', \"Aznar's\", 'conservative', 'People', \"'s\", 'Party', 'won', '38.9', '%', 'of', 'the', 'votes', 'and', '156', 'seats', 'against', 'Felipe', 'Gonzalez', 'and', 'his', 'Socialists', ',', 'who', 'took', '37.5', '%', 'of', 'the', 'vote', 'and', '141', 'seats', '.', 'That', 'was', 'victory', ',', 'of', 'a', 'kind', ',', 'for', 'the', 'right', '.', 'It', 'was', ',', 'after', 'all', ',', 'the', 'first', 'time', 'in', 'Spanish', 'history', 'that', 'straightforward', 'conservatives', '(', 'as', 'opposed', 'to', 'the', 'technocrats', 'who', 'ruled', 'Spain', 'in', 'the', 'immediate', 'transition', 'to', 'democracy', 'after', 'General', 'Franco', \"'s\", 'death', 'in', '1975', ')', 'had', 'ever', 'been', 'freely', 'elected', '.', '\\n', 'But', 'it', 'was', 'a', 'big', 'disappointment', 'for', 'Jose', 'Maria', \"Aznar's\", '.', 'Instead', ',', 'Jose', 'Maria', 'Aznar', 'fell', '20', 'seats', 'short', '.', 'The', 'margin', 'of', 'Jose', 'Maria', \"Aznar's\", 'victory', 'was', 'so', 'narrow', 'that', 'Jose', 'Maria', 'Aznar', 'has', 'immediately', 'been', 'sucked', 'into', 'the', 'messy', 'business', 'of', 'deal', '-', 'making', 'with', 'the', 'cleverest', 'horse', '-', 'trader', 'in', 'Spanish', 'politics', ':', 'Jordi', 'Pujol', ',', 'who', 'has', 'run', 'Catalonia', 'for', 'nearly', 'two', 'decades', 'and', 'whose', '16', 'seats', 'could', ',', 'if', 'he', 'wanted', ',', 'deprive', 'Jose', 'Maria', 'Aznar', 'of', 'the', 'vote', 'of', 'confidence', 'Jose', 'Maria', 'Aznar', 'will', 'need', 'to', 'form', 'a', 'government', '.', '\\n', 'Even', 'those', 'Catalan', 'seats', 'might', 'not', 'be', 'enough', 'to', 'enable', 'Jose', 'Maria', 'Aznar', 'to', 'govern', '.', 'Jose', 'Maria', 'Aznar', 'also', 'needs', 'a', 'clutch', 'of', 'Canary', 'Islanders', 'to', 'keep', 'Jose', 'Maria', 'Aznar', 'going', '.', 'If', 'they', 'do', 'not', 'co', '-', 'operate', ',', 'there', 'are', 'a', 'handful', 'of', 'moderate', 'Basques', ',', 'a', 'couple', 'of', 'Galicians', 'and', 'a', 'lone', 'Valencian', 'to', 'be', 'kept', 'in', 'play', '.', '\\n', 'In', 'theory', ',', 'Mr', 'Gonzalez', 'could', 'still', 'try', 'to', 'cobble', 'together', 'a', 'coalition', 'of', 'his', 'own', '(', 'though', 'he', 'and', 'the', 'mainly', 'ex', '-', 'communist', 'United', 'Left', ',', 'which', 'won', '10.6', '%', 'of', 'the', 'vote', 'and', '21', 'seats', ',', 'have', 'sworn', 'not', 'to', 'canoodle', 'with', 'each', 'other', ')', ',', 'which', 'could', 'deny', 'Jose', 'Maria', 'Aznar', 'Jose', 'Maria', \"Aznar's\", 'working', 'majority', 'and', 'even', 'present', 'itself', 'as', 'a', 'ruling', 'alternative', '.', 'In', 'fact', ',', 'Mr', 'Gonzalez', 'seems', 'to', 'have', 'accepted', 'the', 'people', \"'s\", 'dismissal', '.', 'Now', 'his', 'most', 'likely', 'aim', 'is', 'to', 'watch', 'Jose', 'Maria', 'Aznar', 'from', 'the', 'sidelines', ',', 'chuckling', 'as', 'Jose', 'Maria', 'Aznar', 'ties', 'Jose', 'Maria', 'Aznar', 'in', 'knots', 'trying', 'against', 'the', 'odds', 'to', 'run', 'a', 'coherent', 'government', '.', '\\n', 'The', 'key', ',', 'though', ',', 'is', 'once', 'again', 'Mr', 'Pujol', '.', 'After', 'Mr', 'Gonzalez', 'won', 'the', '1993', 'election', 'without', 'securing', 'an', 'outright', 'majority', ',', 'the', 'Catalan', 'leader', 'made', 'a', 'pact', 'with', 'him', ',', 'whereby', 'Mr', 'Pujol', 'propped', 'up', 'the', 'minority', 'government', 'but', 'refused', 'to', 'form', 'a', 'coalition', '.', 'Then', ',', 'as', 'the', 'corruption', 'and', 'other', 'scandals', 'plaguing', 'the', 'Socialists', 'got', 'out', 'of', 'hand', ',', 'Mr', 'Pujol', 'felt', 'obliged', 'to', 'withdraw', 'his', 'support', 'altogether', '.', 'Jose', 'Maria', 'Aznar', 'is', 'now', 'looking', 'glumly', 'at', 'a', 'similar', 'deal', '.', 'Mr', 'Pujol', 'will', 'make', 'Jose', 'Maria', 'Aznar', 'sweat', '.', 'Jose', 'Maria', 'Aznar', 'could', 'look', 'bedraggled', 'before', 'Jose', 'Maria', 'Aznar', 'has', 'even', 'entered', 'the', 'prime', 'minister', \"'s\", 'palace', '.', '\\n', 'In', 'economics', ',', 'Jose', 'Maria', 'Aznar', 'and', 'the', 'businessminded', 'Mr', 'Pujol', 'can', 'probably', 'come', 'to', 'terms', ',', 'though', 'Jose', 'Maria', 'Aznar', 'is', 'less', 'likely', 'to', 'back', 'radical', 'policies', 'for', 'which', 'Jose', 'Maria', 'Aznar', 'would', 'then', 'have', 'to', 'share', 'the', 'inevitable', 'unpopularity', ',', 'at', 'least', 'in', 'the', 'short', 'term', '.', 'On', 'constitutional', 'matters', ',', 'however', ',', 'co', '-', 'operation', 'between', 'Jose', 'Maria', 'Aznar', 'and', 'Mr', 'Pujol', 'will', 'be', 'even', 'trickier', '.', 'Jose', 'Maria', 'Aznar', 'is', 'bound', 'to', 'seek', 'ever', 'greater', 'concessions', 'for', 'Jose', 'Maria', \"Aznar's\", 'fief', ',', 'in', 'such', 'matters', 'as', 'revenue', 'raising', '.', 'Jose', 'Maria', 'Aznar', 'is', 'already', 'offering', 'to', 'bargain', 'over', 'tax', '.', 'Yet', 'Jose', 'Maria', \"Aznar's\", 'Castilian', 'core', 'constituency', 'already', 'thinks', 'the', 'regionalists', 'have', 'been', 'getting', 'so', 'much', 'autonomy', 'that', 'the', 'fabric', 'of', 'the', 'Spanish', 'state', 'is', 'threatened', '.', '\\n', 'The', 'poker', 'could', 'go', 'on', 'for', 'weeks', '.', 'King', 'Juan', 'Carlos', ',', 'who', 'has', 'a', 'delicate', 'job', 'on', 'his', 'hands', ',', 'will', 'give', 'Jose', 'Maria', 'Aznar', 'about', 'a', 'month', 'to', 'find', 'enough', 'votes', 'to', 'give', 'Jose', 'Maria', 'Aznar', 'an', 'absolute', 'majority', 'of', 'the', 'whole', 'of', 'the', 'lower', 'house', 'of', 'the', 'Cortes', 'needed', 'to', 'install', 'a', 'new', 'government', '.', 'Failing', 'that', ',', 'a', 'second', 'vote', 'within', 'a', 'few', 'days', ',', 'with', 'a', 'majority', 'merely', 'of', 'those', 'voting', ',', 'would', 'be', 'enough', 'to', 'endorse', 'a', 'new', 'government', '.', 'The', 'Catalans', 'might', 'abstain', ',', 'allowing', 'Jose', 'Maria', 'Aznar', 'to', 'form', 'a', 'government', ',', 'but', 'a', 'limp', 'one', '.', '\\n', 'The', 'puzzle', 'of', 'the', 'election', 'is', 'why', 'Mr', 'Gonzalez', ',', 'with', 'unemployment', 'officially', 'stuck', 'at', '23', '%', 'and', 'his', 'government', 'mired', 'in', 'corruption', ',', 'did', 'as', 'well', 'as', 'he', 'did', '.', 'The', 'result', ',', 'in', 'the', 'end', ',', 'testifies', 'to', 'Mr', 'Gonzalez', \"'s\", 'enduring', 'appeal', 'to', 'those', 'in', 'the', 'bottom', 'half', 'of', 'the', 'Spanish', 'pile', '.', 'Despite', 'the', 'shakiness', 'of', 'its', 'economy', ',', 'the', 'Socialists', 'even', 'managed', 'to', 'win', 'a', 'regional', 'election', 'in', 'Mr', 'Gonzalez', \"'s\", 'backyard', ',', 'Andalusia', '.', 'With', 'left', '-', 'wing', 'parties', 'still', 'corralling', 'more', 'than', 'half', 'the', 'vote', 'nationwide', ',', 'the', 'heart', 'of', 'Spain', 'still', ',', 'it', 'seems', ',', 'beats', 'a', 'shade', 'to', 'the', 'left', 'of', 'centre', '.', '\\n', 'And', 'why', 'did', 'Jose', 'Maria', 'Aznar', 'not', 'do', 'better', '?', 'Many', 'Spaniards', 'were', 'evidently', 'not', 'reassured', 'by', 'Jose', 'Maria', \"Aznar's\", 'protestations', 'that', 'the', 'new', 'Spanish', 'right', 'has', 'exorcised', 'the', 'ghosts', 'of', 'the', 'authoritarian', 'past', '.', 'The', 'rural', 'poor', 'and', 'the', 'elderly', 'were', 'worried', 'that', 'the', 'right', 'might', 'cut', 'welfare', '.', 'Many', 'people', 'in', 'the', 'outlying', 'regions', ',', 'especially', 'Basques', 'and', 'Catalans', ',', 'still', 'suspect', 'that', 'the', 'right', 'wants', 'to', 'shut', 'them', 'up', '.', 'Despite', 'the', 'rise', 'of', 'a', 'middleof', '-', 'the', '-', 'road', 'urban', 'middle', 'class', ',', 'perhaps', 'Spain', 'is', 'still', 'more', 'a', 'country', 'of', 'two', 'nations', 'than', 'commentators', 'in', 'Madrid', 'had', 'cared', 'to', 'admit', '.', '\\n', 'The', 'upshot', 'is', 'threefold', '.', 'Spain', \"'s\", 'new', 'government', 'is', 'likely', 'to', 'be', 'weak', '.', 'Radical', 'reform', 'is', 'likely', 'to', 'be', 'postponed', '.', 'And', 'Spain', 'will', 'miss', 'an', 'early', 'chance', 'to', 'shape', 'up', 'as', 'a', 'competitive', 'country', 'in', '21st', '-', 'century', 'Europe', '.', 'A', 'new', 'election', ',', 'perhaps', 'within', 'the', 'year', ',', 'might', 'be', 'a', 'way', 'out', ',', 'though', 'it', 'might', 'produce', 'the', 'same', 'result', '.', 'Meanwhile', ',', 'politicians', 'in', 'Madrid', 'are', 'already', 'muttering', 'darkly', 'about', 'the', '\"', 'Italianisation', 'of', 'Spanish', 'politics', '\"', '.', 'Not', 'good', '.']\n",
      "successfully replaced coreferences\n",
      "Time to coresolve 8 observations: 0:11:01.314356\n"
     ]
    },
    {
     "output_type": "stream",
     "name": "stderr",
     "text": [
      "\n"
     ]
    }
   ],
   "metadata": {}
  }
 ],
 "metadata": {
  "orig_nbformat": 4,
  "language_info": {
   "name": "python",
   "version": "3.9.1",
   "mimetype": "text/x-python",
   "codemirror_mode": {
    "name": "ipython",
    "version": 3
   },
   "pygments_lexer": "ipython3",
   "nbconvert_exporter": "python",
   "file_extension": ".py"
  },
  "kernelspec": {
   "name": "python3",
   "display_name": "Python 3.9.1 64-bit"
  },
  "interpreter": {
   "hash": "ac59ebe37160ed0dfa835113d9b8498d9f09ceb179beaac4002f036b9467c963"
  }
 },
 "nbformat": 4,
 "nbformat_minor": 2
}