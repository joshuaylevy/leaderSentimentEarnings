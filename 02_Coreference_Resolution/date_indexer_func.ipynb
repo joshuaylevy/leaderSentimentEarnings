{
 "cells": [
  {
   "cell_type": "code",
   "execution_count": 14,
   "source": [
    "import pandas as pd\r\n",
    "import os\r\n",
    "from tqdm import tqdm\r\n",
    "from datetime import datetime as dt\r\n",
    "\r\n",
    "date_index_reference = 'issue_sheet_index.csv'\r\n",
    "# chunksize = 1000\r\n",
    "date_format = '%d-%b-%y'\r\n",
    "custom_date_parser = lambda x: dt.strptime(x, date_format)\r\n",
    "\r\n",
    "if not os.path.isfile(date_index_reference):\r\n",
    "    print('date index needs to be instantiated, proceeding to do that')\r\n",
    "    #Initialize the index df\r\n",
    "    index_df = pd.DataFrame([], columns=['date_issue', 'sheet_path', 'sheet_num'])\r\n",
    "\r\n",
    "    formatted_csv_path = '../00_The_Economist_Scraper/formatted_csvs/'\r\n",
    "    formatted_csv_stub = \"formatted_sub_article_text\"\r\n",
    "    suffix = '.csv'\r\n",
    "\r\n",
    "    # GOING THROUGH EACH FORMATTED CSV\r\n",
    "    for sub_csv_index in tqdm(range(0,3)):\r\n",
    "        read_path = formatted_csv_path + formatted_csv_stub + str(sub_csv_index) + suffix\r\n",
    "        temp_df =  pd.read_csv(read_path, parse_dates=['date'], date_parser=custom_date_parser)\r\n",
    "\r\n",
    "        # Identifying unique dates\r\n",
    "        temp_df = temp_df.drop_duplicates(subset=['date'], keep='first')\r\n",
    "        temp_df = temp_df['date']\r\n",
    "\r\n",
    "        temp_index = pd.DataFrame([], columns=['date_issue', 'sheet_path', 'sheet_num'])\r\n",
    "\r\n",
    "        # Pulling out the info of interest \r\n",
    "        for issue_row in tqdm(temp_df.index.tolist()):\r\n",
    "            # print(temp_df.head(5))\r\n",
    "            row_obs = temp_df.loc[issue_row]\r\n",
    "            print(row_obs)\r\n",
    "            temp_index.loc[issue_row, 'date_issue'] = row_obs.date\r\n",
    "            temp_index.loc[issue_row, 'sheet_path'] = formatted_csv_path + formatted_csv_stub + str(sub_csv_index) + suffix\r\n",
    "            temp_index.loc[issue_row, 'sheet_num'] = sub_csv_index\r\n",
    "        ### REMEMBER THAT A DATE MIGHT APPEAR IN/CROSS OVER MORE THAN ONE SHEET\r\n",
    "        # Need to concat and reset indices because first instances of different issues may appear on the same row (i.e. \"index\" of temp_df) of different sheets. Need to do this to avoid conflicts\r\n",
    "        index_df = pd.concat([index_df, temp_index], ignore_index=True)\r\n",
    "        index_df.reset_index(drop=True, inplace=True)\r\n",
    "\r\n",
    "    index_df.to_csv(date_index_reference, index=False)\r\n",
    "        \r\n",
    "else:\r\n",
    "    print('Issues are already indexed for their dates, carry on')\r\n",
    "    date_index_df = pd.read_csv(date_index_reference)\r\n",
    "\r\n",
    "print(index_df.head(5))\r\n"
   ],
   "outputs": [
    {
     "output_type": "stream",
     "name": "stdout",
     "text": [
      "date index needs to be instantiated, proceeding to do that\n"
     ]
    },
    {
     "output_type": "stream",
     "name": "stderr",
     "text": [
      "100%|██████████| 16/16 [00:00<00:00, 1782.72it/s]\n"
     ]
    },
    {
     "output_type": "stream",
     "name": "stdout",
     "text": [
      "1992-01-04 00:00:00\n",
      "1992-01-11 00:00:00\n",
      "1992-02-15 00:00:00\n",
      "1992-02-22 00:00:00\n",
      "1992-02-29 00:00:00\n",
      "1992-03-07 00:00:00\n",
      "1992-03-14 00:00:00\n",
      "1992-03-21 00:00:00\n",
      "1992-03-28 00:00:00\n",
      "1992-04-04 00:00:00\n",
      "1992-04-11 00:00:00\n",
      "1992-04-18 00:00:00\n",
      "1992-04-25 00:00:00\n",
      "1992-05-02 00:00:00\n",
      "1992-05-09 00:00:00\n",
      "1992-05-16 00:00:00\n"
     ]
    },
    {
     "output_type": "stream",
     "name": "stderr",
     "text": [
      "100%|██████████| 14/14 [00:00<00:00, 1559.59it/s]\n",
      " 67%|██████▋   | 2/3 [00:00<00:00, 19.47it/s]"
     ]
    },
    {
     "output_type": "stream",
     "name": "stdout",
     "text": [
      "1992-05-16 00:00:00\n",
      "1992-05-23 00:00:00\n",
      "1992-05-30 00:00:00\n",
      "1992-06-06 00:00:00\n",
      "1992-06-20 00:00:00\n",
      "1992-07-04 00:00:00\n",
      "1992-07-11 00:00:00\n",
      "1992-07-18 00:00:00\n",
      "1992-07-25 00:00:00\n",
      "1992-08-01 00:00:00\n",
      "1992-08-08 00:00:00\n",
      "1992-08-22 00:00:00\n",
      "1992-08-29 00:00:00\n",
      "1992-09-05 00:00:00\n"
     ]
    },
    {
     "output_type": "stream",
     "name": "stderr",
     "text": []
    },
    {
     "output_type": "stream",
     "name": "stdout",
     "text": [
      "1992-09-05 00:00:00\n",
      "1992-09-12 00:00:00"
     ]
    },
    {
     "output_type": "stream",
     "name": "stderr",
     "text": [
      "100%|██████████| 14/14 [00:00<00:00, 2339.55it/s]\n",
      "100%|██████████| 3/3 [00:00<00:00, 16.44it/s]"
     ]
    },
    {
     "output_type": "stream",
     "name": "stdout",
     "text": [
      "\n",
      "1992-09-19 00:00:00\n",
      "1992-09-26 00:00:00\n",
      "1992-10-03 00:00:00\n",
      "1992-10-10 00:00:00\n",
      "1992-10-24 00:00:00\n",
      "1992-10-31 00:00:00\n",
      "1992-11-07 00:00:00\n",
      "1992-11-14 00:00:00\n",
      "1992-11-21 00:00:00\n",
      "1992-11-28 00:00:00\n",
      "1992-12-12 00:00:00\n",
      "1992-12-19 00:00:00\n",
      "                                          date_issue  \\\n",
      "0  <built-in method date of Timestamp object at 0...   \n",
      "1  <built-in method date of Timestamp object at 0...   \n",
      "2  <built-in method date of Timestamp object at 0...   \n",
      "3  <built-in method date of Timestamp object at 0...   \n",
      "4  <built-in method date of Timestamp object at 0...   \n",
      "\n",
      "                                          sheet_path sheet_num  \n",
      "0  ../00_The_Economist_Scraper/formatted_csvs/../...         0  \n",
      "1  ../00_The_Economist_Scraper/formatted_csvs/../...         0  \n",
      "2  ../00_The_Economist_Scraper/formatted_csvs/../...         0  \n",
      "3  ../00_The_Economist_Scraper/formatted_csvs/../...         0  \n",
      "4  ../00_The_Economist_Scraper/formatted_csvs/../...         0  \n"
     ]
    },
    {
     "output_type": "stream",
     "name": "stderr",
     "text": [
      "\n"
     ]
    }
   ],
   "metadata": {}
  }
 ],
 "metadata": {
  "orig_nbformat": 4,
  "language_info": {
   "name": "python",
   "version": "3.9.7",
   "mimetype": "text/x-python",
   "codemirror_mode": {
    "name": "ipython",
    "version": 3
   },
   "pygments_lexer": "ipython3",
   "nbconvert_exporter": "python",
   "file_extension": ".py"
  },
  "kernelspec": {
   "name": "python3",
   "display_name": "Python 3.9.7 64-bit (windows store)"
  },
  "interpreter": {
   "hash": "eee4b454d9c886d42d598d46356540012445065f4eb18fec34c9038948f94cf2"
  }
 },
 "nbformat": 4,
 "nbformat_minor": 2
}